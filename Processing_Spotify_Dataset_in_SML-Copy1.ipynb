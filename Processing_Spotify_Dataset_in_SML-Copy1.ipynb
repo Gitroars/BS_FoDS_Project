{
 "cells": [
  {
   "cell_type": "markdown",
   "metadata": {
    "id": "prHUwge-q7JD"
   },
   "source": [
    "# Import Library and Dataset"
   ]
  },
  {
   "cell_type": "code",
   "execution_count": 81,
   "metadata": {
    "id": "DhA9Pu0b5GRB"
   },
   "outputs": [],
   "source": [
    "import matplotlib.pyplot as plt\n",
    "import matplotlib as pt\n",
    "import pandas as pd\n",
    "from sklearn import datasets\n",
    "from sklearn.svm import SVC\n",
    "import numpy as np\n",
    "from sklearn.metrics import accuracy_score\n",
    "import seaborn as sns\n",
    "from sklearn.linear_model import LogisticRegression\n",
    "from sklearn.model_selection import train_test_split"
   ]
  },
  {
   "cell_type": "code",
   "execution_count": 82,
   "metadata": {
    "colab": {
     "base_uri": "https://localhost:8080/",
     "height": 423
    },
    "id": "gHuVXXer5Mbn",
    "outputId": "234dbbaf-2639-48de-cb1e-d8e92df1e295"
   },
   "outputs": [
    {
     "data": {
      "text/html": [
       "<div>\n",
       "<style scoped>\n",
       "    .dataframe tbody tr th:only-of-type {\n",
       "        vertical-align: middle;\n",
       "    }\n",
       "\n",
       "    .dataframe tbody tr th {\n",
       "        vertical-align: top;\n",
       "    }\n",
       "\n",
       "    .dataframe thead th {\n",
       "        text-align: right;\n",
       "    }\n",
       "</style>\n",
       "<table border=\"1\" class=\"dataframe\">\n",
       "  <thead>\n",
       "    <tr style=\"text-align: right;\">\n",
       "      <th></th>\n",
       "      <th>Index</th>\n",
       "      <th>Title</th>\n",
       "      <th>Artist</th>\n",
       "      <th>Top Genre</th>\n",
       "      <th>Year</th>\n",
       "      <th>Beats Per Minute (BPM)</th>\n",
       "      <th>Energy</th>\n",
       "      <th>Danceability</th>\n",
       "      <th>Loudness (dB)</th>\n",
       "      <th>Liveness</th>\n",
       "      <th>Valence</th>\n",
       "      <th>Length (Duration)</th>\n",
       "      <th>Acousticness</th>\n",
       "      <th>Speechiness</th>\n",
       "      <th>Popularity</th>\n",
       "    </tr>\n",
       "  </thead>\n",
       "  <tbody>\n",
       "    <tr>\n",
       "      <th>0</th>\n",
       "      <td>1</td>\n",
       "      <td>Sunrise</td>\n",
       "      <td>Norah Jones</td>\n",
       "      <td>adult standards</td>\n",
       "      <td>2004</td>\n",
       "      <td>157</td>\n",
       "      <td>30</td>\n",
       "      <td>53</td>\n",
       "      <td>-14</td>\n",
       "      <td>11</td>\n",
       "      <td>68</td>\n",
       "      <td>201</td>\n",
       "      <td>94</td>\n",
       "      <td>3</td>\n",
       "      <td>71</td>\n",
       "    </tr>\n",
       "    <tr>\n",
       "      <th>1</th>\n",
       "      <td>2</td>\n",
       "      <td>Black Night</td>\n",
       "      <td>Deep Purple</td>\n",
       "      <td>album rock</td>\n",
       "      <td>2000</td>\n",
       "      <td>135</td>\n",
       "      <td>79</td>\n",
       "      <td>50</td>\n",
       "      <td>-11</td>\n",
       "      <td>17</td>\n",
       "      <td>81</td>\n",
       "      <td>207</td>\n",
       "      <td>17</td>\n",
       "      <td>7</td>\n",
       "      <td>39</td>\n",
       "    </tr>\n",
       "    <tr>\n",
       "      <th>2</th>\n",
       "      <td>3</td>\n",
       "      <td>Clint Eastwood</td>\n",
       "      <td>Gorillaz</td>\n",
       "      <td>alternative hip hop</td>\n",
       "      <td>2001</td>\n",
       "      <td>168</td>\n",
       "      <td>69</td>\n",
       "      <td>66</td>\n",
       "      <td>-9</td>\n",
       "      <td>7</td>\n",
       "      <td>52</td>\n",
       "      <td>341</td>\n",
       "      <td>2</td>\n",
       "      <td>17</td>\n",
       "      <td>69</td>\n",
       "    </tr>\n",
       "    <tr>\n",
       "      <th>3</th>\n",
       "      <td>4</td>\n",
       "      <td>The Pretender</td>\n",
       "      <td>Foo Fighters</td>\n",
       "      <td>alternative metal</td>\n",
       "      <td>2007</td>\n",
       "      <td>173</td>\n",
       "      <td>96</td>\n",
       "      <td>43</td>\n",
       "      <td>-4</td>\n",
       "      <td>3</td>\n",
       "      <td>37</td>\n",
       "      <td>269</td>\n",
       "      <td>0</td>\n",
       "      <td>4</td>\n",
       "      <td>76</td>\n",
       "    </tr>\n",
       "    <tr>\n",
       "      <th>4</th>\n",
       "      <td>5</td>\n",
       "      <td>Waitin' On A Sunny Day</td>\n",
       "      <td>Bruce Springsteen</td>\n",
       "      <td>classic rock</td>\n",
       "      <td>2002</td>\n",
       "      <td>106</td>\n",
       "      <td>82</td>\n",
       "      <td>58</td>\n",
       "      <td>-5</td>\n",
       "      <td>10</td>\n",
       "      <td>87</td>\n",
       "      <td>256</td>\n",
       "      <td>1</td>\n",
       "      <td>3</td>\n",
       "      <td>59</td>\n",
       "    </tr>\n",
       "    <tr>\n",
       "      <th>...</th>\n",
       "      <td>...</td>\n",
       "      <td>...</td>\n",
       "      <td>...</td>\n",
       "      <td>...</td>\n",
       "      <td>...</td>\n",
       "      <td>...</td>\n",
       "      <td>...</td>\n",
       "      <td>...</td>\n",
       "      <td>...</td>\n",
       "      <td>...</td>\n",
       "      <td>...</td>\n",
       "      <td>...</td>\n",
       "      <td>...</td>\n",
       "      <td>...</td>\n",
       "      <td>...</td>\n",
       "    </tr>\n",
       "    <tr>\n",
       "      <th>1989</th>\n",
       "      <td>1990</td>\n",
       "      <td>Heartbreak Hotel</td>\n",
       "      <td>Elvis Presley</td>\n",
       "      <td>adult standards</td>\n",
       "      <td>1958</td>\n",
       "      <td>94</td>\n",
       "      <td>21</td>\n",
       "      <td>70</td>\n",
       "      <td>-12</td>\n",
       "      <td>11</td>\n",
       "      <td>72</td>\n",
       "      <td>128</td>\n",
       "      <td>84</td>\n",
       "      <td>7</td>\n",
       "      <td>63</td>\n",
       "    </tr>\n",
       "    <tr>\n",
       "      <th>1990</th>\n",
       "      <td>1991</td>\n",
       "      <td>Hound Dog</td>\n",
       "      <td>Elvis Presley</td>\n",
       "      <td>adult standards</td>\n",
       "      <td>1958</td>\n",
       "      <td>175</td>\n",
       "      <td>76</td>\n",
       "      <td>36</td>\n",
       "      <td>-8</td>\n",
       "      <td>76</td>\n",
       "      <td>95</td>\n",
       "      <td>136</td>\n",
       "      <td>73</td>\n",
       "      <td>6</td>\n",
       "      <td>69</td>\n",
       "    </tr>\n",
       "    <tr>\n",
       "      <th>1991</th>\n",
       "      <td>1992</td>\n",
       "      <td>Johnny B. Goode</td>\n",
       "      <td>Chuck Berry</td>\n",
       "      <td>blues rock</td>\n",
       "      <td>1959</td>\n",
       "      <td>168</td>\n",
       "      <td>80</td>\n",
       "      <td>53</td>\n",
       "      <td>-9</td>\n",
       "      <td>31</td>\n",
       "      <td>97</td>\n",
       "      <td>162</td>\n",
       "      <td>74</td>\n",
       "      <td>7</td>\n",
       "      <td>74</td>\n",
       "    </tr>\n",
       "    <tr>\n",
       "      <th>1992</th>\n",
       "      <td>1993</td>\n",
       "      <td>Take Five</td>\n",
       "      <td>The Dave Brubeck Quartet</td>\n",
       "      <td>bebop</td>\n",
       "      <td>1959</td>\n",
       "      <td>174</td>\n",
       "      <td>26</td>\n",
       "      <td>45</td>\n",
       "      <td>-13</td>\n",
       "      <td>7</td>\n",
       "      <td>60</td>\n",
       "      <td>324</td>\n",
       "      <td>54</td>\n",
       "      <td>4</td>\n",
       "      <td>65</td>\n",
       "    </tr>\n",
       "    <tr>\n",
       "      <th>1993</th>\n",
       "      <td>1994</td>\n",
       "      <td>Blueberry Hill</td>\n",
       "      <td>Fats Domino</td>\n",
       "      <td>adult standards</td>\n",
       "      <td>1959</td>\n",
       "      <td>133</td>\n",
       "      <td>50</td>\n",
       "      <td>49</td>\n",
       "      <td>-10</td>\n",
       "      <td>16</td>\n",
       "      <td>83</td>\n",
       "      <td>148</td>\n",
       "      <td>74</td>\n",
       "      <td>3</td>\n",
       "      <td>56</td>\n",
       "    </tr>\n",
       "  </tbody>\n",
       "</table>\n",
       "<p>1994 rows × 15 columns</p>\n",
       "</div>"
      ],
      "text/plain": [
       "      Index                   Title                    Artist  \\\n",
       "0         1                 Sunrise               Norah Jones   \n",
       "1         2             Black Night               Deep Purple   \n",
       "2         3          Clint Eastwood                  Gorillaz   \n",
       "3         4           The Pretender              Foo Fighters   \n",
       "4         5  Waitin' On A Sunny Day         Bruce Springsteen   \n",
       "...     ...                     ...                       ...   \n",
       "1989   1990        Heartbreak Hotel             Elvis Presley   \n",
       "1990   1991               Hound Dog             Elvis Presley   \n",
       "1991   1992         Johnny B. Goode               Chuck Berry   \n",
       "1992   1993               Take Five  The Dave Brubeck Quartet   \n",
       "1993   1994          Blueberry Hill               Fats Domino   \n",
       "\n",
       "                Top Genre  Year  Beats Per Minute (BPM)  Energy  Danceability  \\\n",
       "0         adult standards  2004                     157      30            53   \n",
       "1              album rock  2000                     135      79            50   \n",
       "2     alternative hip hop  2001                     168      69            66   \n",
       "3       alternative metal  2007                     173      96            43   \n",
       "4            classic rock  2002                     106      82            58   \n",
       "...                   ...   ...                     ...     ...           ...   \n",
       "1989      adult standards  1958                      94      21            70   \n",
       "1990      adult standards  1958                     175      76            36   \n",
       "1991           blues rock  1959                     168      80            53   \n",
       "1992                bebop  1959                     174      26            45   \n",
       "1993      adult standards  1959                     133      50            49   \n",
       "\n",
       "      Loudness (dB)  Liveness  Valence Length (Duration)  Acousticness  \\\n",
       "0               -14        11       68               201            94   \n",
       "1               -11        17       81               207            17   \n",
       "2                -9         7       52               341             2   \n",
       "3                -4         3       37               269             0   \n",
       "4                -5        10       87               256             1   \n",
       "...             ...       ...      ...               ...           ...   \n",
       "1989            -12        11       72               128            84   \n",
       "1990             -8        76       95               136            73   \n",
       "1991             -9        31       97               162            74   \n",
       "1992            -13         7       60               324            54   \n",
       "1993            -10        16       83               148            74   \n",
       "\n",
       "      Speechiness  Popularity  \n",
       "0               3          71  \n",
       "1               7          39  \n",
       "2              17          69  \n",
       "3               4          76  \n",
       "4               3          59  \n",
       "...           ...         ...  \n",
       "1989            7          63  \n",
       "1990            6          69  \n",
       "1991            7          74  \n",
       "1992            4          65  \n",
       "1993            3          56  \n",
       "\n",
       "[1994 rows x 15 columns]"
      ]
     },
     "execution_count": 82,
     "metadata": {},
     "output_type": "execute_result"
    }
   ],
   "source": [
    "url = 'Dataset/Spotify-2000.csv'\n",
    "df = pd.read_csv(url)\n",
    "df"
   ]
  },
  {
   "cell_type": "markdown",
   "metadata": {
    "id": "KioxfPcxqzX7"
   },
   "source": [
    "# DATA MUNGING "
   ]
  },
  {
   "cell_type": "code",
   "execution_count": 83,
   "metadata": {
    "colab": {
     "base_uri": "https://localhost:8080/"
    },
    "id": "mA47EU-3qFZn",
    "outputId": "01ac7a53-a4f6-407e-f997-78c4319cfe99"
   },
   "outputs": [
    {
     "data": {
      "text/plain": [
       "<bound method DataFrame.info of       Index                   Title                    Artist  \\\n",
       "0         1                 Sunrise               Norah Jones   \n",
       "1         2             Black Night               Deep Purple   \n",
       "2         3          Clint Eastwood                  Gorillaz   \n",
       "3         4           The Pretender              Foo Fighters   \n",
       "4         5  Waitin' On A Sunny Day         Bruce Springsteen   \n",
       "...     ...                     ...                       ...   \n",
       "1989   1990        Heartbreak Hotel             Elvis Presley   \n",
       "1990   1991               Hound Dog             Elvis Presley   \n",
       "1991   1992         Johnny B. Goode               Chuck Berry   \n",
       "1992   1993               Take Five  The Dave Brubeck Quartet   \n",
       "1993   1994          Blueberry Hill               Fats Domino   \n",
       "\n",
       "                Top Genre  Year  Beats Per Minute (BPM)  Energy  Danceability  \\\n",
       "0         adult standards  2004                     157      30            53   \n",
       "1              album rock  2000                     135      79            50   \n",
       "2     alternative hip hop  2001                     168      69            66   \n",
       "3       alternative metal  2007                     173      96            43   \n",
       "4            classic rock  2002                     106      82            58   \n",
       "...                   ...   ...                     ...     ...           ...   \n",
       "1989      adult standards  1958                      94      21            70   \n",
       "1990      adult standards  1958                     175      76            36   \n",
       "1991           blues rock  1959                     168      80            53   \n",
       "1992                bebop  1959                     174      26            45   \n",
       "1993      adult standards  1959                     133      50            49   \n",
       "\n",
       "      Loudness (dB)  Liveness  Valence Length (Duration)  Acousticness  \\\n",
       "0               -14        11       68               201            94   \n",
       "1               -11        17       81               207            17   \n",
       "2                -9         7       52               341             2   \n",
       "3                -4         3       37               269             0   \n",
       "4                -5        10       87               256             1   \n",
       "...             ...       ...      ...               ...           ...   \n",
       "1989            -12        11       72               128            84   \n",
       "1990             -8        76       95               136            73   \n",
       "1991             -9        31       97               162            74   \n",
       "1992            -13         7       60               324            54   \n",
       "1993            -10        16       83               148            74   \n",
       "\n",
       "      Speechiness  Popularity  \n",
       "0               3          71  \n",
       "1               7          39  \n",
       "2              17          69  \n",
       "3               4          76  \n",
       "4               3          59  \n",
       "...           ...         ...  \n",
       "1989            7          63  \n",
       "1990            6          69  \n",
       "1991            7          74  \n",
       "1992            4          65  \n",
       "1993            3          56  \n",
       "\n",
       "[1994 rows x 15 columns]>"
      ]
     },
     "execution_count": 83,
     "metadata": {},
     "output_type": "execute_result"
    }
   ],
   "source": [
    "df.info"
   ]
  },
  {
   "cell_type": "code",
   "execution_count": 84,
   "metadata": {
    "id": "_FEd0AKNxZZ6"
   },
   "outputs": [],
   "source": [
    "df.rename(columns = {'Top Genre':'top_genre'}, inplace = True)"
   ]
  },
  {
   "cell_type": "code",
   "execution_count": 85,
   "metadata": {
    "colab": {
     "base_uri": "https://localhost:8080/"
    },
    "id": "wp42TOVgaSy0",
    "outputId": "76f6a5d8-d1cb-4442-9d4a-da44480f1e82"
   },
   "outputs": [
    {
     "data": {
      "text/plain": [
       "album rock           413\n",
       "adult standards      123\n",
       "dutch pop             88\n",
       "alternative rock      86\n",
       "dance pop             83\n",
       "                    ... \n",
       "streektaal             1\n",
       "indie anthem-folk      1\n",
       "la pop                 1\n",
       "ccm                    1\n",
       "bebop                  1\n",
       "Name: top_genre, Length: 149, dtype: int64"
      ]
     },
     "execution_count": 85,
     "metadata": {},
     "output_type": "execute_result"
    }
   ],
   "source": [
    "df.top_genre.value_counts()"
   ]
  },
  {
   "cell_type": "code",
   "execution_count": 86,
   "metadata": {
    "colab": {
     "base_uri": "https://localhost:8080/",
     "height": 206
    },
    "id": "cdHYA-_2qIhm",
    "outputId": "9753bf61-e2b9-4398-a18d-49d843a67d89"
   },
   "outputs": [
    {
     "data": {
      "text/html": [
       "<div>\n",
       "<style scoped>\n",
       "    .dataframe tbody tr th:only-of-type {\n",
       "        vertical-align: middle;\n",
       "    }\n",
       "\n",
       "    .dataframe tbody tr th {\n",
       "        vertical-align: top;\n",
       "    }\n",
       "\n",
       "    .dataframe thead th {\n",
       "        text-align: right;\n",
       "    }\n",
       "</style>\n",
       "<table border=\"1\" class=\"dataframe\">\n",
       "  <thead>\n",
       "    <tr style=\"text-align: right;\">\n",
       "      <th></th>\n",
       "      <th>Index</th>\n",
       "      <th>Title</th>\n",
       "      <th>Artist</th>\n",
       "      <th>top_genre</th>\n",
       "      <th>Year</th>\n",
       "      <th>Beats Per Minute (BPM)</th>\n",
       "      <th>Energy</th>\n",
       "      <th>Danceability</th>\n",
       "      <th>Loudness (dB)</th>\n",
       "      <th>Liveness</th>\n",
       "      <th>Valence</th>\n",
       "      <th>Length (Duration)</th>\n",
       "      <th>Acousticness</th>\n",
       "      <th>Speechiness</th>\n",
       "      <th>Popularity</th>\n",
       "    </tr>\n",
       "  </thead>\n",
       "  <tbody>\n",
       "    <tr>\n",
       "      <th>0</th>\n",
       "      <td>1</td>\n",
       "      <td>Sunrise</td>\n",
       "      <td>Norah Jones</td>\n",
       "      <td>adult standards</td>\n",
       "      <td>2004</td>\n",
       "      <td>157</td>\n",
       "      <td>30</td>\n",
       "      <td>53</td>\n",
       "      <td>-14</td>\n",
       "      <td>11</td>\n",
       "      <td>68</td>\n",
       "      <td>201</td>\n",
       "      <td>94</td>\n",
       "      <td>3</td>\n",
       "      <td>71</td>\n",
       "    </tr>\n",
       "    <tr>\n",
       "      <th>1</th>\n",
       "      <td>2</td>\n",
       "      <td>Black Night</td>\n",
       "      <td>Deep Purple</td>\n",
       "      <td>album rock</td>\n",
       "      <td>2000</td>\n",
       "      <td>135</td>\n",
       "      <td>79</td>\n",
       "      <td>50</td>\n",
       "      <td>-11</td>\n",
       "      <td>17</td>\n",
       "      <td>81</td>\n",
       "      <td>207</td>\n",
       "      <td>17</td>\n",
       "      <td>7</td>\n",
       "      <td>39</td>\n",
       "    </tr>\n",
       "    <tr>\n",
       "      <th>2</th>\n",
       "      <td>3</td>\n",
       "      <td>Clint Eastwood</td>\n",
       "      <td>Gorillaz</td>\n",
       "      <td>alternative hip hop</td>\n",
       "      <td>2001</td>\n",
       "      <td>168</td>\n",
       "      <td>69</td>\n",
       "      <td>66</td>\n",
       "      <td>-9</td>\n",
       "      <td>7</td>\n",
       "      <td>52</td>\n",
       "      <td>341</td>\n",
       "      <td>2</td>\n",
       "      <td>17</td>\n",
       "      <td>69</td>\n",
       "    </tr>\n",
       "    <tr>\n",
       "      <th>3</th>\n",
       "      <td>4</td>\n",
       "      <td>The Pretender</td>\n",
       "      <td>Foo Fighters</td>\n",
       "      <td>alternative metal</td>\n",
       "      <td>2007</td>\n",
       "      <td>173</td>\n",
       "      <td>96</td>\n",
       "      <td>43</td>\n",
       "      <td>-4</td>\n",
       "      <td>3</td>\n",
       "      <td>37</td>\n",
       "      <td>269</td>\n",
       "      <td>0</td>\n",
       "      <td>4</td>\n",
       "      <td>76</td>\n",
       "    </tr>\n",
       "    <tr>\n",
       "      <th>4</th>\n",
       "      <td>5</td>\n",
       "      <td>Waitin' On A Sunny Day</td>\n",
       "      <td>Bruce Springsteen</td>\n",
       "      <td>classic rock</td>\n",
       "      <td>2002</td>\n",
       "      <td>106</td>\n",
       "      <td>82</td>\n",
       "      <td>58</td>\n",
       "      <td>-5</td>\n",
       "      <td>10</td>\n",
       "      <td>87</td>\n",
       "      <td>256</td>\n",
       "      <td>1</td>\n",
       "      <td>3</td>\n",
       "      <td>59</td>\n",
       "    </tr>\n",
       "  </tbody>\n",
       "</table>\n",
       "</div>"
      ],
      "text/plain": [
       "   Index                   Title             Artist            top_genre  \\\n",
       "0      1                 Sunrise        Norah Jones      adult standards   \n",
       "1      2             Black Night        Deep Purple           album rock   \n",
       "2      3          Clint Eastwood           Gorillaz  alternative hip hop   \n",
       "3      4           The Pretender       Foo Fighters    alternative metal   \n",
       "4      5  Waitin' On A Sunny Day  Bruce Springsteen         classic rock   \n",
       "\n",
       "   Year  Beats Per Minute (BPM)  Energy  Danceability  Loudness (dB)  \\\n",
       "0  2004                     157      30            53            -14   \n",
       "1  2000                     135      79            50            -11   \n",
       "2  2001                     168      69            66             -9   \n",
       "3  2007                     173      96            43             -4   \n",
       "4  2002                     106      82            58             -5   \n",
       "\n",
       "   Liveness  Valence Length (Duration)  Acousticness  Speechiness  Popularity  \n",
       "0        11       68               201            94            3          71  \n",
       "1        17       81               207            17            7          39  \n",
       "2         7       52               341             2           17          69  \n",
       "3         3       37               269             0            4          76  \n",
       "4        10       87               256             1            3          59  "
      ]
     },
     "execution_count": 86,
     "metadata": {},
     "output_type": "execute_result"
    }
   ],
   "source": [
    "df.head()"
   ]
  },
  {
   "cell_type": "code",
   "execution_count": 87,
   "metadata": {
    "colab": {
     "base_uri": "https://localhost:8080/",
     "height": 206
    },
    "id": "oQT3T6YGqMyy",
    "outputId": "8cd7fdab-3988-4228-843f-7ddc0f3639b9"
   },
   "outputs": [
    {
     "data": {
      "text/html": [
       "<div>\n",
       "<style scoped>\n",
       "    .dataframe tbody tr th:only-of-type {\n",
       "        vertical-align: middle;\n",
       "    }\n",
       "\n",
       "    .dataframe tbody tr th {\n",
       "        vertical-align: top;\n",
       "    }\n",
       "\n",
       "    .dataframe thead th {\n",
       "        text-align: right;\n",
       "    }\n",
       "</style>\n",
       "<table border=\"1\" class=\"dataframe\">\n",
       "  <thead>\n",
       "    <tr style=\"text-align: right;\">\n",
       "      <th></th>\n",
       "      <th>Index</th>\n",
       "      <th>Title</th>\n",
       "      <th>Artist</th>\n",
       "      <th>top_genre</th>\n",
       "      <th>Year</th>\n",
       "      <th>Beats Per Minute (BPM)</th>\n",
       "      <th>Energy</th>\n",
       "      <th>Danceability</th>\n",
       "      <th>Loudness (dB)</th>\n",
       "      <th>Liveness</th>\n",
       "      <th>Valence</th>\n",
       "      <th>Length (Duration)</th>\n",
       "      <th>Acousticness</th>\n",
       "      <th>Speechiness</th>\n",
       "      <th>Popularity</th>\n",
       "    </tr>\n",
       "  </thead>\n",
       "  <tbody>\n",
       "    <tr>\n",
       "      <th>1989</th>\n",
       "      <td>1990</td>\n",
       "      <td>Heartbreak Hotel</td>\n",
       "      <td>Elvis Presley</td>\n",
       "      <td>adult standards</td>\n",
       "      <td>1958</td>\n",
       "      <td>94</td>\n",
       "      <td>21</td>\n",
       "      <td>70</td>\n",
       "      <td>-12</td>\n",
       "      <td>11</td>\n",
       "      <td>72</td>\n",
       "      <td>128</td>\n",
       "      <td>84</td>\n",
       "      <td>7</td>\n",
       "      <td>63</td>\n",
       "    </tr>\n",
       "    <tr>\n",
       "      <th>1990</th>\n",
       "      <td>1991</td>\n",
       "      <td>Hound Dog</td>\n",
       "      <td>Elvis Presley</td>\n",
       "      <td>adult standards</td>\n",
       "      <td>1958</td>\n",
       "      <td>175</td>\n",
       "      <td>76</td>\n",
       "      <td>36</td>\n",
       "      <td>-8</td>\n",
       "      <td>76</td>\n",
       "      <td>95</td>\n",
       "      <td>136</td>\n",
       "      <td>73</td>\n",
       "      <td>6</td>\n",
       "      <td>69</td>\n",
       "    </tr>\n",
       "    <tr>\n",
       "      <th>1991</th>\n",
       "      <td>1992</td>\n",
       "      <td>Johnny B. Goode</td>\n",
       "      <td>Chuck Berry</td>\n",
       "      <td>blues rock</td>\n",
       "      <td>1959</td>\n",
       "      <td>168</td>\n",
       "      <td>80</td>\n",
       "      <td>53</td>\n",
       "      <td>-9</td>\n",
       "      <td>31</td>\n",
       "      <td>97</td>\n",
       "      <td>162</td>\n",
       "      <td>74</td>\n",
       "      <td>7</td>\n",
       "      <td>74</td>\n",
       "    </tr>\n",
       "    <tr>\n",
       "      <th>1992</th>\n",
       "      <td>1993</td>\n",
       "      <td>Take Five</td>\n",
       "      <td>The Dave Brubeck Quartet</td>\n",
       "      <td>bebop</td>\n",
       "      <td>1959</td>\n",
       "      <td>174</td>\n",
       "      <td>26</td>\n",
       "      <td>45</td>\n",
       "      <td>-13</td>\n",
       "      <td>7</td>\n",
       "      <td>60</td>\n",
       "      <td>324</td>\n",
       "      <td>54</td>\n",
       "      <td>4</td>\n",
       "      <td>65</td>\n",
       "    </tr>\n",
       "    <tr>\n",
       "      <th>1993</th>\n",
       "      <td>1994</td>\n",
       "      <td>Blueberry Hill</td>\n",
       "      <td>Fats Domino</td>\n",
       "      <td>adult standards</td>\n",
       "      <td>1959</td>\n",
       "      <td>133</td>\n",
       "      <td>50</td>\n",
       "      <td>49</td>\n",
       "      <td>-10</td>\n",
       "      <td>16</td>\n",
       "      <td>83</td>\n",
       "      <td>148</td>\n",
       "      <td>74</td>\n",
       "      <td>3</td>\n",
       "      <td>56</td>\n",
       "    </tr>\n",
       "  </tbody>\n",
       "</table>\n",
       "</div>"
      ],
      "text/plain": [
       "      Index             Title                    Artist        top_genre  \\\n",
       "1989   1990  Heartbreak Hotel             Elvis Presley  adult standards   \n",
       "1990   1991         Hound Dog             Elvis Presley  adult standards   \n",
       "1991   1992   Johnny B. Goode               Chuck Berry       blues rock   \n",
       "1992   1993         Take Five  The Dave Brubeck Quartet            bebop   \n",
       "1993   1994    Blueberry Hill               Fats Domino  adult standards   \n",
       "\n",
       "      Year  Beats Per Minute (BPM)  Energy  Danceability  Loudness (dB)  \\\n",
       "1989  1958                      94      21            70            -12   \n",
       "1990  1958                     175      76            36             -8   \n",
       "1991  1959                     168      80            53             -9   \n",
       "1992  1959                     174      26            45            -13   \n",
       "1993  1959                     133      50            49            -10   \n",
       "\n",
       "      Liveness  Valence Length (Duration)  Acousticness  Speechiness  \\\n",
       "1989        11       72               128            84            7   \n",
       "1990        76       95               136            73            6   \n",
       "1991        31       97               162            74            7   \n",
       "1992         7       60               324            54            4   \n",
       "1993        16       83               148            74            3   \n",
       "\n",
       "      Popularity  \n",
       "1989          63  \n",
       "1990          69  \n",
       "1991          74  \n",
       "1992          65  \n",
       "1993          56  "
      ]
     },
     "execution_count": 87,
     "metadata": {},
     "output_type": "execute_result"
    }
   ],
   "source": [
    "df.tail()"
   ]
  },
  {
   "cell_type": "code",
   "execution_count": 88,
   "metadata": {
    "colab": {
     "base_uri": "https://localhost:8080/",
     "height": 300
    },
    "id": "RFbN6GOKqOqD",
    "outputId": "40f28d73-2c5d-43f3-cac6-7fd5e9e0dee9"
   },
   "outputs": [
    {
     "data": {
      "text/html": [
       "<div>\n",
       "<style scoped>\n",
       "    .dataframe tbody tr th:only-of-type {\n",
       "        vertical-align: middle;\n",
       "    }\n",
       "\n",
       "    .dataframe tbody tr th {\n",
       "        vertical-align: top;\n",
       "    }\n",
       "\n",
       "    .dataframe thead th {\n",
       "        text-align: right;\n",
       "    }\n",
       "</style>\n",
       "<table border=\"1\" class=\"dataframe\">\n",
       "  <thead>\n",
       "    <tr style=\"text-align: right;\">\n",
       "      <th></th>\n",
       "      <th>Index</th>\n",
       "      <th>Year</th>\n",
       "      <th>Beats Per Minute (BPM)</th>\n",
       "      <th>Energy</th>\n",
       "      <th>Danceability</th>\n",
       "      <th>Loudness (dB)</th>\n",
       "      <th>Liveness</th>\n",
       "      <th>Valence</th>\n",
       "      <th>Acousticness</th>\n",
       "      <th>Speechiness</th>\n",
       "      <th>Popularity</th>\n",
       "    </tr>\n",
       "  </thead>\n",
       "  <tbody>\n",
       "    <tr>\n",
       "      <th>count</th>\n",
       "      <td>1994.000000</td>\n",
       "      <td>1994.000000</td>\n",
       "      <td>1994.000000</td>\n",
       "      <td>1994.000000</td>\n",
       "      <td>1994.000000</td>\n",
       "      <td>1994.000000</td>\n",
       "      <td>1994.000000</td>\n",
       "      <td>1994.000000</td>\n",
       "      <td>1994.000000</td>\n",
       "      <td>1994.000000</td>\n",
       "      <td>1994.00000</td>\n",
       "    </tr>\n",
       "    <tr>\n",
       "      <th>mean</th>\n",
       "      <td>997.500000</td>\n",
       "      <td>1992.992979</td>\n",
       "      <td>120.215647</td>\n",
       "      <td>59.679539</td>\n",
       "      <td>53.238215</td>\n",
       "      <td>-9.008526</td>\n",
       "      <td>19.012036</td>\n",
       "      <td>49.408726</td>\n",
       "      <td>28.858074</td>\n",
       "      <td>4.994985</td>\n",
       "      <td>59.52658</td>\n",
       "    </tr>\n",
       "    <tr>\n",
       "      <th>std</th>\n",
       "      <td>575.762538</td>\n",
       "      <td>16.116048</td>\n",
       "      <td>28.028096</td>\n",
       "      <td>22.154322</td>\n",
       "      <td>15.351507</td>\n",
       "      <td>3.647876</td>\n",
       "      <td>16.727378</td>\n",
       "      <td>24.858212</td>\n",
       "      <td>29.011986</td>\n",
       "      <td>4.401566</td>\n",
       "      <td>14.35160</td>\n",
       "    </tr>\n",
       "    <tr>\n",
       "      <th>min</th>\n",
       "      <td>1.000000</td>\n",
       "      <td>1956.000000</td>\n",
       "      <td>37.000000</td>\n",
       "      <td>3.000000</td>\n",
       "      <td>10.000000</td>\n",
       "      <td>-27.000000</td>\n",
       "      <td>2.000000</td>\n",
       "      <td>3.000000</td>\n",
       "      <td>0.000000</td>\n",
       "      <td>2.000000</td>\n",
       "      <td>11.00000</td>\n",
       "    </tr>\n",
       "    <tr>\n",
       "      <th>25%</th>\n",
       "      <td>499.250000</td>\n",
       "      <td>1979.000000</td>\n",
       "      <td>99.000000</td>\n",
       "      <td>42.000000</td>\n",
       "      <td>43.000000</td>\n",
       "      <td>-11.000000</td>\n",
       "      <td>9.000000</td>\n",
       "      <td>29.000000</td>\n",
       "      <td>3.000000</td>\n",
       "      <td>3.000000</td>\n",
       "      <td>49.25000</td>\n",
       "    </tr>\n",
       "    <tr>\n",
       "      <th>50%</th>\n",
       "      <td>997.500000</td>\n",
       "      <td>1993.000000</td>\n",
       "      <td>119.000000</td>\n",
       "      <td>61.000000</td>\n",
       "      <td>53.000000</td>\n",
       "      <td>-8.000000</td>\n",
       "      <td>12.000000</td>\n",
       "      <td>47.000000</td>\n",
       "      <td>18.000000</td>\n",
       "      <td>4.000000</td>\n",
       "      <td>62.00000</td>\n",
       "    </tr>\n",
       "    <tr>\n",
       "      <th>75%</th>\n",
       "      <td>1495.750000</td>\n",
       "      <td>2007.000000</td>\n",
       "      <td>136.000000</td>\n",
       "      <td>78.000000</td>\n",
       "      <td>64.000000</td>\n",
       "      <td>-6.000000</td>\n",
       "      <td>23.000000</td>\n",
       "      <td>69.750000</td>\n",
       "      <td>50.000000</td>\n",
       "      <td>5.000000</td>\n",
       "      <td>71.00000</td>\n",
       "    </tr>\n",
       "    <tr>\n",
       "      <th>max</th>\n",
       "      <td>1994.000000</td>\n",
       "      <td>2019.000000</td>\n",
       "      <td>206.000000</td>\n",
       "      <td>100.000000</td>\n",
       "      <td>96.000000</td>\n",
       "      <td>-2.000000</td>\n",
       "      <td>99.000000</td>\n",
       "      <td>99.000000</td>\n",
       "      <td>99.000000</td>\n",
       "      <td>55.000000</td>\n",
       "      <td>100.00000</td>\n",
       "    </tr>\n",
       "  </tbody>\n",
       "</table>\n",
       "</div>"
      ],
      "text/plain": [
       "             Index         Year  Beats Per Minute (BPM)       Energy  \\\n",
       "count  1994.000000  1994.000000             1994.000000  1994.000000   \n",
       "mean    997.500000  1992.992979              120.215647    59.679539   \n",
       "std     575.762538    16.116048               28.028096    22.154322   \n",
       "min       1.000000  1956.000000               37.000000     3.000000   \n",
       "25%     499.250000  1979.000000               99.000000    42.000000   \n",
       "50%     997.500000  1993.000000              119.000000    61.000000   \n",
       "75%    1495.750000  2007.000000              136.000000    78.000000   \n",
       "max    1994.000000  2019.000000              206.000000   100.000000   \n",
       "\n",
       "       Danceability  Loudness (dB)     Liveness      Valence  Acousticness  \\\n",
       "count   1994.000000    1994.000000  1994.000000  1994.000000   1994.000000   \n",
       "mean      53.238215      -9.008526    19.012036    49.408726     28.858074   \n",
       "std       15.351507       3.647876    16.727378    24.858212     29.011986   \n",
       "min       10.000000     -27.000000     2.000000     3.000000      0.000000   \n",
       "25%       43.000000     -11.000000     9.000000    29.000000      3.000000   \n",
       "50%       53.000000      -8.000000    12.000000    47.000000     18.000000   \n",
       "75%       64.000000      -6.000000    23.000000    69.750000     50.000000   \n",
       "max       96.000000      -2.000000    99.000000    99.000000     99.000000   \n",
       "\n",
       "       Speechiness  Popularity  \n",
       "count  1994.000000  1994.00000  \n",
       "mean      4.994985    59.52658  \n",
       "std       4.401566    14.35160  \n",
       "min       2.000000    11.00000  \n",
       "25%       3.000000    49.25000  \n",
       "50%       4.000000    62.00000  \n",
       "75%       5.000000    71.00000  \n",
       "max      55.000000   100.00000  "
      ]
     },
     "execution_count": 88,
     "metadata": {},
     "output_type": "execute_result"
    }
   ],
   "source": [
    "df.describe()"
   ]
  },
  {
   "cell_type": "code",
   "execution_count": 89,
   "metadata": {
    "colab": {
     "base_uri": "https://localhost:8080/"
    },
    "id": "dJITMHwXqSem",
    "outputId": "1d25a4c5-8b78-4a28-a956-9728a3f5ae99"
   },
   "outputs": [
    {
     "data": {
      "text/plain": [
       "Index                     0\n",
       "Title                     0\n",
       "Artist                    0\n",
       "top_genre                 0\n",
       "Year                      0\n",
       "Beats Per Minute (BPM)    0\n",
       "Energy                    0\n",
       "Danceability              0\n",
       "Loudness (dB)             0\n",
       "Liveness                  0\n",
       "Valence                   0\n",
       "Length (Duration)         0\n",
       "Acousticness              0\n",
       "Speechiness               0\n",
       "Popularity                0\n",
       "dtype: int64"
      ]
     },
     "execution_count": 89,
     "metadata": {},
     "output_type": "execute_result"
    }
   ],
   "source": [
    "df.isnull().sum()"
   ]
  },
  {
   "cell_type": "code",
   "execution_count": 90,
   "metadata": {
    "colab": {
     "base_uri": "https://localhost:8080/"
    },
    "id": "lefLrWKrqUmS",
    "outputId": "b2920114-9277-4cba-d543-868764f368a5"
   },
   "outputs": [
    {
     "data": {
      "text/plain": [
       "False"
      ]
     },
     "execution_count": 90,
     "metadata": {},
     "output_type": "execute_result"
    }
   ],
   "source": [
    "df.isnull().values.any()"
   ]
  },
  {
   "cell_type": "code",
   "execution_count": 91,
   "metadata": {
    "id": "IhdK6osrqWsI"
   },
   "outputs": [],
   "source": [
    "df2 = df.dropna()"
   ]
  },
  {
   "cell_type": "code",
   "execution_count": 92,
   "metadata": {
    "colab": {
     "base_uri": "https://localhost:8080/"
    },
    "id": "oYkQCKcEqY5i",
    "outputId": "45e39d04-f4ed-4262-fb47-afc6604bca34"
   },
   "outputs": [
    {
     "name": "stdout",
     "output_type": "stream",
     "text": [
      "Index                      int64\n",
      "Title                     object\n",
      "Artist                    object\n",
      "top_genre                 object\n",
      "Year                       int64\n",
      "Beats Per Minute (BPM)     int64\n",
      "Energy                     int64\n",
      "Danceability               int64\n",
      "Loudness (dB)              int64\n",
      "Liveness                   int64\n",
      "Valence                    int64\n",
      "Length (Duration)         object\n",
      "Acousticness               int64\n",
      "Speechiness                int64\n",
      "Popularity                 int64\n",
      "dtype: object\n",
      "Index                      int64\n",
      "Title                     object\n",
      "Artist                    object\n",
      "top_genre                 object\n",
      "Year                       int64\n",
      "Beats Per Minute (BPM)     int64\n",
      "Energy                     int64\n",
      "Danceability               int64\n",
      "Loudness (dB)              int64\n",
      "Liveness                   int64\n",
      "Valence                    int64\n",
      "Length (Duration)         object\n",
      "Acousticness               int64\n",
      "Speechiness                int64\n",
      "Popularity                 int64\n",
      "dtype: object\n"
     ]
    }
   ],
   "source": [
    "print(df2.dtypes)\n",
    "print(df.dtypes)"
   ]
  },
  {
   "cell_type": "code",
   "execution_count": 93,
   "metadata": {
    "colab": {
     "base_uri": "https://localhost:8080/"
    },
    "id": "6tSsw6JWqZDr",
    "outputId": "b17e99a3-5903-48d7-d8d3-384536166387"
   },
   "outputs": [
    {
     "data": {
      "text/plain": [
       "False"
      ]
     },
     "execution_count": 93,
     "metadata": {},
     "output_type": "execute_result"
    }
   ],
   "source": [
    "df2.isnull().values.any()"
   ]
  },
  {
   "cell_type": "code",
   "execution_count": 94,
   "metadata": {
    "colab": {
     "base_uri": "https://localhost:8080/",
     "height": 592
    },
    "id": "gbLZahuAqZK8",
    "outputId": "9a94f140-aa54-422c-e3d3-22b0bc71ac39"
   },
   "outputs": [
    {
     "name": "stderr",
     "output_type": "stream",
     "text": [
      "C:\\Users\\Harris\\AppData\\Local\\Temp\\ipykernel_6868\\1441594836.py:2: FutureWarning: The default value of numeric_only in DataFrame.corr is deprecated. In a future version, it will default to False. Select only valid columns or specify the value of numeric_only to silence this warning.\n",
      "  sns.heatmap(df.corr(),vmax=.3, center=0,\n"
     ]
    },
    {
     "data": {
      "image/png": "[encoded data removed]",
      "text/plain": [
       "<Figure size 1000x1000 with 2 Axes>"
      ]
     },
     "metadata": {},
     "output_type": "display_data"
    }
   ],
   "source": [
    "plt.figure(figsize=(10,10))\n",
    "sns.heatmap(df.corr(),vmax=.3, center=0,\n",
    "            square=True, linewidths=.5, cbar_kws={\"shrink\": .5},annot=True)\n",
    "plt.tight_layout()\n",
    "plt.show()"
   ]
  },
  {
   "cell_type": "code",
   "execution_count": 95,
   "metadata": {
    "colab": {
     "base_uri": "https://localhost:8080/",
     "height": 399
    },
    "id": "uPviXp1MqZNj",
    "outputId": "e672cfb4-e079-4c22-bb99-4a9dd1a6cd6b"
   },
   "outputs": [
    {
     "data": {
      "image/png": "[encoded data removed]",
      "text/plain": [
       "<Figure size 1500x2000 with 1 Axes>"
      ]
     },
     "metadata": {},
     "output_type": "display_data"
    }
   ],
   "source": [
    "# Print variance age data from dataset\n",
    "sns.barplot(x=df2.top_genre.value_counts()[:30].index,y=df.top_genre.value_counts()[:30].values)\n",
    "plt.xlabel('Genre')\n",
    "plt.ylabel('Genre Counter')\n",
    "plt.title('Genre Analysis System')\n",
    "plt.rcParams[\"figure.figsize\"] = (15, 20)\n",
    "plt.rcParams[\"xtick.labelsize\"] = 8\n",
    "plt.xticks(rotation=90)\n",
    "plt.show()"
   ]
  },
  {
   "cell_type": "code",
   "execution_count": 96,
   "metadata": {
    "id": "33U9HU3TqZWa"
   },
   "outputs": [],
   "source": [
    "# #add new column 'GenreRange' into dataset and normalize the data\n",
    "# df2['Genre_Range']=0\n",
    "# year1_index=df2[(df2.year<=2015)].index \n",
    "# year2_index=df2[(df2.year>=2016) & (df2.year<=2018)].index\n",
    "# year3_index=df2[(df2.year>2018)].index\n",
    "# for index in year3_index:\n",
    "#     df2.loc[index,'Genre_Range']=2\n",
    "    \n",
    "# for index in year2_index:\n",
    "#     df2.loc[index,'Genre_Range']=1\n",
    "\n",
    "# for index in year1_index:\n",
    "#     df2.loc[index,'Genre_Range']=0\n",
    "\n",
    "# # Draw a categorical scatterplot to show each observation\n",
    "# sns.swarmplot(x=\"Genre_Range\", y=\"year\",hue='top_genre',\n",
    "#                palette=[\"red\", \"cyan\", \"red\",\"red\",\"cyan\",\"red\",\"cyan\",\"red\",\"red\",\"red\",\"red\",\"red\",\"red\",\"cyan\",\"cyan\",\n",
    "#                         \"red\",\"red\",\"red\",\"red\",\"red\",\"red\",\"cyan\",\"red\",\"cyan\",\"cyan\",\"red\",\"cyan\",\"cyan\",\"red\",\"red\",\"red\",\n",
    "#                         \"red\",\"red\",\"cyan\"], data=df2)\n",
    "# plt.show()"
   ]
  },
  {
   "cell_type": "markdown",
   "metadata": {
    "id": "D-Ue2SamqOxS"
   },
   "source": [
    "# GROUPING THE GENRE"
   ]
  },
  {
   "cell_type": "code",
   "execution_count": 97,
   "metadata": {
    "colab": {
     "base_uri": "https://localhost:8080/",
     "height": 632
    },
    "id": "yIxLJVhVhRcx",
    "outputId": "a7801afb-ad5f-4dd6-862b-2c1f96ad5e93"
   },
   "outputs": [
    {
     "data": {
      "text/html": [
       "<div>\n",
       "<style scoped>\n",
       "    .dataframe tbody tr th:only-of-type {\n",
       "        vertical-align: middle;\n",
       "    }\n",
       "\n",
       "    .dataframe tbody tr th {\n",
       "        vertical-align: top;\n",
       "    }\n",
       "\n",
       "    .dataframe thead th {\n",
       "        text-align: right;\n",
       "    }\n",
       "</style>\n",
       "<table border=\"1\" class=\"dataframe\">\n",
       "  <thead>\n",
       "    <tr style=\"text-align: right;\">\n",
       "      <th></th>\n",
       "      <th>Index</th>\n",
       "      <th>Title</th>\n",
       "      <th>Artist</th>\n",
       "      <th>Year</th>\n",
       "      <th>Beats Per Minute (BPM)</th>\n",
       "      <th>Energy</th>\n",
       "      <th>Danceability</th>\n",
       "      <th>Loudness (dB)</th>\n",
       "      <th>Liveness</th>\n",
       "      <th>Valence</th>\n",
       "      <th>Length (Duration)</th>\n",
       "      <th>Acousticness</th>\n",
       "      <th>Speechiness</th>\n",
       "      <th>Popularity</th>\n",
       "      <th>genre_class</th>\n",
       "    </tr>\n",
       "  </thead>\n",
       "  <tbody>\n",
       "    <tr>\n",
       "      <th>0</th>\n",
       "      <td>1</td>\n",
       "      <td>Sunrise</td>\n",
       "      <td>Norah Jones</td>\n",
       "      <td>2004</td>\n",
       "      <td>157</td>\n",
       "      <td>30</td>\n",
       "      <td>53</td>\n",
       "      <td>-14</td>\n",
       "      <td>11</td>\n",
       "      <td>68</td>\n",
       "      <td>201</td>\n",
       "      <td>94</td>\n",
       "      <td>3</td>\n",
       "      <td>71</td>\n",
       "      <td>0</td>\n",
       "    </tr>\n",
       "    <tr>\n",
       "      <th>1</th>\n",
       "      <td>2</td>\n",
       "      <td>Black Night</td>\n",
       "      <td>Deep Purple</td>\n",
       "      <td>2000</td>\n",
       "      <td>135</td>\n",
       "      <td>79</td>\n",
       "      <td>50</td>\n",
       "      <td>-11</td>\n",
       "      <td>17</td>\n",
       "      <td>81</td>\n",
       "      <td>207</td>\n",
       "      <td>17</td>\n",
       "      <td>7</td>\n",
       "      <td>39</td>\n",
       "      <td>0</td>\n",
       "    </tr>\n",
       "    <tr>\n",
       "      <th>2</th>\n",
       "      <td>3</td>\n",
       "      <td>Clint Eastwood</td>\n",
       "      <td>Gorillaz</td>\n",
       "      <td>2001</td>\n",
       "      <td>168</td>\n",
       "      <td>69</td>\n",
       "      <td>66</td>\n",
       "      <td>-9</td>\n",
       "      <td>7</td>\n",
       "      <td>52</td>\n",
       "      <td>341</td>\n",
       "      <td>2</td>\n",
       "      <td>17</td>\n",
       "      <td>69</td>\n",
       "      <td>0</td>\n",
       "    </tr>\n",
       "    <tr>\n",
       "      <th>3</th>\n",
       "      <td>4</td>\n",
       "      <td>The Pretender</td>\n",
       "      <td>Foo Fighters</td>\n",
       "      <td>2007</td>\n",
       "      <td>173</td>\n",
       "      <td>96</td>\n",
       "      <td>43</td>\n",
       "      <td>-4</td>\n",
       "      <td>3</td>\n",
       "      <td>37</td>\n",
       "      <td>269</td>\n",
       "      <td>0</td>\n",
       "      <td>4</td>\n",
       "      <td>76</td>\n",
       "      <td>0</td>\n",
       "    </tr>\n",
       "    <tr>\n",
       "      <th>4</th>\n",
       "      <td>5</td>\n",
       "      <td>Waitin' On A Sunny Day</td>\n",
       "      <td>Bruce Springsteen</td>\n",
       "      <td>2002</td>\n",
       "      <td>106</td>\n",
       "      <td>82</td>\n",
       "      <td>58</td>\n",
       "      <td>-5</td>\n",
       "      <td>10</td>\n",
       "      <td>87</td>\n",
       "      <td>256</td>\n",
       "      <td>1</td>\n",
       "      <td>3</td>\n",
       "      <td>59</td>\n",
       "      <td>0</td>\n",
       "    </tr>\n",
       "    <tr>\n",
       "      <th>...</th>\n",
       "      <td>...</td>\n",
       "      <td>...</td>\n",
       "      <td>...</td>\n",
       "      <td>...</td>\n",
       "      <td>...</td>\n",
       "      <td>...</td>\n",
       "      <td>...</td>\n",
       "      <td>...</td>\n",
       "      <td>...</td>\n",
       "      <td>...</td>\n",
       "      <td>...</td>\n",
       "      <td>...</td>\n",
       "      <td>...</td>\n",
       "      <td>...</td>\n",
       "      <td>...</td>\n",
       "    </tr>\n",
       "    <tr>\n",
       "      <th>1989</th>\n",
       "      <td>1990</td>\n",
       "      <td>Heartbreak Hotel</td>\n",
       "      <td>Elvis Presley</td>\n",
       "      <td>1958</td>\n",
       "      <td>94</td>\n",
       "      <td>21</td>\n",
       "      <td>70</td>\n",
       "      <td>-12</td>\n",
       "      <td>11</td>\n",
       "      <td>72</td>\n",
       "      <td>128</td>\n",
       "      <td>84</td>\n",
       "      <td>7</td>\n",
       "      <td>63</td>\n",
       "      <td>0</td>\n",
       "    </tr>\n",
       "    <tr>\n",
       "      <th>1990</th>\n",
       "      <td>1991</td>\n",
       "      <td>Hound Dog</td>\n",
       "      <td>Elvis Presley</td>\n",
       "      <td>1958</td>\n",
       "      <td>175</td>\n",
       "      <td>76</td>\n",
       "      <td>36</td>\n",
       "      <td>-8</td>\n",
       "      <td>76</td>\n",
       "      <td>95</td>\n",
       "      <td>136</td>\n",
       "      <td>73</td>\n",
       "      <td>6</td>\n",
       "      <td>69</td>\n",
       "      <td>0</td>\n",
       "    </tr>\n",
       "    <tr>\n",
       "      <th>1991</th>\n",
       "      <td>1992</td>\n",
       "      <td>Johnny B. Goode</td>\n",
       "      <td>Chuck Berry</td>\n",
       "      <td>1959</td>\n",
       "      <td>168</td>\n",
       "      <td>80</td>\n",
       "      <td>53</td>\n",
       "      <td>-9</td>\n",
       "      <td>31</td>\n",
       "      <td>97</td>\n",
       "      <td>162</td>\n",
       "      <td>74</td>\n",
       "      <td>7</td>\n",
       "      <td>74</td>\n",
       "      <td>0</td>\n",
       "    </tr>\n",
       "    <tr>\n",
       "      <th>1992</th>\n",
       "      <td>1993</td>\n",
       "      <td>Take Five</td>\n",
       "      <td>The Dave Brubeck Quartet</td>\n",
       "      <td>1959</td>\n",
       "      <td>174</td>\n",
       "      <td>26</td>\n",
       "      <td>45</td>\n",
       "      <td>-13</td>\n",
       "      <td>7</td>\n",
       "      <td>60</td>\n",
       "      <td>324</td>\n",
       "      <td>54</td>\n",
       "      <td>4</td>\n",
       "      <td>65</td>\n",
       "      <td>0</td>\n",
       "    </tr>\n",
       "    <tr>\n",
       "      <th>1993</th>\n",
       "      <td>1994</td>\n",
       "      <td>Blueberry Hill</td>\n",
       "      <td>Fats Domino</td>\n",
       "      <td>1959</td>\n",
       "      <td>133</td>\n",
       "      <td>50</td>\n",
       "      <td>49</td>\n",
       "      <td>-10</td>\n",
       "      <td>16</td>\n",
       "      <td>83</td>\n",
       "      <td>148</td>\n",
       "      <td>74</td>\n",
       "      <td>3</td>\n",
       "      <td>56</td>\n",
       "      <td>0</td>\n",
       "    </tr>\n",
       "  </tbody>\n",
       "</table>\n",
       "<p>1987 rows × 15 columns</p>\n",
       "</div>"
      ],
      "text/plain": [
       "      Index                   Title                    Artist  Year  \\\n",
       "0         1                 Sunrise               Norah Jones  2004   \n",
       "1         2             Black Night               Deep Purple  2000   \n",
       "2         3          Clint Eastwood                  Gorillaz  2001   \n",
       "3         4           The Pretender              Foo Fighters  2007   \n",
       "4         5  Waitin' On A Sunny Day         Bruce Springsteen  2002   \n",
       "...     ...                     ...                       ...   ...   \n",
       "1989   1990        Heartbreak Hotel             Elvis Presley  1958   \n",
       "1990   1991               Hound Dog             Elvis Presley  1958   \n",
       "1991   1992         Johnny B. Goode               Chuck Berry  1959   \n",
       "1992   1993               Take Five  The Dave Brubeck Quartet  1959   \n",
       "1993   1994          Blueberry Hill               Fats Domino  1959   \n",
       "\n",
       "      Beats Per Minute (BPM)  Energy  Danceability  Loudness (dB)  Liveness  \\\n",
       "0                        157      30            53            -14        11   \n",
       "1                        135      79            50            -11        17   \n",
       "2                        168      69            66             -9         7   \n",
       "3                        173      96            43             -4         3   \n",
       "4                        106      82            58             -5        10   \n",
       "...                      ...     ...           ...            ...       ...   \n",
       "1989                      94      21            70            -12        11   \n",
       "1990                     175      76            36             -8        76   \n",
       "1991                     168      80            53             -9        31   \n",
       "1992                     174      26            45            -13         7   \n",
       "1993                     133      50            49            -10        16   \n",
       "\n",
       "      Valence Length (Duration)  Acousticness  Speechiness  Popularity  \\\n",
       "0          68               201            94            3          71   \n",
       "1          81               207            17            7          39   \n",
       "2          52               341             2           17          69   \n",
       "3          37               269             0            4          76   \n",
       "4          87               256             1            3          59   \n",
       "...       ...               ...           ...          ...         ...   \n",
       "1989       72               128            84            7          63   \n",
       "1990       95               136            73            6          69   \n",
       "1991       97               162            74            7          74   \n",
       "1992       60               324            54            4          65   \n",
       "1993       83               148            74            3          56   \n",
       "\n",
       "      genre_class  \n",
       "0               0  \n",
       "1               0  \n",
       "2               0  \n",
       "3               0  \n",
       "4               0  \n",
       "...           ...  \n",
       "1989            0  \n",
       "1990            0  \n",
       "1991            0  \n",
       "1992            0  \n",
       "1993            0  \n",
       "\n",
       "[1987 rows x 15 columns]"
      ]
     },
     "execution_count": 97,
     "metadata": {},
     "output_type": "execute_result"
    }
   ],
   "source": [
    "values = ['canadian contemporary r&b','latin', 'electro house','australian dance','beatlesque','neo soul','brostep','irish singer-songwriter']\n",
    "df2 = df2[df2.top_genre.isin(values) == False]\n",
    "# Change genre into numeric value\n",
    "df2['genre_class'] = 0\n",
    "#Maingroup\n",
    "#Pop Class\n",
    "df2.loc[df2.top_genre == 'dance pop','genre_class'] = 0\n",
    "df2.loc[df2.top_genre == 'pop','genre_class'] = 0\n",
    "df2.loc[df2.top_genre == 'canadian pop', 'genre_class'] = 0\n",
    "df2.loc[df2.top_genre == 'electropop', 'genre_class'] = 0\n",
    "df2.loc[df2.top_genre == 'folk-pop', 'genre_class'] = 0\n",
    "df2.loc[df2.top_genre == 'danish pop', 'genre_class'] = 0\n",
    "df2.loc[df2.top_genre == 'acoustic pop', 'genre_class'] = 0\n",
    "df2.loc[df2.top_genre == 'australian pop', 'genre_class'] = 0\n",
    "df2.loc[df2.top_genre == 'pop dance','genre_class'] = 0\n",
    "df2.loc[df2.top_genre == 'boy band', 'genre_class'] = 0\n",
    "#Rap Class\n",
    "df2.loc[df2.top_genre == 'dfw rap', 'genre_class'] = 1\n",
    "df2.loc[df2.top_genre == 'melodic rap', 'genre_class'] = 1\n",
    "df2.loc[df2.top_genre == 'emo rap','genre_class'] = 1\n",
    "df2.loc[df2.top_genre == 'rap','genre_class'] = 1\n",
    "df2.loc[df2.top_genre == 'cali rap', 'genre_class'] = 1\n",
    "df2.loc[df2.top_genre == 'gangster rap','genre_class'] = 1\n",
    "df2.loc[df2.top_genre == 'chicago rap', 'genre_class'] = 1\n",
    "df2.loc[df2.top_genre == 'pop rap', 'genre_class'] = 1\n",
    "#Rock Class\n",
    "df2.loc[df2.top_genre == 'modern rock', 'genre_class'] = 2\n",
    "df2.loc[df2.top_genre == 'alternative rock', 'genre_class'] = 2\n",
    "#Hip Hop Class\n",
    "df2.loc[df2.top_genre == 'canadian hip hop', 'genre_class'] = 3 \n",
    "df2.loc[df2.top_genre == 'north carolina hip hop', 'genre_class'] = 3\n",
    "df2.loc[df2.top_genre == 'detroit hip hop', 'genre_class'] = 3\n",
    "df2.loc[df2.top_genre == 'lgbtq+ hip hop','genre_class'] = 3\n",
    "df2.loc[df2.top_genre == 'conscious hip hop', 'genre_class'] = 3\n",
    "\n",
    "\n",
    "\n",
    "#Group for all genre\n",
    "# df2.loc[df2.top_genre == 'dance pop','genre_class'] = 0\n",
    "# df2.loc[df2.top_genre == 'pop','genre_class'] = 1\n",
    "# df2.loc[df2.top_genre == 'dfw rap', 'genre_class'] = 2\n",
    "# df2.loc[df2.top_genre == 'modern rock', 'genre_class'] = 3\n",
    "# df2.loc[df2.top_genre == 'canadian pop', 'genre_class'] = 4\n",
    "# df2.loc[df2.top_genre == 'canadian contemporary r&b', 'genre_class'] = 5\n",
    "# df2.loc[df2.top_genre == 'electropop', 'genre_class'] = 6\n",
    "# df2.loc[df2.top_genre == 'melodic rap', 'genre_class'] = 7\n",
    "# df2.loc[df2.top_genre == 'latin', 'genre_class'] = 8\n",
    "# df2.loc[df2.top_genre == 'folk-pop', 'genre_class'] = 9\n",
    "# df2.loc[df2.top_genre == 'canadian hip hop', 'genre_class'] = 10\n",
    "# df2.loc[df2.top_genre == 'emo rap','genre_class'] = 11\n",
    "# df2.loc[df2.top_genre == 'rap','genre_class'] = 12\n",
    "# df2.loc[df2.top_genre == 'north carolina hip hop', 'genre_class'] = 13\n",
    "# df2.loc[df2.top_genre == 'boy band', 'genre_class'] = 14\n",
    "# df2.loc[df2.top_genre == 'detroit hip hop', 'genre_class'] = 15\n",
    "# df2.loc[df2.top_genre == 'electro house', 'genre_class'] = 16\n",
    "# df2.loc[df2.top_genre == 'australian dance', 'genre_class'] = 17\n",
    "# df2.loc[df2.top_genre == 'beatlesque', 'genre_class'] = 18\n",
    "# df2.loc[df2.top_genre == 'cali rap', 'genre_class'] = 19\n",
    "# df2.loc[df2.top_genre == 'danish pop', 'genre_class'] = 20\n",
    "# df2.loc[df2.top_genre == 'acoustic pop', 'genre_class'] = 21\n",
    "# df2.loc[df2.top_genre == 'lgbtq+ hip hop','genre_class'] = 22\n",
    "# df2.loc[df2.top_genre == 'gangster rap','genre_class'] = 23\n",
    "# df2.loc[df2.top_genre == 'chicago rap', 'genre_class'] = 24\n",
    "# df2.loc[df2.top_genre == 'australian pop', 'genre_class'] = 25\n",
    "# df2.loc[df2.top_genre == 'alternative rock', 'genre_class'] = 26\n",
    "# df2.loc[df2.top_genre == 'conscious hip hop', 'genre_class'] = 27\n",
    "# df2.loc[df2.top_genre == 'classic rock', 'genre_class'] = 28\n",
    "# df2.loc[df2.top_genre == 'neo soul', 'genre_class'] = 29\n",
    "# df2.loc[df2.top_genre == 'pop rap', 'genre_class'] = 30\n",
    "# df2.loc[df2.top_genre == 'brostep', 'genre_class'] = 31\n",
    "# df2.loc[df2.top_genre == 'irish singer-songwriter', 'genre_class'] = 32\n",
    "# df2.loc[df2.top_genre == 'pop dance','genre_class'] = 33\n",
    "\n",
    "\n",
    "df2.drop(labels=['top_genre'], axis=1)"
   ]
  },
  {
   "cell_type": "code",
   "execution_count": 98,
   "metadata": {},
   "outputs": [
    {
     "name": "stderr",
     "output_type": "stream",
     "text": [
      "C:\\Users\\Harris\\AppData\\Local\\Temp\\ipykernel_6868\\1124364234.py:5: FutureWarning: Passing a negative integer is deprecated in version 1.0 and will not be supported in future version. Instead, use None to not limit the column width.\n",
      "  pd.set_option('display.max_colwidth', -1)\n"
     ]
    }
   ],
   "source": []
  },
  {
   "cell_type": "code",
   "execution_count": 125,
   "metadata": {
    "colab": {
     "base_uri": "https://localhost:8080/",
     "height": 423
    },
    "id": "V-CiIxW0UrOW",
    "outputId": "7a225ab5-b38d-4658-e478-d16a09bdca88"
   },
   "outputs": [
    {
     "name": "stdout",
     "output_type": "stream",
     "text": [
      "      Index                                Title                 Artist  \\\n",
      "1         2                          Black Night            Deep Purple   \n",
      "2         3                       Clint Eastwood               Gorillaz   \n",
      "4         5               Waitin' On A Sunny Day      Bruce Springsteen   \n",
      "6         7                    She Will Be Loved               Maroon 5   \n",
      "12       13                        Als Het Golft                De Dijk   \n",
      "...     ...                                  ...                    ...   \n",
      "1974   1975                             Overture                The Who   \n",
      "1975   1976                    Streets of London           Ralph McTell   \n",
      "1978   1979  The First Time Ever I Saw Your Face          Roberta Flack   \n",
      "1983   1984    Black Magic Woman - 2018 Remaster          Fleetwood Mac   \n",
      "1984   1985   Suite: Judy Blue Eyes - Remastered  Crosby, Stills & Nash   \n",
      "\n",
      "                top_genre  Year  Beats Per Minute (BPM)  Energy  Danceability  \\\n",
      "1              album rock  2000                     135      79            50   \n",
      "2     alternative hip hop  2001                     168      69            66   \n",
      "4            classic rock  2002                     106      82            58   \n",
      "6                     pop  2002                     102      71            71   \n",
      "12            dutch indie  2000                     102      88            54   \n",
      "...                   ...   ...                     ...     ...           ...   \n",
      "1974           album rock  1969                     118      62            48   \n",
      "1975         british folk  1969                     156      30            40   \n",
      "1978      adult standards  1969                     121       3            31   \n",
      "1983           album rock  1969                     129      41            46   \n",
      "1984           album rock  1969                     154      36            45   \n",
      "\n",
      "      Loudness (dB)  Liveness  Valence  Length (Duration)  Acousticness  \\\n",
      "1               -11        17       81                207            17   \n",
      "2                -9         7       52                341             2   \n",
      "4                -5        10       87                256             1   \n",
      "6                -6        13       54                257             6   \n",
      "12               -6        53       59                214             2   \n",
      "...             ...       ...      ...                ...           ...   \n",
      "1974            -10        14       19                320             6   \n",
      "1975            -15        10       19                249            63   \n",
      "1978            -22        16       14                261            73   \n",
      "1983            -11        28       44                173             5   \n",
      "1984            -13        20       30                444            47   \n",
      "\n",
      "      Speechiness  Popularity  genre_class  \n",
      "1               7          39            0  \n",
      "2              17          69            0  \n",
      "4               3          59            0  \n",
      "6               3          74            0  \n",
      "12              3          34            0  \n",
      "...           ...         ...          ...  \n",
      "1974            3          43            0  \n",
      "1975            3          57            0  \n",
      "1978            4          64            0  \n",
      "1983            4          48            0  \n",
      "1984            4          67            0  \n",
      "\n",
      "[566 rows x 16 columns]\n"
     ]
    }
   ],
   "source": [
    "hehv = np.where((df2['genre_class']==0) & (df2['Energy']>=61) & (df2['Valence']>=50))\n",
    "\n",
    "print(df2.loc[hehv])"
   ]
  },
  {
   "cell_type": "code",
   "execution_count": 100,
   "metadata": {},
   "outputs": [
    {
     "name": "stderr",
     "output_type": "stream",
     "text": [
      "C:\\Users\\Harris\\AppData\\Local\\Temp\\ipykernel_6868\\1905623621.py:2: FutureWarning: column_space is deprecated and will be removed in a future version. Use df.to_string(col_space=...) instead.\n",
      "  pd.reset_option('all')\n",
      "C:\\Users\\Harris\\AppData\\Local\\Temp\\ipykernel_6868\\1905623621.py:2: FutureWarning: As the xlwt package is no longer maintained, the xlwt engine will be removed in a future version of pandas. This is the only engine in pandas that supports writing in the xls format. Install openpyxl and write to an xlsx file instead.\n",
      "  pd.reset_option('all')\n",
      "C:\\Users\\Harris\\AppData\\Local\\Temp\\ipykernel_6868\\1905623621.py:2: FutureWarning: \n",
      ": boolean\n",
      "    use_inf_as_null had been deprecated and will be removed in a future\n",
      "    version. Use `use_inf_as_na` instead.\n",
      "\n",
      "  pd.reset_option('all')\n"
     ]
    },
    {
     "data": {
      "text/html": [
       "<div>\n",
       "<style scoped>\n",
       "    .dataframe tbody tr th:only-of-type {\n",
       "        vertical-align: middle;\n",
       "    }\n",
       "\n",
       "    .dataframe tbody tr th {\n",
       "        vertical-align: top;\n",
       "    }\n",
       "\n",
       "    .dataframe thead th {\n",
       "        text-align: right;\n",
       "    }\n",
       "</style>\n",
       "<table border=\"1\" class=\"dataframe\">\n",
       "  <thead>\n",
       "    <tr style=\"text-align: right;\">\n",
       "      <th></th>\n",
       "      <th>Index</th>\n",
       "      <th>Title</th>\n",
       "      <th>Artist</th>\n",
       "      <th>top_genre</th>\n",
       "      <th>Year</th>\n",
       "      <th>Beats Per Minute (BPM)</th>\n",
       "      <th>Energy</th>\n",
       "      <th>Danceability</th>\n",
       "      <th>Loudness (dB)</th>\n",
       "      <th>Liveness</th>\n",
       "      <th>Valence</th>\n",
       "      <th>Length (Duration)</th>\n",
       "      <th>Acousticness</th>\n",
       "      <th>Speechiness</th>\n",
       "      <th>Popularity</th>\n",
       "    </tr>\n",
       "  </thead>\n",
       "  <tbody>\n",
       "    <tr>\n",
       "      <th>0</th>\n",
       "      <td>1</td>\n",
       "      <td>Sunrise</td>\n",
       "      <td>Norah Jones</td>\n",
       "      <td>adult standards</td>\n",
       "      <td>2004</td>\n",
       "      <td>157</td>\n",
       "      <td>30</td>\n",
       "      <td>53</td>\n",
       "      <td>-14</td>\n",
       "      <td>11</td>\n",
       "      <td>68</td>\n",
       "      <td>201</td>\n",
       "      <td>94</td>\n",
       "      <td>3</td>\n",
       "      <td>71</td>\n",
       "    </tr>\n",
       "    <tr>\n",
       "      <th>1</th>\n",
       "      <td>2</td>\n",
       "      <td>Black Night</td>\n",
       "      <td>Deep Purple</td>\n",
       "      <td>album rock</td>\n",
       "      <td>2000</td>\n",
       "      <td>135</td>\n",
       "      <td>79</td>\n",
       "      <td>50</td>\n",
       "      <td>-11</td>\n",
       "      <td>17</td>\n",
       "      <td>81</td>\n",
       "      <td>207</td>\n",
       "      <td>17</td>\n",
       "      <td>7</td>\n",
       "      <td>39</td>\n",
       "    </tr>\n",
       "    <tr>\n",
       "      <th>2</th>\n",
       "      <td>3</td>\n",
       "      <td>Clint Eastwood</td>\n",
       "      <td>Gorillaz</td>\n",
       "      <td>alternative hip hop</td>\n",
       "      <td>2001</td>\n",
       "      <td>168</td>\n",
       "      <td>69</td>\n",
       "      <td>66</td>\n",
       "      <td>-9</td>\n",
       "      <td>7</td>\n",
       "      <td>52</td>\n",
       "      <td>341</td>\n",
       "      <td>2</td>\n",
       "      <td>17</td>\n",
       "      <td>69</td>\n",
       "    </tr>\n",
       "    <tr>\n",
       "      <th>3</th>\n",
       "      <td>4</td>\n",
       "      <td>The Pretender</td>\n",
       "      <td>Foo Fighters</td>\n",
       "      <td>alternative metal</td>\n",
       "      <td>2007</td>\n",
       "      <td>173</td>\n",
       "      <td>96</td>\n",
       "      <td>43</td>\n",
       "      <td>-4</td>\n",
       "      <td>3</td>\n",
       "      <td>37</td>\n",
       "      <td>269</td>\n",
       "      <td>0</td>\n",
       "      <td>4</td>\n",
       "      <td>76</td>\n",
       "    </tr>\n",
       "    <tr>\n",
       "      <th>4</th>\n",
       "      <td>5</td>\n",
       "      <td>Waitin' On A Sunny Day</td>\n",
       "      <td>Bruce Springsteen</td>\n",
       "      <td>classic rock</td>\n",
       "      <td>2002</td>\n",
       "      <td>106</td>\n",
       "      <td>82</td>\n",
       "      <td>58</td>\n",
       "      <td>-5</td>\n",
       "      <td>10</td>\n",
       "      <td>87</td>\n",
       "      <td>256</td>\n",
       "      <td>1</td>\n",
       "      <td>3</td>\n",
       "      <td>59</td>\n",
       "    </tr>\n",
       "    <tr>\n",
       "      <th>...</th>\n",
       "      <td>...</td>\n",
       "      <td>...</td>\n",
       "      <td>...</td>\n",
       "      <td>...</td>\n",
       "      <td>...</td>\n",
       "      <td>...</td>\n",
       "      <td>...</td>\n",
       "      <td>...</td>\n",
       "      <td>...</td>\n",
       "      <td>...</td>\n",
       "      <td>...</td>\n",
       "      <td>...</td>\n",
       "      <td>...</td>\n",
       "      <td>...</td>\n",
       "      <td>...</td>\n",
       "    </tr>\n",
       "    <tr>\n",
       "      <th>1989</th>\n",
       "      <td>1990</td>\n",
       "      <td>Heartbreak Hotel</td>\n",
       "      <td>Elvis Presley</td>\n",
       "      <td>adult standards</td>\n",
       "      <td>1958</td>\n",
       "      <td>94</td>\n",
       "      <td>21</td>\n",
       "      <td>70</td>\n",
       "      <td>-12</td>\n",
       "      <td>11</td>\n",
       "      <td>72</td>\n",
       "      <td>128</td>\n",
       "      <td>84</td>\n",
       "      <td>7</td>\n",
       "      <td>63</td>\n",
       "    </tr>\n",
       "    <tr>\n",
       "      <th>1990</th>\n",
       "      <td>1991</td>\n",
       "      <td>Hound Dog</td>\n",
       "      <td>Elvis Presley</td>\n",
       "      <td>adult standards</td>\n",
       "      <td>1958</td>\n",
       "      <td>175</td>\n",
       "      <td>76</td>\n",
       "      <td>36</td>\n",
       "      <td>-8</td>\n",
       "      <td>76</td>\n",
       "      <td>95</td>\n",
       "      <td>136</td>\n",
       "      <td>73</td>\n",
       "      <td>6</td>\n",
       "      <td>69</td>\n",
       "    </tr>\n",
       "    <tr>\n",
       "      <th>1991</th>\n",
       "      <td>1992</td>\n",
       "      <td>Johnny B. Goode</td>\n",
       "      <td>Chuck Berry</td>\n",
       "      <td>blues rock</td>\n",
       "      <td>1959</td>\n",
       "      <td>168</td>\n",
       "      <td>80</td>\n",
       "      <td>53</td>\n",
       "      <td>-9</td>\n",
       "      <td>31</td>\n",
       "      <td>97</td>\n",
       "      <td>162</td>\n",
       "      <td>74</td>\n",
       "      <td>7</td>\n",
       "      <td>74</td>\n",
       "    </tr>\n",
       "    <tr>\n",
       "      <th>1992</th>\n",
       "      <td>1993</td>\n",
       "      <td>Take Five</td>\n",
       "      <td>The Dave Brubeck Quartet</td>\n",
       "      <td>bebop</td>\n",
       "      <td>1959</td>\n",
       "      <td>174</td>\n",
       "      <td>26</td>\n",
       "      <td>45</td>\n",
       "      <td>-13</td>\n",
       "      <td>7</td>\n",
       "      <td>60</td>\n",
       "      <td>324</td>\n",
       "      <td>54</td>\n",
       "      <td>4</td>\n",
       "      <td>65</td>\n",
       "    </tr>\n",
       "    <tr>\n",
       "      <th>1993</th>\n",
       "      <td>1994</td>\n",
       "      <td>Blueberry Hill</td>\n",
       "      <td>Fats Domino</td>\n",
       "      <td>adult standards</td>\n",
       "      <td>1959</td>\n",
       "      <td>133</td>\n",
       "      <td>50</td>\n",
       "      <td>49</td>\n",
       "      <td>-10</td>\n",
       "      <td>16</td>\n",
       "      <td>83</td>\n",
       "      <td>148</td>\n",
       "      <td>74</td>\n",
       "      <td>3</td>\n",
       "      <td>56</td>\n",
       "    </tr>\n",
       "  </tbody>\n",
       "</table>\n",
       "<p>1994 rows × 15 columns</p>\n",
       "</div>"
      ],
      "text/plain": [
       "      Index                   Title                    Artist  \\\n",
       "0         1                 Sunrise               Norah Jones   \n",
       "1         2             Black Night               Deep Purple   \n",
       "2         3          Clint Eastwood                  Gorillaz   \n",
       "3         4           The Pretender              Foo Fighters   \n",
       "4         5  Waitin' On A Sunny Day         Bruce Springsteen   \n",
       "...     ...                     ...                       ...   \n",
       "1989   1990        Heartbreak Hotel             Elvis Presley   \n",
       "1990   1991               Hound Dog             Elvis Presley   \n",
       "1991   1992         Johnny B. Goode               Chuck Berry   \n",
       "1992   1993               Take Five  The Dave Brubeck Quartet   \n",
       "1993   1994          Blueberry Hill               Fats Domino   \n",
       "\n",
       "                top_genre  Year  Beats Per Minute (BPM)  Energy  Danceability  \\\n",
       "0         adult standards  2004                     157      30            53   \n",
       "1              album rock  2000                     135      79            50   \n",
       "2     alternative hip hop  2001                     168      69            66   \n",
       "3       alternative metal  2007                     173      96            43   \n",
       "4            classic rock  2002                     106      82            58   \n",
       "...                   ...   ...                     ...     ...           ...   \n",
       "1989      adult standards  1958                      94      21            70   \n",
       "1990      adult standards  1958                     175      76            36   \n",
       "1991           blues rock  1959                     168      80            53   \n",
       "1992                bebop  1959                     174      26            45   \n",
       "1993      adult standards  1959                     133      50            49   \n",
       "\n",
       "      Loudness (dB)  Liveness  Valence Length (Duration)  Acousticness  \\\n",
       "0               -14        11       68               201            94   \n",
       "1               -11        17       81               207            17   \n",
       "2                -9         7       52               341             2   \n",
       "3                -4         3       37               269             0   \n",
       "4                -5        10       87               256             1   \n",
       "...             ...       ...      ...               ...           ...   \n",
       "1989            -12        11       72               128            84   \n",
       "1990             -8        76       95               136            73   \n",
       "1991             -9        31       97               162            74   \n",
       "1992            -13         7       60               324            54   \n",
       "1993            -10        16       83               148            74   \n",
       "\n",
       "      Speechiness  Popularity  \n",
       "0               3          71  \n",
       "1               7          39  \n",
       "2              17          69  \n",
       "3               4          76  \n",
       "4               3          59  \n",
       "...           ...         ...  \n",
       "1989            7          63  \n",
       "1990            6          69  \n",
       "1991            7          74  \n",
       "1992            4          65  \n",
       "1993            3          56  \n",
       "\n",
       "[1994 rows x 15 columns]"
      ]
     },
     "metadata": {},
     "output_type": "display_data"
    }
   ],
   "source": [
    "# Resets te options\n",
    "pd.reset_option('all')\n",
    "display(df)h"
   ]
  },
  {
   "cell_type": "code",
   "execution_count": 101,
   "metadata": {},
   "outputs": [],
   "source": [
    "df2[\"Length (Duration)\"] = df2[\"Length (Duration)\"].str.replace(',','')\n",
    "df2[\"Length (Duration)\"] = df2[\"Length (Duration)\"].astype(int)"
   ]
  },
  {
   "cell_type": "code",
   "execution_count": 102,
   "metadata": {
    "colab": {
     "base_uri": "https://localhost:8080/"
    },
    "id": "nrg2kjsw8sUc",
    "outputId": "00f5aeb6-88ae-42fb-b09b-e8b43eb05bba"
   },
   "outputs": [
    {
     "name": "stdout",
     "output_type": "stream",
     "text": [
      "<class 'pandas.core.frame.DataFrame'>\n",
      "Int64Index: 1987 entries, 0 to 1993\n",
      "Data columns (total 16 columns):\n",
      " #   Column                  Non-Null Count  Dtype \n",
      "---  ------                  --------------  ----- \n",
      " 0   Index                   1987 non-null   int64 \n",
      " 1   Title                   1987 non-null   object\n",
      " 2   Artist                  1987 non-null   object\n",
      " 3   top_genre               1987 non-null   object\n",
      " 4   Year                    1987 non-null   int64 \n",
      " 5   Beats Per Minute (BPM)  1987 non-null   int64 \n",
      " 6   Energy                  1987 non-null   int64 \n",
      " 7   Danceability            1987 non-null   int64 \n",
      " 8   Loudness (dB)           1987 non-null   int64 \n",
      " 9   Liveness                1987 non-null   int64 \n",
      " 10  Valence                 1987 non-null   int64 \n",
      " 11  Length (Duration)       1987 non-null   int32 \n",
      " 12  Acousticness            1987 non-null   int64 \n",
      " 13  Speechiness             1987 non-null   int64 \n",
      " 14  Popularity              1987 non-null   int64 \n",
      " 15  genre_class             1987 non-null   int64 \n",
      "dtypes: int32(1), int64(12), object(3)\n",
      "memory usage: 320.7+ KB\n"
     ]
    }
   ],
   "source": [
    "df2.info()"
   ]
  },
  {
   "cell_type": "code",
   "execution_count": 103,
   "metadata": {
    "colab": {
     "base_uri": "https://localhost:8080/"
    },
    "id": "I1dkfYTnAA8f",
    "outputId": "f1a588da-2e2b-4fd3-a23d-02399bb82bb6"
   },
   "outputs": [
    {
     "data": {
      "text/plain": [
       "0    1844\n",
       "2     135\n",
       "3       7\n",
       "1       1\n",
       "Name: genre_class, dtype: int64"
      ]
     },
     "execution_count": 103,
     "metadata": {},
     "output_type": "execute_result"
    }
   ],
   "source": [
    "df2.genre_class.value_counts()"
   ]
  },
  {
   "cell_type": "code",
   "execution_count": 104,
   "metadata": {
    "colab": {
     "base_uri": "https://localhost:8080/",
     "height": 300
    },
    "id": "f5d43tH7HEx6",
    "outputId": "3f7844d4-d1c0-4bcc-c23e-69d17658a610"
   },
   "outputs": [
    {
     "data": {
      "text/html": [
       "<div>\n",
       "<style scoped>\n",
       "    .dataframe tbody tr th:only-of-type {\n",
       "        vertical-align: middle;\n",
       "    }\n",
       "\n",
       "    .dataframe tbody tr th {\n",
       "        vertical-align: top;\n",
       "    }\n",
       "\n",
       "    .dataframe thead th {\n",
       "        text-align: right;\n",
       "    }\n",
       "</style>\n",
       "<table border=\"1\" class=\"dataframe\">\n",
       "  <thead>\n",
       "    <tr style=\"text-align: right;\">\n",
       "      <th></th>\n",
       "      <th>Index</th>\n",
       "      <th>Year</th>\n",
       "      <th>Beats Per Minute (BPM)</th>\n",
       "      <th>Energy</th>\n",
       "      <th>Danceability</th>\n",
       "      <th>Loudness (dB)</th>\n",
       "      <th>Liveness</th>\n",
       "      <th>Valence</th>\n",
       "      <th>Length (Duration)</th>\n",
       "      <th>Acousticness</th>\n",
       "      <th>Speechiness</th>\n",
       "      <th>Popularity</th>\n",
       "      <th>genre_class</th>\n",
       "    </tr>\n",
       "  </thead>\n",
       "  <tbody>\n",
       "    <tr>\n",
       "      <th>count</th>\n",
       "      <td>1987.000000</td>\n",
       "      <td>1987.000000</td>\n",
       "      <td>1987.000000</td>\n",
       "      <td>1987.000000</td>\n",
       "      <td>1987.000000</td>\n",
       "      <td>1987.000000</td>\n",
       "      <td>1987.000000</td>\n",
       "      <td>1987.000000</td>\n",
       "      <td>1987.000000</td>\n",
       "      <td>1987.000000</td>\n",
       "      <td>1987.000000</td>\n",
       "      <td>1987.000000</td>\n",
       "      <td>1987.000000</td>\n",
       "    </tr>\n",
       "    <tr>\n",
       "      <th>mean</th>\n",
       "      <td>998.022144</td>\n",
       "      <td>1992.918973</td>\n",
       "      <td>120.121288</td>\n",
       "      <td>59.644187</td>\n",
       "      <td>53.239054</td>\n",
       "      <td>-9.021641</td>\n",
       "      <td>19.041268</td>\n",
       "      <td>49.405637</td>\n",
       "      <td>262.560141</td>\n",
       "      <td>28.848012</td>\n",
       "      <td>4.965274</td>\n",
       "      <td>59.476095</td>\n",
       "      <td>0.146955</td>\n",
       "    </tr>\n",
       "    <tr>\n",
       "      <th>std</th>\n",
       "      <td>576.234550</td>\n",
       "      <td>16.091067</td>\n",
       "      <td>27.941744</td>\n",
       "      <td>22.179319</td>\n",
       "      <td>15.370147</td>\n",
       "      <td>3.646383</td>\n",
       "      <td>16.747918</td>\n",
       "      <td>24.873932</td>\n",
       "      <td>93.740524</td>\n",
       "      <td>29.026034</td>\n",
       "      <td>4.328214</td>\n",
       "      <td>14.346763</td>\n",
       "      <td>0.531528</td>\n",
       "    </tr>\n",
       "    <tr>\n",
       "      <th>min</th>\n",
       "      <td>1.000000</td>\n",
       "      <td>1956.000000</td>\n",
       "      <td>37.000000</td>\n",
       "      <td>3.000000</td>\n",
       "      <td>10.000000</td>\n",
       "      <td>-27.000000</td>\n",
       "      <td>2.000000</td>\n",
       "      <td>3.000000</td>\n",
       "      <td>93.000000</td>\n",
       "      <td>0.000000</td>\n",
       "      <td>2.000000</td>\n",
       "      <td>11.000000</td>\n",
       "      <td>0.000000</td>\n",
       "    </tr>\n",
       "    <tr>\n",
       "      <th>25%</th>\n",
       "      <td>497.500000</td>\n",
       "      <td>1979.000000</td>\n",
       "      <td>99.000000</td>\n",
       "      <td>42.000000</td>\n",
       "      <td>43.000000</td>\n",
       "      <td>-11.000000</td>\n",
       "      <td>9.000000</td>\n",
       "      <td>29.000000</td>\n",
       "      <td>212.000000</td>\n",
       "      <td>3.000000</td>\n",
       "      <td>3.000000</td>\n",
       "      <td>49.000000</td>\n",
       "      <td>0.000000</td>\n",
       "    </tr>\n",
       "    <tr>\n",
       "      <th>50%</th>\n",
       "      <td>1000.000000</td>\n",
       "      <td>1993.000000</td>\n",
       "      <td>119.000000</td>\n",
       "      <td>61.000000</td>\n",
       "      <td>53.000000</td>\n",
       "      <td>-9.000000</td>\n",
       "      <td>12.000000</td>\n",
       "      <td>47.000000</td>\n",
       "      <td>246.000000</td>\n",
       "      <td>18.000000</td>\n",
       "      <td>4.000000</td>\n",
       "      <td>62.000000</td>\n",
       "      <td>0.000000</td>\n",
       "    </tr>\n",
       "    <tr>\n",
       "      <th>75%</th>\n",
       "      <td>1496.500000</td>\n",
       "      <td>2007.000000</td>\n",
       "      <td>136.000000</td>\n",
       "      <td>78.000000</td>\n",
       "      <td>64.000000</td>\n",
       "      <td>-6.000000</td>\n",
       "      <td>23.000000</td>\n",
       "      <td>70.000000</td>\n",
       "      <td>290.000000</td>\n",
       "      <td>50.000000</td>\n",
       "      <td>5.000000</td>\n",
       "      <td>71.000000</td>\n",
       "      <td>0.000000</td>\n",
       "    </tr>\n",
       "    <tr>\n",
       "      <th>max</th>\n",
       "      <td>1994.000000</td>\n",
       "      <td>2019.000000</td>\n",
       "      <td>206.000000</td>\n",
       "      <td>100.000000</td>\n",
       "      <td>96.000000</td>\n",
       "      <td>-2.000000</td>\n",
       "      <td>99.000000</td>\n",
       "      <td>99.000000</td>\n",
       "      <td>1412.000000</td>\n",
       "      <td>99.000000</td>\n",
       "      <td>55.000000</td>\n",
       "      <td>100.000000</td>\n",
       "      <td>3.000000</td>\n",
       "    </tr>\n",
       "  </tbody>\n",
       "</table>\n",
       "</div>"
      ],
      "text/plain": [
       "             Index         Year  Beats Per Minute (BPM)       Energy  \\\n",
       "count  1987.000000  1987.000000             1987.000000  1987.000000   \n",
       "mean    998.022144  1992.918973              120.121288    59.644187   \n",
       "std     576.234550    16.091067               27.941744    22.179319   \n",
       "min       1.000000  1956.000000               37.000000     3.000000   \n",
       "25%     497.500000  1979.000000               99.000000    42.000000   \n",
       "50%    1000.000000  1993.000000              119.000000    61.000000   \n",
       "75%    1496.500000  2007.000000              136.000000    78.000000   \n",
       "max    1994.000000  2019.000000              206.000000   100.000000   \n",
       "\n",
       "       Danceability  Loudness (dB)     Liveness      Valence  \\\n",
       "count   1987.000000    1987.000000  1987.000000  1987.000000   \n",
       "mean      53.239054      -9.021641    19.041268    49.405637   \n",
       "std       15.370147       3.646383    16.747918    24.873932   \n",
       "min       10.000000     -27.000000     2.000000     3.000000   \n",
       "25%       43.000000     -11.000000     9.000000    29.000000   \n",
       "50%       53.000000      -9.000000    12.000000    47.000000   \n",
       "75%       64.000000      -6.000000    23.000000    70.000000   \n",
       "max       96.000000      -2.000000    99.000000    99.000000   \n",
       "\n",
       "       Length (Duration)  Acousticness  Speechiness   Popularity  genre_class  \n",
       "count        1987.000000   1987.000000  1987.000000  1987.000000  1987.000000  \n",
       "mean          262.560141     28.848012     4.965274    59.476095     0.146955  \n",
       "std            93.740524     29.026034     4.328214    14.346763     0.531528  \n",
       "min            93.000000      0.000000     2.000000    11.000000     0.000000  \n",
       "25%           212.000000      3.000000     3.000000    49.000000     0.000000  \n",
       "50%           246.000000     18.000000     4.000000    62.000000     0.000000  \n",
       "75%           290.000000     50.000000     5.000000    71.000000     0.000000  \n",
       "max          1412.000000     99.000000    55.000000   100.000000     3.000000  "
      ]
     },
     "execution_count": 104,
     "metadata": {},
     "output_type": "execute_result"
    }
   ],
   "source": [
    "df2.describe()"
   ]
  },
  {
   "cell_type": "markdown",
   "metadata": {
    "id": "z_J9taSWsC4q"
   },
   "source": [
    "# SPLIT THE DATASET INTO TRAIN AND TEST SET"
   ]
  },
  {
   "cell_type": "code",
   "execution_count": 105,
   "metadata": {
    "colab": {
     "base_uri": "https://localhost:8080/"
    },
    "id": "3T4ZV02K1WOe",
    "outputId": "1ea77b33-0f91-417a-9176-6c43968b7077"
   },
   "outputs": [
    {
     "name": "stdout",
     "output_type": "stream",
     "text": [
      "   Index                   Title             Artist            top_genre  \\\n",
      "0      1                 Sunrise        Norah Jones      adult standards   \n",
      "1      2             Black Night        Deep Purple           album rock   \n",
      "2      3          Clint Eastwood           Gorillaz  alternative hip hop   \n",
      "3      4           The Pretender       Foo Fighters    alternative metal   \n",
      "4      5  Waitin' On A Sunny Day  Bruce Springsteen         classic rock   \n",
      "\n",
      "   Year  Beats Per Minute (BPM)  Energy  Danceability  Loudness (dB)  \\\n",
      "0  2004                     157      30            53            -14   \n",
      "1  2000                     135      79            50            -11   \n",
      "2  2001                     168      69            66             -9   \n",
      "3  2007                     173      96            43             -4   \n",
      "4  2002                     106      82            58             -5   \n",
      "\n",
      "   Liveness  Valence  Length (Duration)  Acousticness  Speechiness  \\\n",
      "0        11       68                201            94            3   \n",
      "1        17       81                207            17            7   \n",
      "2         7       52                341             2           17   \n",
      "3         3       37                269             0            4   \n",
      "4        10       87                256             1            3   \n",
      "\n",
      "   Popularity  genre_class  \n",
      "0          71            0  \n",
      "1          39            0  \n",
      "2          69            0  \n",
      "3          76            0  \n",
      "4          59            0  \n",
      "(1987, 9) (1987,)\n"
     ]
    }
   ],
   "source": [
    "#Splitting data\n",
    "import sklearn\n",
    "from sklearn.model_selection import train_test_split\n",
    "\n",
    "# head of the data\n",
    "print(df2.head())\n",
    "\n",
    "x = df2.iloc[:,5:14]\n",
    "y = df2.loc[:,'genre_class']\n",
    "\n",
    "print(x.shape,y.shape)\n",
    "x_train, x_test, y_train, y_test = train_test_split(x, y, test_size = 0.3, random_state=0)\n",
    "\n"
   ]
  },
  {
   "cell_type": "markdown",
   "metadata": {
    "id": "wDv6T7wzsxMK"
   },
   "source": [
    "# MODEL & TECHNIQUE AND EVALUATION "
   ]
  },
  {
   "cell_type": "markdown",
   "metadata": {
    "id": "1H8E3ORogeNd"
   },
   "source": [
    "**The models with using accuracy and confusion matrix as the evaluation method**"
   ]
  },
  {
   "cell_type": "markdown",
   "metadata": {
    "id": "b0BzpuUNSnww"
   },
   "source": [
    "**1.Decision Tree**"
   ]
  },
  {
   "cell_type": "code",
   "execution_count": 106,
   "metadata": {
    "colab": {
     "base_uri": "https://localhost:8080/"
    },
    "id": "4K-Oj6ZjSqCV",
    "outputId": "bb6e22e3-d5cb-4394-c986-2d9473ccebae"
   },
   "outputs": [
    {
     "name": "stdout",
     "output_type": "stream",
     "text": [
      "0.8408710217755444\n"
     ]
    }
   ],
   "source": [
    "import sklearn.metrics as metrics\n",
    "from sklearn.tree import DecisionTreeClassifier # Import Decision Tree Classifier\n",
    "dt = DecisionTreeClassifier(criterion='entropy')\n",
    "dt.fit(x_train,y_train)\n",
    "y_predict = dt.predict(x_test)\n",
    "print(metrics.accuracy_score(y_test,y_predict))"
   ]
  },
  {
   "cell_type": "markdown",
   "metadata": {
    "id": "Rzhqsqrj2Q1D"
   },
   "source": [
    "**2.SVM**"
   ]
  },
  {
   "cell_type": "code",
   "execution_count": 107,
   "metadata": {
    "id": "NLfFmlAFDo74"
   },
   "outputs": [],
   "source": [
    "# ended up not using\n",
    "\n",
    "# from sklearn.svm import LinearSVC\n",
    "\n",
    "# clf = LinearSVC().fit(x_train, y_train)\n",
    "# print('spotify dataset')\n",
    "# print('Accuracy of Linear SVC classifier on training set: {:.2f}'\n",
    "#      .format(clf.score(x_train, y_train)))\n",
    "# print('Accuracy of Linear SVC classifier on test set: {:.2f}'\n",
    "#      .format(clf.score(x_test, y_test)))"
   ]
  },
  {
   "cell_type": "code",
   "execution_count": 108,
   "metadata": {
    "colab": {
     "base_uri": "https://localhost:8080/"
    },
    "id": "g60ZcBB-v5Y1",
    "outputId": "24c8f1f0-d300-432b-d024-5d4020541487"
   },
   "outputs": [
    {
     "data": {
      "text/plain": [
       "0.9296482412060302"
      ]
     },
     "execution_count": 108,
     "metadata": {},
     "output_type": "execute_result"
    }
   ],
   "source": [
    "svm_linear=SVC(kernel='linear', C=1,gamma=1,probability=True).fit(x_train, y_train)\n",
    "svm_linear.score(x_test,y_test)"
   ]
  },
  {
   "cell_type": "code",
   "execution_count": 109,
   "metadata": {
    "colab": {
     "base_uri": "https://localhost:8080/"
    },
    "id": "BpVsCFL2D-k_",
    "outputId": "faa9056c-28f3-4076-9a9d-b75f4e6f4d36"
   },
   "outputs": [],
   "source": [
    "# svm_poly=SVC(kernel='poly', C=1,gamma=1,probability=True).fit(x_train, y_train)\n",
    "# svm_poly.score(x_test,y_test)"
   ]
  },
  {
   "cell_type": "code",
   "execution_count": 110,
   "metadata": {
    "colab": {
     "base_uri": "https://localhost:8080/"
    },
    "id": "TklC0BjSEBLc",
    "outputId": "d96bca63-146a-40b9-e78e-f61f503fa1ea"
   },
   "outputs": [
    {
     "data": {
      "text/plain": [
       "0.9380234505862647"
      ]
     },
     "execution_count": 110,
     "metadata": {},
     "output_type": "execute_result"
    }
   ],
   "source": [
    "svm_sigmoid=SVC(kernel='sigmoid', C=2,gamma=3,probability=True).fit(x_train, y_train)\n",
    "svm_sigmoid.score(x_test,y_test)"
   ]
  },
  {
   "cell_type": "markdown",
   "metadata": {
    "id": "h1sYmEdIWGdf"
   },
   "source": [
    "**3.KNN**"
   ]
  },
  {
   "cell_type": "code",
   "execution_count": 111,
   "metadata": {},
   "outputs": [
    {
     "name": "stdout",
     "output_type": "stream",
     "text": [
      "Requirement already satisfied: mlxtend in c:\\users\\harris\\appdata\\local\\programs\\python\\python39\\lib\\site-packages (0.21.0)\n",
      "Requirement already satisfied: scikit-learn>=1.0.2 in c:\\users\\harris\\appdata\\local\\programs\\python\\python39\\lib\\site-packages (from mlxtend) (1.1.3)\n",
      "Requirement already satisfied: pandas>=0.24.2 in c:\\users\\harris\\appdata\\local\\programs\\python\\python39\\lib\\site-packages (from mlxtend) (1.5.0)\n",
      "Requirement already satisfied: joblib>=0.13.2 in c:\\users\\harris\\appdata\\local\\programs\\python\\python39\\lib\\site-packages (from mlxtend) (1.2.0)\n",
      "Requirement already satisfied: setuptools in c:\\users\\harris\\appdata\\local\\programs\\python\\python39\\lib\\site-packages (from mlxtend) (49.2.1)\n",
      "Requirement already satisfied: numpy>=1.16.2 in c:\\users\\harris\\appdata\\local\\programs\\python\\python39\\lib\\site-packages (from mlxtend) (1.23.3)\n",
      "Requirement already satisfied: scipy>=1.2.1 in c:\\users\\harris\\appdata\\local\\programs\\python\\python39\\lib\\site-packages (from mlxtend) (1.9.3)\n",
      "Requirement already satisfied: matplotlib>=3.0.0 in c:\\users\\harris\\appdata\\local\\programs\\python\\python39\\lib\\site-packages (from mlxtend) (3.6.2)\n",
      "Requirement already satisfied: fonttools>=4.22.0 in c:\\users\\harris\\appdata\\local\\programs\\python\\python39\\lib\\site-packages (from matplotlib>=3.0.0->mlxtend) (4.38.0)\n",
      "Requirement already satisfied: cycler>=0.10 in c:\\users\\harris\\appdata\\local\\programs\\python\\python39\\lib\\site-packages (from matplotlib>=3.0.0->mlxtend) (0.11.0)\n",
      "Requirement already satisfied: packaging>=20.0 in c:\\users\\harris\\appdata\\local\\programs\\python\\python39\\lib\\site-packages (from matplotlib>=3.0.0->mlxtend) (21.3)\n",
      "Requirement already satisfied: pillow>=6.2.0 in c:\\users\\harris\\appdata\\local\\programs\\python\\python39\\lib\\site-packages (from matplotlib>=3.0.0->mlxtend) (9.3.0)\n",
      "Requirement already satisfied: kiwisolver>=1.0.1 in c:\\users\\harris\\appdata\\local\\programs\\python\\python39\\lib\\site-packages (from matplotlib>=3.0.0->mlxtend) (1.4.4)\n",
      "Requirement already satisfied: python-dateutil>=2.7 in c:\\users\\harris\\appdata\\local\\programs\\python\\python39\\lib\\site-packages (from matplotlib>=3.0.0->mlxtend) (2.8.2)\n",
      "Requirement already satisfied: pyparsing>=2.2.1 in c:\\users\\harris\\appdata\\local\\programs\\python\\python39\\lib\\site-packages (from matplotlib>=3.0.0->mlxtend) (3.0.9)\n",
      "Requirement already satisfied: contourpy>=1.0.1 in c:\\users\\harris\\appdata\\local\\programs\\python\\python39\\lib\\site-packages (from matplotlib>=3.0.0->mlxtend) (1.0.6)\n",
      "Requirement already satisfied: pytz>=2020.1 in c:\\users\\harris\\appdata\\local\\programs\\python\\python39\\lib\\site-packages (from pandas>=0.24.2->mlxtend) (2022.2.1)\n",
      "Requirement already satisfied: threadpoolctl>=2.0.0 in c:\\users\\harris\\appdata\\local\\programs\\python\\python39\\lib\\site-packages (from scikit-learn>=1.0.2->mlxtend) (3.1.0)\n",
      "Requirement already satisfied: six>=1.5 in c:\\users\\harris\\appdata\\local\\programs\\python\\python39\\lib\\site-packages (from python-dateutil>=2.7->matplotlib>=3.0.0->mlxtend) (1.16.0)\n",
      "Note: you may need to restart the kernel to use updated packages.\n"
     ]
    }
   ],
   "source": [
    "pip install mlxtend"
   ]
  },
  {
   "cell_type": "code",
   "execution_count": 112,
   "metadata": {
    "colab": {
     "base_uri": "https://localhost:8080/"
    },
    "id": "ZKo7Wn9lWFSj",
    "outputId": "fafd6e92-5e9c-41c2-c1cf-c5b0c4737096"
   },
   "outputs": [
    {
     "name": "stdout",
     "output_type": "stream",
     "text": [
      "Accuracy score of test is 0.938\n"
     ]
    }
   ],
   "source": [
    "from sklearn.neighbors import KNeighborsClassifier\n",
    "from sklearn.model_selection import cross_val_score\n",
    "from sklearn import datasets, neighbors\n",
    "from mlxtend.plotting import plot_decision_regions\n",
    "\n",
    "knn = KNeighborsClassifier(n_neighbors=54)\n",
    "knn.fit(x_train,y_train)\n",
    "knn.predict(x_test)\n",
    "accuracy_score = knn.score(x_test,y_test) \n",
    "print(\"Accuracy score of test is \"\"{:.3f}\".format(accuracy_score))\n",
    "\n",
    "\n",
    "\n",
    "\n",
    "\n"
   ]
  },
  {
   "cell_type": "code",
   "execution_count": 113,
   "metadata": {
    "colab": {
     "base_uri": "https://localhost:8080/"
    },
    "id": "31PyjxImEDg4",
    "outputId": "bec95e98-235d-486d-89ba-b772b852a6d0"
   },
   "outputs": [
    {
     "data": {
      "text/plain": [
       "array([0, 0, 0, 0, 0, 0, 0, 0, 0, 0, 2, 0, 0, 0, 0, 0, 0, 0, 0, 0, 0, 0,\n",
       "       0, 0, 0, 0, 0, 0, 0, 0, 0, 0, 0, 0, 0, 0, 0, 0, 0, 2, 3, 0, 0, 2,\n",
       "       0, 0, 0, 0, 0, 0, 0, 0, 0, 0, 0, 0, 0, 0, 0, 0, 0, 0, 0, 0, 0, 2,\n",
       "       0, 0, 0, 0, 0, 0, 0, 2, 0, 0, 0, 0, 2, 0, 0, 0, 0, 0, 0, 0, 0, 0,\n",
       "       0, 0, 0, 0, 0, 0, 0, 0, 0, 0, 0, 0, 0, 0, 2, 0, 0, 0, 0, 0, 0, 0,\n",
       "       0, 0, 2, 0, 0, 0, 0, 3, 0, 0, 0, 0, 0, 0, 0, 0, 0, 0, 0, 3, 0, 0,\n",
       "       0, 0, 0, 0, 0, 0, 0, 0, 0, 0, 0, 2, 0, 2, 0, 0, 0, 0, 0, 0, 0, 0,\n",
       "       0, 0, 0, 0, 0, 0, 0, 0, 0, 0, 0, 0, 0, 2, 0, 0, 0, 0, 0, 0, 0, 0,\n",
       "       0, 2, 0, 0, 0, 0, 0, 0, 0, 0, 0, 0, 0, 0, 0, 0, 0, 0, 0, 0, 0, 0,\n",
       "       0, 0, 0, 0, 2, 0, 0, 0, 0, 0, 0, 0, 0, 0, 0, 0, 0, 0, 0, 0, 0, 0,\n",
       "       0, 0, 0, 0, 0, 0, 0, 0, 0, 0, 0, 0, 0, 0, 0, 0, 0, 0, 0, 0, 0, 0,\n",
       "       0, 0, 0, 2, 0, 0, 0, 2, 0, 0, 0, 0, 0, 0, 2, 0, 0, 0, 0, 0, 0, 0,\n",
       "       0, 0, 0, 0, 0, 0, 0, 2, 0, 0, 2, 0, 0, 2, 0, 0, 0, 0, 0, 0, 0, 0,\n",
       "       0, 0, 0, 0, 0, 0, 0, 0, 0, 0, 0, 0, 0, 0, 0, 2, 0, 0, 0, 0, 0, 0,\n",
       "       0, 0, 0, 0, 0, 0, 0, 0, 0, 2, 0, 0, 0, 0, 0, 0, 0, 0, 0, 0, 0, 0,\n",
       "       0, 0, 0, 0, 0, 0, 0, 0, 0, 2, 0, 0, 0, 2, 0, 0, 0, 0, 0, 0, 0, 0,\n",
       "       0, 0, 2, 0, 0, 2, 0, 0, 0, 0, 0, 0, 0, 0, 0, 0, 0, 0, 0, 0, 0, 0,\n",
       "       0, 0, 0, 0, 0, 0, 0, 0, 0, 0, 0, 0, 0, 0, 0, 0, 0, 0, 0, 0, 0, 0,\n",
       "       0, 0, 0, 0, 0, 0, 0, 0, 0, 0, 0, 0, 0, 0, 0, 0, 0, 0, 0, 0, 2, 0,\n",
       "       0, 0, 0, 0, 0, 0, 0, 2, 0, 0, 0, 0, 0, 0, 0, 0, 0, 0, 0, 0, 0, 0,\n",
       "       0, 0, 0, 0, 0, 0, 0, 3, 0, 0, 0, 0, 0, 0, 0, 0, 0, 0, 0, 0, 0, 0,\n",
       "       0, 0, 0, 0, 0, 0, 0, 0, 0, 0, 0, 0, 0, 0, 0, 0, 0, 0, 0, 0, 0, 0,\n",
       "       0, 0, 0, 0, 0, 0, 0, 0, 0, 0, 0, 0, 0, 0, 0, 0, 0, 0, 0, 0, 0, 0,\n",
       "       0, 0, 0, 0, 0, 0, 0, 2, 0, 0, 0, 0, 0, 0, 0, 0, 0, 0, 0, 0, 0, 0,\n",
       "       0, 0, 3, 0, 0, 0, 0, 0, 0, 0, 0, 0, 2, 0, 0, 0, 0, 0, 0, 0, 0, 0,\n",
       "       0, 0, 0, 0, 0, 0, 0, 0, 0, 0, 0, 0, 0, 0, 0, 0, 2, 0, 0, 0, 2, 0,\n",
       "       0, 0, 0, 0, 0, 2, 0, 0, 0, 0, 0, 0, 0, 0, 0, 0, 0, 0, 0, 0, 0, 0,\n",
       "       0, 0, 0], dtype=int64)"
      ]
     },
     "execution_count": 113,
     "metadata": {},
     "output_type": "execute_result"
    }
   ],
   "source": [
    "np.array(y_test)"
   ]
  },
  {
   "cell_type": "code",
   "execution_count": 114,
   "metadata": {
    "colab": {
     "base_uri": "https://localhost:8080/"
    },
    "id": "050a5-SYEH0q",
    "outputId": "1b3b19e1-37d5-490d-e714-c77b8f5c23c5"
   },
   "outputs": [],
   "source": [
    "# #Predict the response for test dataset\n",
    "# y_pred = svm_poly.predict(x_test)\n",
    "# y_pred"
   ]
  },
  {
   "cell_type": "code",
   "execution_count": 115,
   "metadata": {
    "colab": {
     "base_uri": "https://localhost:8080/"
    },
    "id": "h8FNrooM6hJz",
    "outputId": "8ec02975-1457-4866-bb19-8fb62b6d430b"
   },
   "outputs": [
    {
     "data": {
      "text/plain": [
       "array([0, 0, 0, 0, 0, 0, 0, 0, 0, 0, 0, 0, 0, 0, 0, 0, 0, 0, 0, 0, 0, 0,\n",
       "       0, 0, 0, 0, 0, 0, 0, 0, 0, 0, 0, 0, 0, 0, 0, 0, 0, 0, 0, 0, 0, 0,\n",
       "       0, 0, 0, 0, 0, 0, 0, 0, 0, 0, 0, 0, 0, 0, 0, 0, 0, 0, 0, 0, 0, 0,\n",
       "       0, 0, 0, 0, 0, 0, 0, 0, 0, 0, 0, 0, 0, 0, 0, 0, 0, 0, 0, 0, 0, 0,\n",
       "       0, 0, 0, 0, 0, 0, 0, 0, 0, 0, 0, 0, 0, 0, 0, 0, 0, 0, 0, 0, 0, 0,\n",
       "       0, 0, 0, 0, 0, 0, 0, 0, 0, 0, 0, 0, 0, 0, 0, 0, 0, 0, 0, 0, 0, 0,\n",
       "       0, 0, 0, 0, 0, 0, 0, 0, 0, 0, 0, 0, 0, 0, 0, 0, 0, 0, 0, 0, 0, 0,\n",
       "       0, 0, 0, 0, 0, 0, 0, 0, 0, 0, 0, 0, 0, 0, 0, 0, 0, 0, 0, 0, 0, 0,\n",
       "       0, 0, 0, 0, 0, 0, 0, 0, 0, 0, 0, 0, 0, 0, 0, 0, 0, 0, 0, 0, 0, 0,\n",
       "       0, 0, 0, 0, 0, 0, 0, 0, 0, 0, 0, 0, 0, 0, 0, 0, 3, 0, 0, 0, 0, 0,\n",
       "       0, 0, 0, 0, 0, 0, 0, 0, 0, 0, 0, 0, 0, 0, 0, 1, 0, 1, 0, 0, 0, 0,\n",
       "       0, 0, 0, 0, 0, 0, 0, 0, 0, 0, 0, 0, 0, 0, 0, 0, 0, 0, 0, 0, 0, 0,\n",
       "       0, 0, 0, 0, 0, 0, 0, 0, 0, 0, 0, 0, 0, 0, 0, 0, 0, 0, 0, 0, 0, 0,\n",
       "       0, 0, 0, 0, 0, 0, 0, 0, 0, 0, 0, 0, 0, 0, 0, 0, 1, 0, 0, 0, 0, 0,\n",
       "       0, 0, 0, 0, 0, 0, 0, 0, 0, 0, 0, 0, 0, 0, 0, 0, 0, 0, 0, 0, 0, 0,\n",
       "       0, 0, 0, 0, 0, 0, 0, 0, 0, 0, 0, 0, 0, 0, 0, 0, 0, 0, 0, 0, 0, 0,\n",
       "       0, 0, 0, 0, 0, 0, 0, 0, 0, 0, 0, 0, 0, 0, 0, 0, 0, 0, 0, 0, 0, 0,\n",
       "       0, 0, 0, 0, 0, 0, 0, 0, 0, 0, 0, 0, 0, 0, 0, 0, 0, 0, 0, 0, 0, 0,\n",
       "       0, 0, 0, 0, 0, 0, 0, 0, 0, 0, 0, 0, 0, 0, 0, 0, 0, 0, 0, 0, 0, 3,\n",
       "       0, 0, 0, 0, 0, 0, 0, 0, 0, 0, 0, 0, 0, 0, 0, 0, 0, 0, 0, 0, 0, 0,\n",
       "       0, 0, 0, 0, 0, 0, 0, 3, 0, 0, 0, 0, 0, 0, 0, 0, 0, 0, 0, 0, 0, 0,\n",
       "       0, 0, 0, 0, 0, 0, 0, 0, 0, 0, 0, 0, 0, 0, 0, 0, 0, 0, 0, 0, 0, 0,\n",
       "       0, 0, 0, 0, 0, 0, 0, 0, 0, 0, 0, 0, 0, 0, 0, 0, 0, 0, 0, 0, 0, 0,\n",
       "       0, 0, 0, 0, 0, 0, 0, 0, 0, 0, 0, 0, 0, 0, 3, 0, 0, 0, 0, 0, 0, 0,\n",
       "       0, 0, 0, 0, 0, 0, 0, 0, 0, 0, 0, 0, 0, 0, 0, 0, 0, 0, 0, 0, 0, 0,\n",
       "       0, 0, 0, 0, 0, 0, 0, 0, 0, 0, 0, 0, 0, 0, 0, 0, 0, 0, 0, 0, 0, 0,\n",
       "       0, 0, 0, 0, 0, 0, 0, 0, 0, 0, 0, 0, 0, 0, 0, 0, 0, 0, 0, 0, 0, 0,\n",
       "       0, 0, 0], dtype=int64)"
      ]
     },
     "execution_count": 115,
     "metadata": {},
     "output_type": "execute_result"
    }
   ],
   "source": [
    "y_pred = svm_linear.predict(x_test)\n",
    "y_pred"
   ]
  },
  {
   "cell_type": "code",
   "execution_count": 116,
   "metadata": {
    "colab": {
     "base_uri": "https://localhost:8080/"
    },
    "id": "eMQ0RD2O6hUu",
    "outputId": "7831655c-7bb8-419d-e58d-00c256866e27"
   },
   "outputs": [
    {
     "data": {
      "text/plain": [
       "array([0, 0, 0, 0, 0, 0, 0, 0, 0, 0, 0, 0, 0, 0, 0, 0, 0, 0, 0, 0, 0, 0,\n",
       "       0, 0, 0, 0, 0, 0, 0, 0, 0, 0, 0, 0, 0, 0, 0, 0, 0, 0, 0, 0, 0, 0,\n",
       "       0, 0, 0, 0, 0, 0, 0, 0, 0, 0, 0, 0, 0, 0, 0, 0, 0, 0, 0, 0, 0, 0,\n",
       "       0, 0, 0, 0, 0, 0, 0, 0, 0, 0, 0, 0, 0, 0, 0, 0, 0, 0, 0, 0, 0, 0,\n",
       "       0, 0, 0, 0, 0, 0, 0, 0, 0, 0, 0, 0, 0, 0, 0, 0, 0, 0, 0, 0, 0, 0,\n",
       "       0, 0, 0, 0, 0, 0, 0, 0, 0, 0, 0, 0, 0, 0, 0, 0, 0, 0, 0, 0, 0, 0,\n",
       "       0, 0, 0, 0, 0, 0, 0, 0, 0, 0, 0, 0, 0, 0, 0, 0, 0, 0, 0, 0, 0, 0,\n",
       "       0, 0, 0, 0, 0, 0, 0, 0, 0, 0, 0, 0, 0, 0, 0, 0, 0, 0, 0, 0, 0, 0,\n",
       "       0, 0, 0, 0, 0, 0, 0, 0, 0, 0, 0, 0, 0, 0, 0, 0, 0, 0, 0, 0, 0, 0,\n",
       "       0, 0, 0, 0, 0, 0, 0, 0, 0, 0, 0, 0, 0, 0, 0, 0, 0, 0, 0, 0, 0, 0,\n",
       "       0, 0, 0, 0, 0, 0, 0, 0, 0, 0, 0, 0, 0, 0, 0, 0, 0, 0, 0, 0, 0, 0,\n",
       "       0, 0, 0, 0, 0, 0, 0, 0, 0, 0, 0, 0, 0, 0, 0, 0, 0, 0, 0, 0, 0, 0,\n",
       "       0, 0, 0, 0, 0, 0, 0, 0, 0, 0, 0, 0, 0, 0, 0, 0, 0, 0, 0, 0, 0, 0,\n",
       "       0, 0, 0, 0, 0, 0, 0, 0, 0, 0, 0, 0, 0, 0, 0, 0, 0, 0, 0, 0, 0, 0,\n",
       "       0, 0, 0, 0, 0, 0, 0, 0, 0, 0, 0, 0, 0, 0, 0, 0, 0, 0, 0, 0, 0, 0,\n",
       "       0, 0, 0, 0, 0, 0, 0, 0, 0, 0, 0, 0, 0, 0, 0, 0, 0, 0, 0, 0, 0, 0,\n",
       "       0, 0, 0, 0, 0, 0, 0, 0, 0, 0, 0, 0, 0, 0, 0, 0, 0, 0, 0, 0, 0, 0,\n",
       "       0, 0, 0, 0, 0, 0, 0, 0, 0, 0, 0, 0, 0, 0, 0, 0, 0, 0, 0, 0, 0, 0,\n",
       "       0, 0, 0, 0, 0, 0, 0, 0, 0, 0, 0, 0, 0, 0, 0, 0, 0, 0, 0, 0, 0, 0,\n",
       "       0, 0, 0, 0, 0, 0, 0, 0, 0, 0, 0, 0, 0, 0, 0, 0, 0, 0, 0, 0, 0, 0,\n",
       "       0, 0, 0, 0, 0, 0, 0, 0, 0, 0, 0, 0, 0, 0, 0, 0, 0, 0, 0, 0, 0, 0,\n",
       "       0, 0, 0, 0, 0, 0, 0, 0, 0, 0, 0, 0, 0, 0, 0, 0, 0, 0, 0, 0, 0, 0,\n",
       "       0, 0, 0, 0, 0, 0, 0, 0, 0, 0, 0, 0, 0, 0, 0, 0, 0, 0, 0, 0, 0, 0,\n",
       "       0, 0, 0, 0, 0, 0, 0, 0, 0, 0, 0, 0, 0, 0, 0, 0, 0, 0, 0, 0, 0, 0,\n",
       "       0, 0, 0, 0, 0, 0, 0, 0, 0, 0, 0, 0, 0, 0, 0, 0, 0, 0, 0, 0, 0, 0,\n",
       "       0, 0, 0, 0, 0, 0, 0, 0, 0, 0, 0, 0, 0, 0, 0, 0, 0, 0, 0, 0, 0, 0,\n",
       "       0, 0, 0, 0, 0, 0, 0, 0, 0, 0, 0, 0, 0, 0, 0, 0, 0, 0, 0, 0, 0, 0,\n",
       "       0, 0, 0], dtype=int64)"
      ]
     },
     "execution_count": 116,
     "metadata": {},
     "output_type": "execute_result"
    }
   ],
   "source": [
    "y_pred = svm_sigmoid.predict(x_test)\n",
    "y_pred"
   ]
  },
  {
   "cell_type": "code",
   "execution_count": 117,
   "metadata": {
    "colab": {
     "base_uri": "https://localhost:8080/"
    },
    "id": "XqA7JLDW6p1A",
    "outputId": "c0efec9a-c52a-4d6c-b0ff-6f24c5e92071"
   },
   "outputs": [
    {
     "data": {
      "text/plain": [
       "array([0, 0, 0, 0, 2, 2, 0, 0, 0, 0, 2, 0, 0, 2, 0, 0, 0, 2, 0, 0, 0, 0,\n",
       "       0, 0, 0, 0, 0, 0, 0, 0, 2, 0, 0, 0, 0, 0, 0, 0, 0, 0, 2, 0, 0, 0,\n",
       "       0, 0, 0, 0, 0, 2, 0, 0, 0, 0, 0, 0, 0, 0, 0, 0, 0, 2, 0, 0, 0, 0,\n",
       "       0, 0, 0, 0, 0, 0, 0, 0, 0, 0, 0, 2, 0, 2, 0, 0, 0, 0, 0, 0, 0, 0,\n",
       "       0, 0, 0, 0, 0, 0, 0, 2, 0, 0, 0, 0, 0, 0, 0, 0, 2, 0, 0, 0, 0, 0,\n",
       "       0, 0, 0, 0, 0, 0, 0, 0, 0, 2, 0, 0, 0, 0, 0, 0, 0, 0, 0, 0, 0, 2,\n",
       "       0, 0, 0, 0, 0, 0, 2, 0, 0, 0, 0, 0, 0, 0, 0, 0, 0, 0, 0, 0, 0, 0,\n",
       "       0, 0, 0, 0, 0, 0, 2, 0, 0, 0, 0, 0, 0, 0, 0, 0, 0, 0, 0, 0, 0, 0,\n",
       "       0, 0, 0, 0, 0, 0, 0, 0, 0, 0, 0, 0, 0, 0, 0, 0, 0, 0, 0, 0, 0, 0,\n",
       "       0, 0, 0, 0, 0, 0, 2, 0, 0, 2, 0, 0, 2, 0, 0, 0, 3, 0, 0, 0, 0, 0,\n",
       "       0, 0, 0, 0, 0, 0, 0, 0, 0, 0, 0, 0, 0, 0, 0, 0, 0, 2, 0, 0, 0, 0,\n",
       "       0, 0, 0, 0, 0, 0, 0, 0, 2, 0, 0, 0, 0, 0, 0, 0, 0, 0, 0, 0, 2, 0,\n",
       "       0, 2, 0, 0, 0, 0, 0, 0, 0, 0, 0, 0, 0, 0, 0, 0, 0, 0, 0, 0, 2, 0,\n",
       "       0, 0, 0, 2, 0, 0, 0, 0, 0, 0, 0, 0, 2, 0, 0, 0, 0, 0, 0, 0, 0, 0,\n",
       "       0, 0, 0, 0, 0, 2, 2, 0, 0, 0, 0, 0, 0, 0, 0, 2, 0, 0, 0, 0, 0, 0,\n",
       "       0, 0, 0, 0, 0, 0, 2, 2, 0, 0, 0, 2, 2, 0, 0, 0, 0, 0, 0, 2, 0, 0,\n",
       "       2, 2, 0, 0, 0, 0, 0, 0, 0, 0, 2, 0, 0, 2, 0, 0, 0, 0, 0, 0, 0, 0,\n",
       "       0, 2, 2, 0, 0, 0, 0, 0, 0, 0, 0, 0, 0, 0, 0, 2, 0, 2, 0, 0, 0, 0,\n",
       "       0, 0, 0, 0, 0, 0, 0, 0, 0, 0, 0, 0, 0, 0, 0, 0, 0, 0, 0, 3, 0, 0,\n",
       "       0, 0, 0, 0, 0, 0, 0, 0, 0, 0, 0, 0, 0, 0, 0, 0, 0, 0, 0, 0, 0, 0,\n",
       "       0, 0, 0, 0, 0, 0, 0, 0, 0, 0, 0, 0, 0, 0, 0, 0, 0, 0, 0, 0, 0, 0,\n",
       "       0, 0, 0, 0, 2, 2, 2, 0, 0, 0, 0, 0, 0, 0, 0, 0, 0, 0, 0, 0, 0, 0,\n",
       "       0, 0, 0, 0, 0, 0, 0, 0, 2, 0, 0, 2, 0, 0, 0, 0, 2, 0, 2, 0, 0, 0,\n",
       "       0, 0, 0, 0, 0, 0, 0, 0, 0, 0, 2, 0, 0, 0, 0, 0, 0, 0, 0, 0, 0, 0,\n",
       "       0, 0, 0, 0, 2, 0, 0, 0, 0, 0, 0, 0, 0, 0, 0, 0, 0, 0, 0, 2, 0, 2,\n",
       "       0, 0, 0, 0, 0, 0, 0, 0, 0, 0, 0, 0, 0, 2, 2, 0, 2, 0, 2, 0, 0, 0,\n",
       "       0, 2, 0, 0, 0, 0, 0, 0, 0, 0, 2, 0, 2, 0, 0, 0, 0, 0, 0, 0, 0, 0,\n",
       "       0, 0, 0], dtype=int64)"
      ]
     },
     "execution_count": 117,
     "metadata": {},
     "output_type": "execute_result"
    }
   ],
   "source": [
    "y_pred = dt.predict(x_test)\n",
    "y_pred"
   ]
  },
  {
   "cell_type": "code",
   "execution_count": 118,
   "metadata": {
    "colab": {
     "base_uri": "https://localhost:8080/"
    },
    "id": "2ONy1RB56p-m",
    "outputId": "09fad047-4d85-4c56-fff6-952ea893cf34"
   },
   "outputs": [
    {
     "data": {
      "text/plain": [
       "array([0, 0, 0, 0, 0, 0, 0, 0, 0, 0, 0, 0, 0, 0, 0, 0, 0, 0, 0, 0, 0, 0,\n",
       "       0, 0, 0, 0, 0, 0, 0, 0, 0, 0, 0, 0, 0, 0, 0, 0, 0, 0, 0, 0, 0, 0,\n",
       "       0, 0, 0, 0, 0, 0, 0, 0, 0, 0, 0, 0, 0, 0, 0, 0, 0, 0, 0, 0, 0, 0,\n",
       "       0, 0, 0, 0, 0, 0, 0, 0, 0, 0, 0, 0, 0, 0, 0, 0, 0, 0, 0, 0, 0, 0,\n",
       "       0, 0, 0, 0, 0, 0, 0, 0, 0, 0, 0, 0, 0, 0, 0, 0, 0, 0, 0, 0, 0, 0,\n",
       "       0, 0, 0, 0, 0, 0, 0, 0, 0, 0, 0, 0, 0, 0, 0, 0, 0, 0, 0, 0, 0, 0,\n",
       "       0, 0, 0, 0, 0, 0, 0, 0, 0, 0, 0, 0, 0, 0, 0, 0, 0, 0, 0, 0, 0, 0,\n",
       "       0, 0, 0, 0, 0, 0, 0, 0, 0, 0, 0, 0, 0, 0, 0, 0, 0, 0, 0, 0, 0, 0,\n",
       "       0, 0, 0, 0, 0, 0, 0, 0, 0, 0, 0, 0, 0, 0, 0, 0, 0, 0, 0, 0, 0, 0,\n",
       "       0, 0, 0, 0, 0, 0, 0, 0, 0, 0, 0, 0, 0, 0, 0, 0, 0, 0, 0, 0, 0, 0,\n",
       "       0, 0, 0, 0, 0, 0, 0, 0, 0, 0, 0, 0, 0, 0, 0, 0, 0, 0, 0, 0, 0, 0,\n",
       "       0, 0, 0, 0, 0, 0, 0, 0, 0, 0, 0, 0, 0, 0, 0, 0, 0, 0, 0, 0, 0, 0,\n",
       "       0, 0, 0, 0, 0, 0, 0, 0, 0, 0, 0, 0, 0, 0, 0, 0, 0, 0, 0, 0, 0, 0,\n",
       "       0, 0, 0, 0, 0, 0, 0, 0, 0, 0, 0, 0, 0, 0, 0, 0, 0, 0, 0, 0, 0, 0,\n",
       "       0, 0, 0, 0, 0, 0, 0, 0, 0, 0, 0, 0, 0, 0, 0, 0, 0, 0, 0, 0, 0, 0,\n",
       "       0, 0, 0, 0, 0, 0, 0, 0, 0, 0, 0, 0, 0, 0, 0, 0, 0, 0, 0, 0, 0, 0,\n",
       "       0, 0, 0, 0, 0, 0, 0, 0, 0, 0, 0, 0, 0, 0, 0, 0, 0, 0, 0, 0, 0, 0,\n",
       "       0, 0, 0, 0, 0, 0, 0, 0, 0, 0, 0, 0, 0, 0, 0, 0, 0, 0, 0, 0, 0, 0,\n",
       "       0, 0, 0, 0, 0, 0, 0, 0, 0, 0, 0, 0, 0, 0, 0, 0, 0, 0, 0, 0, 0, 0,\n",
       "       0, 0, 0, 0, 0, 0, 0, 0, 0, 0, 0, 0, 0, 0, 0, 0, 0, 0, 0, 0, 0, 0,\n",
       "       0, 0, 0, 0, 0, 0, 0, 0, 0, 0, 0, 0, 0, 0, 0, 0, 0, 0, 0, 0, 0, 0,\n",
       "       0, 0, 0, 0, 0, 0, 0, 0, 0, 0, 0, 0, 0, 0, 0, 0, 0, 0, 0, 0, 0, 0,\n",
       "       0, 0, 0, 0, 0, 0, 0, 0, 0, 0, 0, 0, 0, 0, 0, 0, 0, 0, 0, 0, 0, 0,\n",
       "       0, 0, 0, 0, 0, 0, 0, 0, 0, 0, 0, 0, 0, 0, 0, 0, 0, 0, 0, 0, 0, 0,\n",
       "       0, 0, 0, 0, 0, 0, 0, 0, 0, 0, 0, 0, 0, 0, 0, 0, 0, 0, 0, 0, 0, 0,\n",
       "       0, 0, 0, 0, 0, 0, 0, 0, 0, 0, 0, 0, 0, 0, 0, 0, 0, 0, 0, 0, 0, 0,\n",
       "       0, 0, 0, 0, 0, 0, 0, 0, 0, 0, 0, 0, 0, 0, 0, 0, 0, 0, 0, 0, 0, 0,\n",
       "       0, 0, 0], dtype=int64)"
      ]
     },
     "execution_count": 118,
     "metadata": {},
     "output_type": "execute_result"
    }
   ],
   "source": [
    "y_pred = knn.predict(x_test)\n",
    "y_pred"
   ]
  },
  {
   "cell_type": "code",
   "execution_count": 119,
   "metadata": {
    "colab": {
     "base_uri": "https://localhost:8080/"
    },
    "id": "pJARWQ3fEKMb",
    "outputId": "ce541542-4f8f-43b4-ee10-dc8147e92c84"
   },
   "outputs": [
    {
     "name": "stdout",
     "output_type": "stream",
     "text": [
      "Accuracy: 0.9380234505862647\n"
     ]
    }
   ],
   "source": [
    "from sklearn import metrics\n",
    "\n",
    "# Model Accuracy: how often is the classifier correct?\n",
    "print(\"Accuracy:\",metrics.accuracy_score(y_test, y_pred))"
   ]
  },
  {
   "cell_type": "code",
   "execution_count": 120,
   "metadata": {
    "colab": {
     "base_uri": "https://localhost:8080/",
     "height": 712
    },
    "id": "M-I7nsb9EMfX",
    "outputId": "bcceea5b-d7cf-4b7d-e2d2-378ae0855752"
   },
   "outputs": [
    {
     "name": "stdout",
     "output_type": "stream",
     "text": [
      "-0.06431368507831836\n",
      "0.08078966000731433\n"
     ]
    },
    {
     "ename": "TypeError",
     "evalue": "regplot() takes from 0 to 1 positional arguments but 2 positional arguments (and 2 keyword-only arguments) were given",
     "output_type": "error",
     "traceback": [
      "\u001b[1;31m---------------------------------------------------------------------------\u001b[0m",
      "\u001b[1;31mTypeError\u001b[0m                                 Traceback (most recent call last)",
      "Cell \u001b[1;32mIn [120], line 8\u001b[0m\n\u001b[0;32m      5\u001b[0m \u001b[38;5;28mprint\u001b[39m(metrics\u001b[38;5;241m.\u001b[39mmean_squared_log_error(y_test, y_pred))\n\u001b[0;32m      7\u001b[0m plt\u001b[38;5;241m.\u001b[39mfigure(figsize\u001b[38;5;241m=\u001b[39m(\u001b[38;5;241m10\u001b[39m,\u001b[38;5;241m10\u001b[39m))\n\u001b[1;32m----> 8\u001b[0m \u001b[43msns\u001b[49m\u001b[38;5;241;43m.\u001b[39;49m\u001b[43mregplot\u001b[49m\u001b[43m(\u001b[49m\u001b[43my_test\u001b[49m\u001b[43m,\u001b[49m\u001b[43m \u001b[49m\u001b[43my_pred\u001b[49m\u001b[43m,\u001b[49m\u001b[43m \u001b[49m\u001b[43mfit_reg\u001b[49m\u001b[38;5;241;43m=\u001b[39;49m\u001b[38;5;28;43;01mTrue\u001b[39;49;00m\u001b[43m,\u001b[49m\u001b[43m \u001b[49m\u001b[43mscatter_kws\u001b[49m\u001b[38;5;241;43m=\u001b[39;49m\u001b[43m{\u001b[49m\u001b[38;5;124;43m\"\u001b[39;49m\u001b[38;5;124;43ms\u001b[39;49m\u001b[38;5;124;43m\"\u001b[39;49m\u001b[43m:\u001b[49m\u001b[43m \u001b[49m\u001b[38;5;241;43m100\u001b[39;49m\u001b[43m}\u001b[49m\u001b[43m)\u001b[49m\n",
      "\u001b[1;31mTypeError\u001b[0m: regplot() takes from 0 to 1 positional arguments but 2 positional arguments (and 2 keyword-only arguments) were given"
     ]
    },
    {
     "data": {
      "text/plain": [
       "<Figure size 1000x1000 with 0 Axes>"
      ]
     },
     "metadata": {},
     "output_type": "display_data"
    }
   ],
   "source": [
    "import matplotlib.pyplot as plt\n",
    "import seaborn as sns\n",
    "\n",
    "print(metrics.r2_score(y_test, y_pred))\n",
    "print(metrics.mean_squared_log_error(y_test, y_pred))\n",
    "\n",
    "plt.figure(figsize=(10,10))\n",
    "sns.regplot(y_test, y_pred, fit_reg=True, scatter_kws={\"s\": 100})"
   ]
  },
  {
   "cell_type": "code",
   "execution_count": null,
   "metadata": {
    "colab": {
     "base_uri": "https://localhost:8080/",
     "height": 425
    },
    "id": "wJ42-wsFENMq",
    "outputId": "e3861447-fc51-4223-af76-d472ced088b5"
   },
   "outputs": [],
   "source": [
    "df2.corr()"
   ]
  },
  {
   "cell_type": "code",
   "execution_count": null,
   "metadata": {
    "colab": {
     "base_uri": "https://localhost:8080/"
    },
    "id": "DeYAou_wERr9",
    "outputId": "3d505cf7-3759-44d6-f7f4-b650c652b80d"
   },
   "outputs": [],
   "source": [
    "from sklearn.metrics import classification_report, confusion_matrix\n",
    "print(classification_report(y_test, y_pred))"
   ]
  },
  {
   "cell_type": "code",
   "execution_count": null,
   "metadata": {
    "colab": {
     "base_uri": "https://localhost:8080/",
     "height": 458
    },
    "id": "-Yn_z7T8ESOs",
    "outputId": "ac55b0fb-5bc1-43a2-c12e-af8b7c686c21"
   },
   "outputs": [],
   "source": [
    "cm = confusion_matrix(y_test, y_pred)\n",
    " \n",
    "# plotting confusion matrix\n",
    "%matplotlib inline\n",
    "plt.figure (figsize=(10,7))\n",
    "sns.heatmap(cm, annot=True)\n",
    "plt.xlabel('Predicted')\n",
    "plt.ylabel('Truth')"
   ]
  },
  {
   "cell_type": "markdown",
   "metadata": {
    "id": "XNFnrtq5PqLl"
   },
   "source": [
    "# Predict data"
   ]
  },
  {
   "cell_type": "markdown",
   "metadata": {
    "id": "OtcyNEXJPtpN"
   },
   "source": [
    "**Predict the genre from dataset**"
   ]
  },
  {
   "cell_type": "code",
   "execution_count": null,
   "metadata": {
    "colab": {
     "base_uri": "https://localhost:8080/",
     "height": 81
    },
    "id": "eALJ9gpLEWJN",
    "outputId": "659a4f4e-56dc-49e8-85fd-72194a6f8e22"
   },
   "outputs": [],
   "source": [
    "df2.loc[[3]]"
   ]
  },
  {
   "cell_type": "code",
   "execution_count": null,
   "metadata": {
    "colab": {
     "base_uri": "https://localhost:8080/",
     "height": 896
    },
    "id": "fsRlHqrtdKV0",
    "outputId": "b3becfe4-6379-4b77-93dc-59ff0c19f063"
   },
   "outputs": [],
   "source": [
    "x_test"
   ]
  },
  {
   "cell_type": "code",
   "execution_count": null,
   "metadata": {
    "colab": {
     "base_uri": "https://localhost:8080/"
    },
    "id": "_K99j3ZJdczL",
    "outputId": "e1ae8463-cd91-4ed2-cbe6-36ff7723f314"
   },
   "outputs": [],
   "source": [
    "y_test"
   ]
  },
  {
   "cell_type": "code",
   "execution_count": null,
   "metadata": {
    "colab": {
     "base_uri": "https://localhost:8080/"
    },
    "id": "p-9oIfZaxcmY",
    "outputId": "9751fae2-59fd-41f4-cd14-a309c7fdba44"
   },
   "outputs": [],
   "source": [
    "res = dt.predict(x_test.loc[[3]])\n",
    "res"
   ]
  },
  {
   "cell_type": "code",
   "execution_count": null,
   "metadata": {
    "colab": {
     "base_uri": "https://localhost:8080/"
    },
    "id": "52iwIiggxAGJ",
    "outputId": "4e5f2234-6519-44f6-d41f-4df3f87bf76c"
   },
   "outputs": [],
   "source": [
    "res = svm_linear.predict(x_test.loc[[3]])\n",
    "res"
   ]
  },
  {
   "cell_type": "code",
   "execution_count": null,
   "metadata": {
    "colab": {
     "base_uri": "https://localhost:8080/"
    },
    "id": "M_JqPxbQxAOc",
    "outputId": "211ff20c-19be-4858-ac6f-e3a02ed323c4"
   },
   "outputs": [],
   "source": [
    "res = svm_sigmoid.predict(x_test.loc[[3]])\n",
    "res"
   ]
  },
  {
   "cell_type": "code",
   "execution_count": null,
   "metadata": {
    "colab": {
     "base_uri": "https://localhost:8080/"
    },
    "id": "_yblAx29EWut",
    "outputId": "785c0e72-9416-4ed8-8346-cd3770778124"
   },
   "outputs": [],
   "source": [
    "# res = svm_poly.predict(x_test.loc[[3]])\n",
    "# res"
   ]
  },
  {
   "cell_type": "code",
   "execution_count": null,
   "metadata": {
    "colab": {
     "base_uri": "https://localhost:8080/"
    },
    "id": "fj-Q2ZazboqH",
    "outputId": "a7253106-c73a-436b-c49e-4329ffe09871"
   },
   "outputs": [],
   "source": [
    "res = knn.predict(x_test.loc[[3]])\n",
    "res"
   ]
  },
  {
   "cell_type": "markdown",
   "metadata": {
    "id": "w6cgRfFqP93-"
   },
   "source": [
    "**Predict genre from dummy data**"
   ]
  },
  {
   "cell_type": "code",
   "execution_count": null,
   "metadata": {
    "id": "BZUGr1kLEYpH"
   },
   "outputs": [],
   "source": [
    "column_names = x_test.columns.values.tolist()"
   ]
  },
  {
   "cell_type": "code",
   "execution_count": null,
   "metadata": {
    "colab": {
     "base_uri": "https://localhost:8080/"
    },
    "id": "LgEwnkO1EcV5",
    "outputId": "c42f4831-0130-4aa3-c7a7-2d68d3a84bbe"
   },
   "outputs": [],
   "source": [
    "column_names"
   ]
  },
  {
   "cell_type": "code",
   "execution_count": null,
   "metadata": {
    "id": "ujIfQnr2Ec3c"
   },
   "outputs": [],
   "source": [
    "data = {\n",
    " 'beats.per.minute' :[100],\n",
    " 'energy' :[85],\n",
    " 'danceability' :[75],\n",
    " 'loudness.dB' :[-4],\n",
    " 'liveness' :[9],\n",
    " 'valance' :[70],\n",
    " 'length' :[207],\n",
    " 'acousticness' :[7],\n",
    " 'speechiness' :[18],\n",
    " 'popularity' :[86],\n",
    "\n",
    "}"
   ]
  },
  {
   "cell_type": "code",
   "execution_count": null,
   "metadata": {
    "id": "j3raNquAHrOQ"
   },
   "outputs": [],
   "source": [
    "df_test = pd.DataFrame(data)"
   ]
  },
  {
   "cell_type": "code",
   "execution_count": null,
   "metadata": {
    "colab": {
     "base_uri": "https://localhost:8080/",
     "height": 81
    },
    "id": "0gqtffLDbzad",
    "outputId": "988555f8-4941-49d3-8ecc-0997adfa48e3"
   },
   "outputs": [],
   "source": [
    "df_test"
   ]
  },
  {
   "cell_type": "code",
   "execution_count": null,
   "metadata": {
    "colab": {
     "base_uri": "https://localhost:8080/"
    },
    "id": "j6lBIy1dxZtv",
    "outputId": "e7cc4144-e742-4288-9bca-dea61790b031"
   },
   "outputs": [],
   "source": [
    "res = dt.predict(df_test)\n",
    "res"
   ]
  },
  {
   "cell_type": "code",
   "execution_count": null,
   "metadata": {
    "colab": {
     "base_uri": "https://localhost:8080/"
    },
    "id": "pwIWBUShxTCJ",
    "outputId": "ed09c3ef-a1b1-415a-cb2b-806a4c1841ec"
   },
   "outputs": [],
   "source": [
    "res = svm_linear.predict(df_test)\n",
    "res"
   ]
  },
  {
   "cell_type": "code",
   "execution_count": null,
   "metadata": {
    "colab": {
     "base_uri": "https://localhost:8080/"
    },
    "id": "oF2WbA5ZxTJY",
    "outputId": "fa9182e4-1893-4068-def6-e91147b624ed"
   },
   "outputs": [],
   "source": [
    "res = svm_sigmoid.predict(df_test)\n",
    "res"
   ]
  },
  {
   "cell_type": "code",
   "execution_count": null,
   "metadata": {
    "colab": {
     "base_uri": "https://localhost:8080/"
    },
    "id": "2qgmZdrXHuUq",
    "outputId": "6eee86ce-201a-4201-c39a-c903a373b936"
   },
   "outputs": [],
   "source": [
    "res = svm_poly.predict(df_test)\n",
    "res"
   ]
  },
  {
   "cell_type": "code",
   "execution_count": null,
   "metadata": {
    "colab": {
     "base_uri": "https://localhost:8080/"
    },
    "id": "hLmMVKFUbvY9",
    "outputId": "12243b30-c02a-40bd-b27a-662a3879de4b"
   },
   "outputs": [],
   "source": [
    "res = knn.predict(df_test)\n",
    "res"
   ]
  },
  {
   "cell_type": "code",
   "execution_count": null,
   "metadata": {
    "colab": {
     "base_uri": "https://localhost:8080/",
     "height": 81
    },
    "id": "6nGuIe86Ei9Q",
    "outputId": "45c43eab-fe19-4a56-8058-193c2986180d"
   },
   "outputs": [],
   "source": [
    "data = {\n",
    " 'beats.per.minute' :[114],\n",
    " 'energy' :[62],\n",
    " 'danceability' :[68],\n",
    " 'loudness.dB' :[-6],\n",
    " 'liveness' :[17],\n",
    " 'valance' :[50],\n",
    " 'length' :[212],\n",
    " 'acousticness' :[25],\n",
    " 'speechiness' :[10],\n",
    " 'popularity' :[80]\n",
    "}\n",
    "df_test = pd.DataFrame(data)\n",
    "df_test"
   ]
  },
  {
   "cell_type": "code",
   "execution_count": null,
   "metadata": {
    "colab": {
     "base_uri": "https://localhost:8080/"
    },
    "id": "JKh63ZTDEzgb",
    "outputId": "3e13b883-6a35-44a0-fbea-4af35880333f"
   },
   "outputs": [],
   "source": [
    "res = dt.predict(df_test)\n",
    "res"
   ]
  },
  {
   "cell_type": "code",
   "execution_count": null,
   "metadata": {
    "colab": {
     "base_uri": "https://localhost:8080/"
    },
    "id": "FwLuQWQzFCnr",
    "outputId": "f40cbcda-6b05-4626-c7c0-02005715b291"
   },
   "outputs": [],
   "source": [
    "res0 = svm_linear.predict(df_test)\n",
    "res0"
   ]
  },
  {
   "cell_type": "code",
   "execution_count": null,
   "metadata": {
    "colab": {
     "base_uri": "https://localhost:8080/"
    },
    "id": "53Lok85qFCxu",
    "outputId": "780f370f-abf2-4afb-ab32-9ae4468f3918"
   },
   "outputs": [],
   "source": [
    "res1 = svm_sigmoid.predict(df_test)\n",
    "res1"
   ]
  },
  {
   "cell_type": "code",
   "execution_count": null,
   "metadata": {
    "colab": {
     "base_uri": "https://localhost:8080/"
    },
    "id": "VKiF8CMPFC6y",
    "outputId": "6f25bd12-7189-429e-e953-cf109d2939dc"
   },
   "outputs": [],
   "source": [
    "res2 = svm_poly.predict(df_test)\n",
    "res2"
   ]
  },
  {
   "cell_type": "code",
   "execution_count": null,
   "metadata": {
    "colab": {
     "base_uri": "https://localhost:8080/"
    },
    "id": "ZfZNvCzYFDB8",
    "outputId": "31d80703-e6c3-4389-dd20-7c9ea031cc14"
   },
   "outputs": [],
   "source": [
    "res3 = knn.predict(df_test)\n",
    "res3"
   ]
  },
  {
   "cell_type": "code",
   "execution_count": null,
   "metadata": {},
   "outputs": [],
   "source": [
    "hehv = np.where((df2['energy']>=61) & (df2['valance']>=50))"
   ]
  },
  {
   "cell_type": "code",
   "execution_count": null,
   "metadata": {},
   "outputs": [],
   "source": []
  }
 ],
 "metadata": {
  "colab": {
   "provenance": []
  },
  "kernelspec": {
   "display_name": "Python 3 (ipykernel)",
   "language": "python",
   "name": "python3"
  },
  "language_info": {
   "codemirror_mode": {
    "name": "ipython",
    "version": 3
   },
   "file_extension": ".py",
   "mimetype": "text/x-python",
   "name": "python",
   "nbconvert_exporter": "python",
   "pygments_lexer": "ipython3",
   "version": "3.9.4"
  }
 },
 "nbformat": 4,
 "nbformat_minor": 1
}
