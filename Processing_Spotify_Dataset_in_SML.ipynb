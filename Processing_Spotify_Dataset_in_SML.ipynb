{
 "cells": [
  {
   "cell_type": "markdown",
   "metadata": {
    "id": "prHUwge-q7JD"
   },
   "source": [
    "# Import Library and Dataset"
   ]
  },
  {
   "cell_type": "code",
   "execution_count": 2,
   "metadata": {
    "id": "DhA9Pu0b5GRB"
   },
   "outputs": [],
   "source": [
    "import matplotlib.pyplot as plt\n",
    "import matplotlib as pt\n",
    "import pandas as pd\n",
    "from sklearn import datasets\n",
    "from sklearn.svm import SVC\n",
    "import numpy as np\n",
    "from sklearn.metrics import accuracy_score\n",
    "import seaborn as sns\n",
    "from sklearn.linear_model import LogisticRegression\n",
    "from sklearn.model_selection import train_test_split"
   ]
  },
  {
   "cell_type": "code",
   "execution_count": 3,
   "metadata": {
    "colab": {
     "base_uri": "https://localhost:8080/",
     "height": 423
    },
    "id": "gHuVXXer5Mbn",
    "outputId": "234dbbaf-2639-48de-cb1e-d8e92df1e295"
   },
   "outputs": [
    {
     "data": {
      "text/html": [
       "<div>\n",
       "<style scoped>\n",
       "    .dataframe tbody tr th:only-of-type {\n",
       "        vertical-align: middle;\n",
       "    }\n",
       "\n",
       "    .dataframe tbody tr th {\n",
       "        vertical-align: top;\n",
       "    }\n",
       "\n",
       "    .dataframe thead th {\n",
       "        text-align: right;\n",
       "    }\n",
       "</style>\n",
       "<table border=\"1\" class=\"dataframe\">\n",
       "  <thead>\n",
       "    <tr style=\"text-align: right;\">\n",
       "      <th></th>\n",
       "      <th>title</th>\n",
       "      <th>artist</th>\n",
       "      <th>top genre</th>\n",
       "      <th>year</th>\n",
       "      <th>beats.per.minute</th>\n",
       "      <th>energy</th>\n",
       "      <th>danceability</th>\n",
       "      <th>loudness.dB</th>\n",
       "      <th>liveness</th>\n",
       "      <th>valance</th>\n",
       "      <th>length</th>\n",
       "      <th>acousticness</th>\n",
       "      <th>speechiness</th>\n",
       "      <th>popularity</th>\n",
       "    </tr>\n",
       "  </thead>\n",
       "  <tbody>\n",
       "    <tr>\n",
       "      <th>0</th>\n",
       "      <td>Blinding Lights</td>\n",
       "      <td>The Weeknd</td>\n",
       "      <td>canadian contemporary r&amp;b</td>\n",
       "      <td>2020</td>\n",
       "      <td>171</td>\n",
       "      <td>73</td>\n",
       "      <td>51</td>\n",
       "      <td>-6</td>\n",
       "      <td>9</td>\n",
       "      <td>33</td>\n",
       "      <td>200</td>\n",
       "      <td>0</td>\n",
       "      <td>6</td>\n",
       "      <td>91</td>\n",
       "    </tr>\n",
       "    <tr>\n",
       "      <th>1</th>\n",
       "      <td>Watermelon Sugar</td>\n",
       "      <td>Harry Styles</td>\n",
       "      <td>pop</td>\n",
       "      <td>2019</td>\n",
       "      <td>95</td>\n",
       "      <td>82</td>\n",
       "      <td>55</td>\n",
       "      <td>-4</td>\n",
       "      <td>34</td>\n",
       "      <td>56</td>\n",
       "      <td>174</td>\n",
       "      <td>12</td>\n",
       "      <td>5</td>\n",
       "      <td>88</td>\n",
       "    </tr>\n",
       "    <tr>\n",
       "      <th>2</th>\n",
       "      <td>Mood (feat. iann dior)</td>\n",
       "      <td>24kGoldn</td>\n",
       "      <td>cali rap</td>\n",
       "      <td>2021</td>\n",
       "      <td>91</td>\n",
       "      <td>72</td>\n",
       "      <td>70</td>\n",
       "      <td>-4</td>\n",
       "      <td>32</td>\n",
       "      <td>73</td>\n",
       "      <td>141</td>\n",
       "      <td>17</td>\n",
       "      <td>4</td>\n",
       "      <td>88</td>\n",
       "    </tr>\n",
       "    <tr>\n",
       "      <th>3</th>\n",
       "      <td>Someone You Loved</td>\n",
       "      <td>Lewis Capaldi</td>\n",
       "      <td>pop</td>\n",
       "      <td>2019</td>\n",
       "      <td>110</td>\n",
       "      <td>41</td>\n",
       "      <td>50</td>\n",
       "      <td>-6</td>\n",
       "      <td>11</td>\n",
       "      <td>45</td>\n",
       "      <td>182</td>\n",
       "      <td>75</td>\n",
       "      <td>3</td>\n",
       "      <td>86</td>\n",
       "    </tr>\n",
       "    <tr>\n",
       "      <th>4</th>\n",
       "      <td>Perfect</td>\n",
       "      <td>Ed Sheeran</td>\n",
       "      <td>pop</td>\n",
       "      <td>2017</td>\n",
       "      <td>95</td>\n",
       "      <td>45</td>\n",
       "      <td>60</td>\n",
       "      <td>-6</td>\n",
       "      <td>11</td>\n",
       "      <td>17</td>\n",
       "      <td>263</td>\n",
       "      <td>16</td>\n",
       "      <td>2</td>\n",
       "      <td>86</td>\n",
       "    </tr>\n",
       "    <tr>\n",
       "      <th>...</th>\n",
       "      <td>...</td>\n",
       "      <td>...</td>\n",
       "      <td>...</td>\n",
       "      <td>...</td>\n",
       "      <td>...</td>\n",
       "      <td>...</td>\n",
       "      <td>...</td>\n",
       "      <td>...</td>\n",
       "      <td>...</td>\n",
       "      <td>...</td>\n",
       "      <td>...</td>\n",
       "      <td>...</td>\n",
       "      <td>...</td>\n",
       "      <td>...</td>\n",
       "    </tr>\n",
       "    <tr>\n",
       "      <th>95</th>\n",
       "      <td>One Dance</td>\n",
       "      <td>Drake</td>\n",
       "      <td>canadian hip hop</td>\n",
       "      <td>2016</td>\n",
       "      <td>104</td>\n",
       "      <td>61</td>\n",
       "      <td>79</td>\n",
       "      <td>-6</td>\n",
       "      <td>32</td>\n",
       "      <td>43</td>\n",
       "      <td>174</td>\n",
       "      <td>1</td>\n",
       "      <td>6</td>\n",
       "      <td>66</td>\n",
       "    </tr>\n",
       "    <tr>\n",
       "      <th>96</th>\n",
       "      <td>Sugar</td>\n",
       "      <td>Maroon 5</td>\n",
       "      <td>pop</td>\n",
       "      <td>2015</td>\n",
       "      <td>120</td>\n",
       "      <td>79</td>\n",
       "      <td>75</td>\n",
       "      <td>-7</td>\n",
       "      <td>9</td>\n",
       "      <td>88</td>\n",
       "      <td>235</td>\n",
       "      <td>6</td>\n",
       "      <td>3</td>\n",
       "      <td>66</td>\n",
       "    </tr>\n",
       "    <tr>\n",
       "      <th>97</th>\n",
       "      <td>Emotions</td>\n",
       "      <td>Mark Mendy</td>\n",
       "      <td>pop dance</td>\n",
       "      <td>2021</td>\n",
       "      <td>126</td>\n",
       "      <td>83</td>\n",
       "      <td>66</td>\n",
       "      <td>-5</td>\n",
       "      <td>40</td>\n",
       "      <td>74</td>\n",
       "      <td>172</td>\n",
       "      <td>5</td>\n",
       "      <td>29</td>\n",
       "      <td>66</td>\n",
       "    </tr>\n",
       "    <tr>\n",
       "      <th>98</th>\n",
       "      <td>Cold Water</td>\n",
       "      <td>Major Lazer</td>\n",
       "      <td>dance pop</td>\n",
       "      <td>2018</td>\n",
       "      <td>93</td>\n",
       "      <td>80</td>\n",
       "      <td>61</td>\n",
       "      <td>-5</td>\n",
       "      <td>16</td>\n",
       "      <td>50</td>\n",
       "      <td>185</td>\n",
       "      <td>7</td>\n",
       "      <td>4</td>\n",
       "      <td>56</td>\n",
       "    </tr>\n",
       "    <tr>\n",
       "      <th>99</th>\n",
       "      <td>I Took A Pill In Ibiza - Seeb Remix</td>\n",
       "      <td>Mike Posner</td>\n",
       "      <td>dance pop</td>\n",
       "      <td>2016</td>\n",
       "      <td>102</td>\n",
       "      <td>73</td>\n",
       "      <td>67</td>\n",
       "      <td>-7</td>\n",
       "      <td>9</td>\n",
       "      <td>66</td>\n",
       "      <td>198</td>\n",
       "      <td>3</td>\n",
       "      <td>10</td>\n",
       "      <td>53</td>\n",
       "    </tr>\n",
       "  </tbody>\n",
       "</table>\n",
       "<p>100 rows × 14 columns</p>\n",
       "</div>"
      ],
      "text/plain": [
       "                                  title         artist  \\\n",
       "0                       Blinding Lights     The Weeknd   \n",
       "1                      Watermelon Sugar   Harry Styles   \n",
       "2                Mood (feat. iann dior)       24kGoldn   \n",
       "3                     Someone You Loved  Lewis Capaldi   \n",
       "4                               Perfect     Ed Sheeran   \n",
       "..                                  ...            ...   \n",
       "95                            One Dance          Drake   \n",
       "96                                Sugar       Maroon 5   \n",
       "97                             Emotions     Mark Mendy   \n",
       "98                           Cold Water    Major Lazer   \n",
       "99  I Took A Pill In Ibiza - Seeb Remix    Mike Posner   \n",
       "\n",
       "                    top genre  year  beats.per.minute  energy  danceability  \\\n",
       "0   canadian contemporary r&b  2020               171      73            51   \n",
       "1                         pop  2019                95      82            55   \n",
       "2                    cali rap  2021                91      72            70   \n",
       "3                         pop  2019               110      41            50   \n",
       "4                         pop  2017                95      45            60   \n",
       "..                        ...   ...               ...     ...           ...   \n",
       "95           canadian hip hop  2016               104      61            79   \n",
       "96                        pop  2015               120      79            75   \n",
       "97                  pop dance  2021               126      83            66   \n",
       "98                  dance pop  2018                93      80            61   \n",
       "99                  dance pop  2016               102      73            67   \n",
       "\n",
       "    loudness.dB  liveness  valance  length  acousticness  speechiness  \\\n",
       "0            -6         9       33     200             0            6   \n",
       "1            -4        34       56     174            12            5   \n",
       "2            -4        32       73     141            17            4   \n",
       "3            -6        11       45     182            75            3   \n",
       "4            -6        11       17     263            16            2   \n",
       "..          ...       ...      ...     ...           ...          ...   \n",
       "95           -6        32       43     174             1            6   \n",
       "96           -7         9       88     235             6            3   \n",
       "97           -5        40       74     172             5           29   \n",
       "98           -5        16       50     185             7            4   \n",
       "99           -7         9       66     198             3           10   \n",
       "\n",
       "    popularity  \n",
       "0           91  \n",
       "1           88  \n",
       "2           88  \n",
       "3           86  \n",
       "4           86  \n",
       "..         ...  \n",
       "95          66  \n",
       "96          66  \n",
       "97          66  \n",
       "98          56  \n",
       "99          53  \n",
       "\n",
       "[100 rows x 14 columns]"
      ]
     },
     "execution_count": 3,
     "metadata": {},
     "output_type": "execute_result"
    }
   ],
   "source": [
    "url = 'https://raw.githubusercontent.com/Gitroars/BS_FoDS_Project/main/Dataset/Top_100_most_Streamed_-_Sheet1.csv'\n",
    "df = pd.read_csv(url)\n",
    "df"
   ]
  },
  {
   "cell_type": "markdown",
   "metadata": {
    "id": "KioxfPcxqzX7"
   },
   "source": [
    "# DATA MUNGING "
   ]
  },
  {
   "cell_type": "code",
   "execution_count": 4,
   "metadata": {
    "colab": {
     "base_uri": "https://localhost:8080/"
    },
    "id": "mA47EU-3qFZn",
    "outputId": "01ac7a53-a4f6-407e-f997-78c4319cfe99"
   },
   "outputs": [
    {
     "data": {
      "text/plain": [
       "<bound method DataFrame.info of                                   title         artist  \\\n",
       "0                       Blinding Lights     The Weeknd   \n",
       "1                      Watermelon Sugar   Harry Styles   \n",
       "2                Mood (feat. iann dior)       24kGoldn   \n",
       "3                     Someone You Loved  Lewis Capaldi   \n",
       "4                               Perfect     Ed Sheeran   \n",
       "..                                  ...            ...   \n",
       "95                            One Dance          Drake   \n",
       "96                                Sugar       Maroon 5   \n",
       "97                             Emotions     Mark Mendy   \n",
       "98                           Cold Water    Major Lazer   \n",
       "99  I Took A Pill In Ibiza - Seeb Remix    Mike Posner   \n",
       "\n",
       "                    top genre  year  beats.per.minute  energy  danceability  \\\n",
       "0   canadian contemporary r&b  2020               171      73            51   \n",
       "1                         pop  2019                95      82            55   \n",
       "2                    cali rap  2021                91      72            70   \n",
       "3                         pop  2019               110      41            50   \n",
       "4                         pop  2017                95      45            60   \n",
       "..                        ...   ...               ...     ...           ...   \n",
       "95           canadian hip hop  2016               104      61            79   \n",
       "96                        pop  2015               120      79            75   \n",
       "97                  pop dance  2021               126      83            66   \n",
       "98                  dance pop  2018                93      80            61   \n",
       "99                  dance pop  2016               102      73            67   \n",
       "\n",
       "    loudness.dB  liveness  valance  length  acousticness  speechiness  \\\n",
       "0            -6         9       33     200             0            6   \n",
       "1            -4        34       56     174            12            5   \n",
       "2            -4        32       73     141            17            4   \n",
       "3            -6        11       45     182            75            3   \n",
       "4            -6        11       17     263            16            2   \n",
       "..          ...       ...      ...     ...           ...          ...   \n",
       "95           -6        32       43     174             1            6   \n",
       "96           -7         9       88     235             6            3   \n",
       "97           -5        40       74     172             5           29   \n",
       "98           -5        16       50     185             7            4   \n",
       "99           -7         9       66     198             3           10   \n",
       "\n",
       "    popularity  \n",
       "0           91  \n",
       "1           88  \n",
       "2           88  \n",
       "3           86  \n",
       "4           86  \n",
       "..         ...  \n",
       "95          66  \n",
       "96          66  \n",
       "97          66  \n",
       "98          56  \n",
       "99          53  \n",
       "\n",
       "[100 rows x 14 columns]>"
      ]
     },
     "execution_count": 4,
     "metadata": {},
     "output_type": "execute_result"
    }
   ],
   "source": [
    "df.info"
   ]
  },
  {
   "cell_type": "code",
   "execution_count": 5,
   "metadata": {
    "id": "_FEd0AKNxZZ6"
   },
   "outputs": [],
   "source": [
    "df.rename(columns = {'top genre':'top_genre'}, inplace = True)"
   ]
  },
  {
   "cell_type": "code",
   "execution_count": 6,
   "metadata": {
    "colab": {
     "base_uri": "https://localhost:8080/"
    },
    "id": "wp42TOVgaSy0",
    "outputId": "76f6a5d8-d1cb-4442-9d4a-da44480f1e82"
   },
   "outputs": [
    {
     "data": {
      "text/plain": [
       "dance pop                    28\n",
       "pop                          11\n",
       "dfw rap                       7\n",
       "modern rock                   6\n",
       "canadian pop                  6\n",
       "canadian contemporary r&b     4\n",
       "electropop                    4\n",
       "melodic rap                   3\n",
       "latin                         2\n",
       "folk-pop                      2\n",
       "canadian hip hop              2\n",
       "emo rap                       2\n",
       "rap                           2\n",
       "north carolina hip hop        1\n",
       "boy band                      1\n",
       "detroit hip hop               1\n",
       "electro house                 1\n",
       "australian dance              1\n",
       "beatlesque                    1\n",
       "cali rap                      1\n",
       "danish pop                    1\n",
       "acoustic pop                  1\n",
       "lgbtq+ hip hop                1\n",
       "gangster rap                  1\n",
       "chicago rap                   1\n",
       "australian pop                1\n",
       "alternative rock              1\n",
       "conscious hip hop             1\n",
       "classic rock                  1\n",
       "neo soul                      1\n",
       "pop rap                       1\n",
       "brostep                       1\n",
       "irish singer-songwriter       1\n",
       "pop dance                     1\n",
       "Name: top_genre, dtype: int64"
      ]
     },
     "execution_count": 6,
     "metadata": {},
     "output_type": "execute_result"
    }
   ],
   "source": [
    "df.top_genre.value_counts()"
   ]
  },
  {
   "cell_type": "code",
   "execution_count": 7,
   "metadata": {
    "colab": {
     "base_uri": "https://localhost:8080/",
     "height": 206
    },
    "id": "cdHYA-_2qIhm",
    "outputId": "9753bf61-e2b9-4398-a18d-49d843a67d89"
   },
   "outputs": [
    {
     "data": {
      "text/html": [
       "<div>\n",
       "<style scoped>\n",
       "    .dataframe tbody tr th:only-of-type {\n",
       "        vertical-align: middle;\n",
       "    }\n",
       "\n",
       "    .dataframe tbody tr th {\n",
       "        vertical-align: top;\n",
       "    }\n",
       "\n",
       "    .dataframe thead th {\n",
       "        text-align: right;\n",
       "    }\n",
       "</style>\n",
       "<table border=\"1\" class=\"dataframe\">\n",
       "  <thead>\n",
       "    <tr style=\"text-align: right;\">\n",
       "      <th></th>\n",
       "      <th>title</th>\n",
       "      <th>artist</th>\n",
       "      <th>top_genre</th>\n",
       "      <th>year</th>\n",
       "      <th>beats.per.minute</th>\n",
       "      <th>energy</th>\n",
       "      <th>danceability</th>\n",
       "      <th>loudness.dB</th>\n",
       "      <th>liveness</th>\n",
       "      <th>valance</th>\n",
       "      <th>length</th>\n",
       "      <th>acousticness</th>\n",
       "      <th>speechiness</th>\n",
       "      <th>popularity</th>\n",
       "    </tr>\n",
       "  </thead>\n",
       "  <tbody>\n",
       "    <tr>\n",
       "      <th>0</th>\n",
       "      <td>Blinding Lights</td>\n",
       "      <td>The Weeknd</td>\n",
       "      <td>canadian contemporary r&amp;b</td>\n",
       "      <td>2020</td>\n",
       "      <td>171</td>\n",
       "      <td>73</td>\n",
       "      <td>51</td>\n",
       "      <td>-6</td>\n",
       "      <td>9</td>\n",
       "      <td>33</td>\n",
       "      <td>200</td>\n",
       "      <td>0</td>\n",
       "      <td>6</td>\n",
       "      <td>91</td>\n",
       "    </tr>\n",
       "    <tr>\n",
       "      <th>1</th>\n",
       "      <td>Watermelon Sugar</td>\n",
       "      <td>Harry Styles</td>\n",
       "      <td>pop</td>\n",
       "      <td>2019</td>\n",
       "      <td>95</td>\n",
       "      <td>82</td>\n",
       "      <td>55</td>\n",
       "      <td>-4</td>\n",
       "      <td>34</td>\n",
       "      <td>56</td>\n",
       "      <td>174</td>\n",
       "      <td>12</td>\n",
       "      <td>5</td>\n",
       "      <td>88</td>\n",
       "    </tr>\n",
       "    <tr>\n",
       "      <th>2</th>\n",
       "      <td>Mood (feat. iann dior)</td>\n",
       "      <td>24kGoldn</td>\n",
       "      <td>cali rap</td>\n",
       "      <td>2021</td>\n",
       "      <td>91</td>\n",
       "      <td>72</td>\n",
       "      <td>70</td>\n",
       "      <td>-4</td>\n",
       "      <td>32</td>\n",
       "      <td>73</td>\n",
       "      <td>141</td>\n",
       "      <td>17</td>\n",
       "      <td>4</td>\n",
       "      <td>88</td>\n",
       "    </tr>\n",
       "    <tr>\n",
       "      <th>3</th>\n",
       "      <td>Someone You Loved</td>\n",
       "      <td>Lewis Capaldi</td>\n",
       "      <td>pop</td>\n",
       "      <td>2019</td>\n",
       "      <td>110</td>\n",
       "      <td>41</td>\n",
       "      <td>50</td>\n",
       "      <td>-6</td>\n",
       "      <td>11</td>\n",
       "      <td>45</td>\n",
       "      <td>182</td>\n",
       "      <td>75</td>\n",
       "      <td>3</td>\n",
       "      <td>86</td>\n",
       "    </tr>\n",
       "    <tr>\n",
       "      <th>4</th>\n",
       "      <td>Perfect</td>\n",
       "      <td>Ed Sheeran</td>\n",
       "      <td>pop</td>\n",
       "      <td>2017</td>\n",
       "      <td>95</td>\n",
       "      <td>45</td>\n",
       "      <td>60</td>\n",
       "      <td>-6</td>\n",
       "      <td>11</td>\n",
       "      <td>17</td>\n",
       "      <td>263</td>\n",
       "      <td>16</td>\n",
       "      <td>2</td>\n",
       "      <td>86</td>\n",
       "    </tr>\n",
       "  </tbody>\n",
       "</table>\n",
       "</div>"
      ],
      "text/plain": [
       "                    title         artist                  top_genre  year  \\\n",
       "0         Blinding Lights     The Weeknd  canadian contemporary r&b  2020   \n",
       "1        Watermelon Sugar   Harry Styles                        pop  2019   \n",
       "2  Mood (feat. iann dior)       24kGoldn                   cali rap  2021   \n",
       "3       Someone You Loved  Lewis Capaldi                        pop  2019   \n",
       "4                 Perfect     Ed Sheeran                        pop  2017   \n",
       "\n",
       "   beats.per.minute  energy  danceability  loudness.dB  liveness  valance  \\\n",
       "0               171      73            51           -6         9       33   \n",
       "1                95      82            55           -4        34       56   \n",
       "2                91      72            70           -4        32       73   \n",
       "3               110      41            50           -6        11       45   \n",
       "4                95      45            60           -6        11       17   \n",
       "\n",
       "   length  acousticness  speechiness  popularity  \n",
       "0     200             0            6          91  \n",
       "1     174            12            5          88  \n",
       "2     141            17            4          88  \n",
       "3     182            75            3          86  \n",
       "4     263            16            2          86  "
      ]
     },
     "execution_count": 7,
     "metadata": {},
     "output_type": "execute_result"
    }
   ],
   "source": [
    "df.head()"
   ]
  },
  {
   "cell_type": "code",
   "execution_count": 8,
   "metadata": {
    "colab": {
     "base_uri": "https://localhost:8080/",
     "height": 206
    },
    "id": "oQT3T6YGqMyy",
    "outputId": "8cd7fdab-3988-4228-843f-7ddc0f3639b9"
   },
   "outputs": [
    {
     "data": {
      "text/html": [
       "<div>\n",
       "<style scoped>\n",
       "    .dataframe tbody tr th:only-of-type {\n",
       "        vertical-align: middle;\n",
       "    }\n",
       "\n",
       "    .dataframe tbody tr th {\n",
       "        vertical-align: top;\n",
       "    }\n",
       "\n",
       "    .dataframe thead th {\n",
       "        text-align: right;\n",
       "    }\n",
       "</style>\n",
       "<table border=\"1\" class=\"dataframe\">\n",
       "  <thead>\n",
       "    <tr style=\"text-align: right;\">\n",
       "      <th></th>\n",
       "      <th>title</th>\n",
       "      <th>artist</th>\n",
       "      <th>top_genre</th>\n",
       "      <th>year</th>\n",
       "      <th>beats.per.minute</th>\n",
       "      <th>energy</th>\n",
       "      <th>danceability</th>\n",
       "      <th>loudness.dB</th>\n",
       "      <th>liveness</th>\n",
       "      <th>valance</th>\n",
       "      <th>length</th>\n",
       "      <th>acousticness</th>\n",
       "      <th>speechiness</th>\n",
       "      <th>popularity</th>\n",
       "    </tr>\n",
       "  </thead>\n",
       "  <tbody>\n",
       "    <tr>\n",
       "      <th>95</th>\n",
       "      <td>One Dance</td>\n",
       "      <td>Drake</td>\n",
       "      <td>canadian hip hop</td>\n",
       "      <td>2016</td>\n",
       "      <td>104</td>\n",
       "      <td>61</td>\n",
       "      <td>79</td>\n",
       "      <td>-6</td>\n",
       "      <td>32</td>\n",
       "      <td>43</td>\n",
       "      <td>174</td>\n",
       "      <td>1</td>\n",
       "      <td>6</td>\n",
       "      <td>66</td>\n",
       "    </tr>\n",
       "    <tr>\n",
       "      <th>96</th>\n",
       "      <td>Sugar</td>\n",
       "      <td>Maroon 5</td>\n",
       "      <td>pop</td>\n",
       "      <td>2015</td>\n",
       "      <td>120</td>\n",
       "      <td>79</td>\n",
       "      <td>75</td>\n",
       "      <td>-7</td>\n",
       "      <td>9</td>\n",
       "      <td>88</td>\n",
       "      <td>235</td>\n",
       "      <td>6</td>\n",
       "      <td>3</td>\n",
       "      <td>66</td>\n",
       "    </tr>\n",
       "    <tr>\n",
       "      <th>97</th>\n",
       "      <td>Emotions</td>\n",
       "      <td>Mark Mendy</td>\n",
       "      <td>pop dance</td>\n",
       "      <td>2021</td>\n",
       "      <td>126</td>\n",
       "      <td>83</td>\n",
       "      <td>66</td>\n",
       "      <td>-5</td>\n",
       "      <td>40</td>\n",
       "      <td>74</td>\n",
       "      <td>172</td>\n",
       "      <td>5</td>\n",
       "      <td>29</td>\n",
       "      <td>66</td>\n",
       "    </tr>\n",
       "    <tr>\n",
       "      <th>98</th>\n",
       "      <td>Cold Water</td>\n",
       "      <td>Major Lazer</td>\n",
       "      <td>dance pop</td>\n",
       "      <td>2018</td>\n",
       "      <td>93</td>\n",
       "      <td>80</td>\n",
       "      <td>61</td>\n",
       "      <td>-5</td>\n",
       "      <td>16</td>\n",
       "      <td>50</td>\n",
       "      <td>185</td>\n",
       "      <td>7</td>\n",
       "      <td>4</td>\n",
       "      <td>56</td>\n",
       "    </tr>\n",
       "    <tr>\n",
       "      <th>99</th>\n",
       "      <td>I Took A Pill In Ibiza - Seeb Remix</td>\n",
       "      <td>Mike Posner</td>\n",
       "      <td>dance pop</td>\n",
       "      <td>2016</td>\n",
       "      <td>102</td>\n",
       "      <td>73</td>\n",
       "      <td>67</td>\n",
       "      <td>-7</td>\n",
       "      <td>9</td>\n",
       "      <td>66</td>\n",
       "      <td>198</td>\n",
       "      <td>3</td>\n",
       "      <td>10</td>\n",
       "      <td>53</td>\n",
       "    </tr>\n",
       "  </tbody>\n",
       "</table>\n",
       "</div>"
      ],
      "text/plain": [
       "                                  title       artist         top_genre  year  \\\n",
       "95                            One Dance        Drake  canadian hip hop  2016   \n",
       "96                                Sugar     Maroon 5               pop  2015   \n",
       "97                             Emotions   Mark Mendy         pop dance  2021   \n",
       "98                           Cold Water  Major Lazer         dance pop  2018   \n",
       "99  I Took A Pill In Ibiza - Seeb Remix  Mike Posner         dance pop  2016   \n",
       "\n",
       "    beats.per.minute  energy  danceability  loudness.dB  liveness  valance  \\\n",
       "95               104      61            79           -6        32       43   \n",
       "96               120      79            75           -7         9       88   \n",
       "97               126      83            66           -5        40       74   \n",
       "98                93      80            61           -5        16       50   \n",
       "99               102      73            67           -7         9       66   \n",
       "\n",
       "    length  acousticness  speechiness  popularity  \n",
       "95     174             1            6          66  \n",
       "96     235             6            3          66  \n",
       "97     172             5           29          66  \n",
       "98     185             7            4          56  \n",
       "99     198             3           10          53  "
      ]
     },
     "execution_count": 8,
     "metadata": {},
     "output_type": "execute_result"
    }
   ],
   "source": [
    "df.tail()"
   ]
  },
  {
   "cell_type": "code",
   "execution_count": 9,
   "metadata": {
    "colab": {
     "base_uri": "https://localhost:8080/",
     "height": 300
    },
    "id": "RFbN6GOKqOqD",
    "outputId": "40f28d73-2c5d-43f3-cac6-7fd5e9e0dee9"
   },
   "outputs": [
    {
     "data": {
      "text/html": [
       "<div>\n",
       "<style scoped>\n",
       "    .dataframe tbody tr th:only-of-type {\n",
       "        vertical-align: middle;\n",
       "    }\n",
       "\n",
       "    .dataframe tbody tr th {\n",
       "        vertical-align: top;\n",
       "    }\n",
       "\n",
       "    .dataframe thead th {\n",
       "        text-align: right;\n",
       "    }\n",
       "</style>\n",
       "<table border=\"1\" class=\"dataframe\">\n",
       "  <thead>\n",
       "    <tr style=\"text-align: right;\">\n",
       "      <th></th>\n",
       "      <th>year</th>\n",
       "      <th>beats.per.minute</th>\n",
       "      <th>energy</th>\n",
       "      <th>danceability</th>\n",
       "      <th>loudness.dB</th>\n",
       "      <th>liveness</th>\n",
       "      <th>valance</th>\n",
       "      <th>length</th>\n",
       "      <th>acousticness</th>\n",
       "      <th>speechiness</th>\n",
       "      <th>popularity</th>\n",
       "    </tr>\n",
       "  </thead>\n",
       "  <tbody>\n",
       "    <tr>\n",
       "      <th>count</th>\n",
       "      <td>100.000000</td>\n",
       "      <td>100.000000</td>\n",
       "      <td>100.000000</td>\n",
       "      <td>100.00000</td>\n",
       "      <td>100.000000</td>\n",
       "      <td>100.000000</td>\n",
       "      <td>100.000000</td>\n",
       "      <td>100.000000</td>\n",
       "      <td>100.00000</td>\n",
       "      <td>100.000000</td>\n",
       "      <td>100.000000</td>\n",
       "    </tr>\n",
       "    <tr>\n",
       "      <th>mean</th>\n",
       "      <td>2015.960000</td>\n",
       "      <td>116.970000</td>\n",
       "      <td>62.680000</td>\n",
       "      <td>66.96000</td>\n",
       "      <td>-6.100000</td>\n",
       "      <td>16.860000</td>\n",
       "      <td>49.970000</td>\n",
       "      <td>214.530000</td>\n",
       "      <td>24.95000</td>\n",
       "      <td>9.930000</td>\n",
       "      <td>79.670000</td>\n",
       "    </tr>\n",
       "    <tr>\n",
       "      <th>std</th>\n",
       "      <td>5.327497</td>\n",
       "      <td>27.470629</td>\n",
       "      <td>16.491737</td>\n",
       "      <td>13.60401</td>\n",
       "      <td>1.987334</td>\n",
       "      <td>12.972403</td>\n",
       "      <td>21.737857</td>\n",
       "      <td>35.934974</td>\n",
       "      <td>26.27876</td>\n",
       "      <td>9.424077</td>\n",
       "      <td>5.905065</td>\n",
       "    </tr>\n",
       "    <tr>\n",
       "      <th>min</th>\n",
       "      <td>1975.000000</td>\n",
       "      <td>71.000000</td>\n",
       "      <td>11.000000</td>\n",
       "      <td>35.00000</td>\n",
       "      <td>-14.000000</td>\n",
       "      <td>3.000000</td>\n",
       "      <td>6.000000</td>\n",
       "      <td>119.000000</td>\n",
       "      <td>0.00000</td>\n",
       "      <td>2.000000</td>\n",
       "      <td>53.000000</td>\n",
       "    </tr>\n",
       "    <tr>\n",
       "      <th>25%</th>\n",
       "      <td>2015.000000</td>\n",
       "      <td>95.000000</td>\n",
       "      <td>52.000000</td>\n",
       "      <td>59.00000</td>\n",
       "      <td>-7.000000</td>\n",
       "      <td>10.000000</td>\n",
       "      <td>33.750000</td>\n",
       "      <td>190.500000</td>\n",
       "      <td>4.00000</td>\n",
       "      <td>4.000000</td>\n",
       "      <td>79.000000</td>\n",
       "    </tr>\n",
       "    <tr>\n",
       "      <th>50%</th>\n",
       "      <td>2017.000000</td>\n",
       "      <td>115.000000</td>\n",
       "      <td>64.500000</td>\n",
       "      <td>69.00000</td>\n",
       "      <td>-6.000000</td>\n",
       "      <td>12.000000</td>\n",
       "      <td>48.000000</td>\n",
       "      <td>210.000000</td>\n",
       "      <td>13.00000</td>\n",
       "      <td>6.000000</td>\n",
       "      <td>81.000000</td>\n",
       "    </tr>\n",
       "    <tr>\n",
       "      <th>75%</th>\n",
       "      <td>2018.000000</td>\n",
       "      <td>135.250000</td>\n",
       "      <td>76.000000</td>\n",
       "      <td>77.00000</td>\n",
       "      <td>-5.000000</td>\n",
       "      <td>17.250000</td>\n",
       "      <td>66.000000</td>\n",
       "      <td>234.250000</td>\n",
       "      <td>41.50000</td>\n",
       "      <td>11.000000</td>\n",
       "      <td>83.000000</td>\n",
       "    </tr>\n",
       "    <tr>\n",
       "      <th>max</th>\n",
       "      <td>2021.000000</td>\n",
       "      <td>186.000000</td>\n",
       "      <td>92.000000</td>\n",
       "      <td>91.00000</td>\n",
       "      <td>-3.000000</td>\n",
       "      <td>79.000000</td>\n",
       "      <td>93.000000</td>\n",
       "      <td>354.000000</td>\n",
       "      <td>98.00000</td>\n",
       "      <td>46.000000</td>\n",
       "      <td>91.000000</td>\n",
       "    </tr>\n",
       "  </tbody>\n",
       "</table>\n",
       "</div>"
      ],
      "text/plain": [
       "              year  beats.per.minute      energy  danceability  loudness.dB  \\\n",
       "count   100.000000        100.000000  100.000000     100.00000   100.000000   \n",
       "mean   2015.960000        116.970000   62.680000      66.96000    -6.100000   \n",
       "std       5.327497         27.470629   16.491737      13.60401     1.987334   \n",
       "min    1975.000000         71.000000   11.000000      35.00000   -14.000000   \n",
       "25%    2015.000000         95.000000   52.000000      59.00000    -7.000000   \n",
       "50%    2017.000000        115.000000   64.500000      69.00000    -6.000000   \n",
       "75%    2018.000000        135.250000   76.000000      77.00000    -5.000000   \n",
       "max    2021.000000        186.000000   92.000000      91.00000    -3.000000   \n",
       "\n",
       "         liveness     valance      length  acousticness  speechiness  \\\n",
       "count  100.000000  100.000000  100.000000     100.00000   100.000000   \n",
       "mean    16.860000   49.970000  214.530000      24.95000     9.930000   \n",
       "std     12.972403   21.737857   35.934974      26.27876     9.424077   \n",
       "min      3.000000    6.000000  119.000000       0.00000     2.000000   \n",
       "25%     10.000000   33.750000  190.500000       4.00000     4.000000   \n",
       "50%     12.000000   48.000000  210.000000      13.00000     6.000000   \n",
       "75%     17.250000   66.000000  234.250000      41.50000    11.000000   \n",
       "max     79.000000   93.000000  354.000000      98.00000    46.000000   \n",
       "\n",
       "       popularity  \n",
       "count  100.000000  \n",
       "mean    79.670000  \n",
       "std      5.905065  \n",
       "min     53.000000  \n",
       "25%     79.000000  \n",
       "50%     81.000000  \n",
       "75%     83.000000  \n",
       "max     91.000000  "
      ]
     },
     "execution_count": 9,
     "metadata": {},
     "output_type": "execute_result"
    }
   ],
   "source": [
    "df.describe()"
   ]
  },
  {
   "cell_type": "code",
   "execution_count": 10,
   "metadata": {
    "colab": {
     "base_uri": "https://localhost:8080/"
    },
    "id": "dJITMHwXqSem",
    "outputId": "1d25a4c5-8b78-4a28-a956-9728a3f5ae99"
   },
   "outputs": [
    {
     "data": {
      "text/plain": [
       "title               0\n",
       "artist              0\n",
       "top_genre           0\n",
       "year                0\n",
       "beats.per.minute    0\n",
       "energy              0\n",
       "danceability        0\n",
       "loudness.dB         0\n",
       "liveness            0\n",
       "valance             0\n",
       "length              0\n",
       "acousticness        0\n",
       "speechiness         0\n",
       "popularity          0\n",
       "dtype: int64"
      ]
     },
     "execution_count": 10,
     "metadata": {},
     "output_type": "execute_result"
    }
   ],
   "source": [
    "df.isnull().sum()"
   ]
  },
  {
   "cell_type": "code",
   "execution_count": 11,
   "metadata": {
    "colab": {
     "base_uri": "https://localhost:8080/"
    },
    "id": "lefLrWKrqUmS",
    "outputId": "b2920114-9277-4cba-d543-868764f368a5"
   },
   "outputs": [
    {
     "data": {
      "text/plain": [
       "False"
      ]
     },
     "execution_count": 11,
     "metadata": {},
     "output_type": "execute_result"
    }
   ],
   "source": [
    "df.isnull().values.any()"
   ]
  },
  {
   "cell_type": "code",
   "execution_count": 12,
   "metadata": {
    "id": "IhdK6osrqWsI"
   },
   "outputs": [],
   "source": [
    "df2 = df.dropna()"
   ]
  },
  {
   "cell_type": "code",
   "execution_count": 13,
   "metadata": {
    "colab": {
     "base_uri": "https://localhost:8080/"
    },
    "id": "oYkQCKcEqY5i",
    "outputId": "45e39d04-f4ed-4262-fb47-afc6604bca34"
   },
   "outputs": [
    {
     "name": "stdout",
     "output_type": "stream",
     "text": [
      "title               object\n",
      "artist              object\n",
      "top_genre           object\n",
      "year                 int64\n",
      "beats.per.minute     int64\n",
      "energy               int64\n",
      "danceability         int64\n",
      "loudness.dB          int64\n",
      "liveness             int64\n",
      "valance              int64\n",
      "length               int64\n",
      "acousticness         int64\n",
      "speechiness          int64\n",
      "popularity           int64\n",
      "dtype: object\n",
      "title               object\n",
      "artist              object\n",
      "top_genre           object\n",
      "year                 int64\n",
      "beats.per.minute     int64\n",
      "energy               int64\n",
      "danceability         int64\n",
      "loudness.dB          int64\n",
      "liveness             int64\n",
      "valance              int64\n",
      "length               int64\n",
      "acousticness         int64\n",
      "speechiness          int64\n",
      "popularity           int64\n",
      "dtype: object\n"
     ]
    }
   ],
   "source": [
    "print(df2.dtypes)\n",
    "print(df.dtypes)"
   ]
  },
  {
   "cell_type": "code",
   "execution_count": 14,
   "metadata": {
    "colab": {
     "base_uri": "https://localhost:8080/"
    },
    "id": "6tSsw6JWqZDr",
    "outputId": "b17e99a3-5903-48d7-d8d3-384536166387"
   },
   "outputs": [
    {
     "data": {
      "text/plain": [
       "False"
      ]
     },
     "execution_count": 14,
     "metadata": {},
     "output_type": "execute_result"
    }
   ],
   "source": [
    "df2.isnull().values.any()"
   ]
  },
  {
   "cell_type": "code",
   "execution_count": 15,
   "metadata": {
    "colab": {
     "base_uri": "https://localhost:8080/",
     "height": 592
    },
    "id": "gbLZahuAqZK8",
    "outputId": "9a94f140-aa54-422c-e3d3-22b0bc71ac39"
   },
   "outputs": [
    {
     "name": "stderr",
     "output_type": "stream",
     "text": [
      "C:\\Users\\Harris\\AppData\\Local\\Temp\\ipykernel_24560\\1441594836.py:2: FutureWarning: The default value of numeric_only in DataFrame.corr is deprecated. In a future version, it will default to False. Select only valid columns or specify the value of numeric_only to silence this warning.\n",
      "  sns.heatmap(df.corr(),vmax=.3, center=0,\n"
     ]
    },
    {
     "data": {
      "image/png": "[encoded data removed]",
      "text/plain": [
       "<Figure size 1000x1000 with 2 Axes>"
      ]
     },
     "metadata": {},
     "output_type": "display_data"
    }
   ],
   "source": [
    "plt.figure(figsize=(10,10))\n",
    "sns.heatmap(df.corr(),vmax=.3, center=0,\n",
    "            square=True, linewidths=.5, cbar_kws={\"shrink\": .5},annot=True)\n",
    "plt.tight_layout()\n",
    "plt.show()"
   ]
  },
  {
   "cell_type": "code",
   "execution_count": 16,
   "metadata": {
    "colab": {
     "base_uri": "https://localhost:8080/",
     "height": 399
    },
    "id": "uPviXp1MqZNj",
    "outputId": "e672cfb4-e079-4c22-bb99-4a9dd1a6cd6b"
   },
   "outputs": [
    {
     "data": {
      "image/png": "[encoded data removed]",
      "text/plain": [
       "<Figure size 640x480 with 1 Axes>"
      ]
     },
     "metadata": {},
     "output_type": "display_data"
    }
   ],
   "source": [
    "# Print variance age data from dataset\n",
    "sns.barplot(x=df2.top_genre.value_counts()[:30].index,y=df.top_genre.value_counts()[:30].values)\n",
    "plt.xlabel('Genre')\n",
    "plt.ylabel('Genre Counter')\n",
    "plt.title('Genre Analysis System')\n",
    "plt.rcParams[\"figure.figsize\"] = (15, 20)\n",
    "plt.rcParams[\"xtick.labelsize\"] = 8\n",
    "plt.xticks(rotation=90)\n",
    "plt.show()"
   ]
  },
  {
   "cell_type": "code",
   "execution_count": 17,
   "metadata": {
    "id": "33U9HU3TqZWa"
   },
   "outputs": [],
   "source": [
    "# #add new column 'GenreRange' into dataset and normalize the data\n",
    "# df2['Genre_Range']=0\n",
    "# year1_index=df2[(df2.year<=2015)].index \n",
    "# year2_index=df2[(df2.year>=2016) & (df2.year<=2018)].index\n",
    "# year3_index=df2[(df2.year>2018)].index\n",
    "# for index in year3_index:\n",
    "#     df2.loc[index,'Genre_Range']=2\n",
    "    \n",
    "# for index in year2_index:\n",
    "#     df2.loc[index,'Genre_Range']=1\n",
    "\n",
    "# for index in year1_index:\n",
    "#     df2.loc[index,'Genre_Range']=0\n",
    "\n",
    "# # Draw a categorical scatterplot to show each observation\n",
    "# sns.swarmplot(x=\"Genre_Range\", y=\"year\",hue='top_genre',\n",
    "#                palette=[\"red\", \"cyan\", \"red\",\"red\",\"cyan\",\"red\",\"cyan\",\"red\",\"red\",\"red\",\"red\",\"red\",\"red\",\"cyan\",\"cyan\",\n",
    "#                         \"red\",\"red\",\"red\",\"red\",\"red\",\"red\",\"cyan\",\"red\",\"cyan\",\"cyan\",\"red\",\"cyan\",\"cyan\",\"red\",\"red\",\"red\",\n",
    "#                         \"red\",\"red\",\"cyan\"], data=df2)\n",
    "# plt.show()"
   ]
  },
  {
   "cell_type": "markdown",
   "metadata": {
    "id": "D-Ue2SamqOxS"
   },
   "source": [
    "# GROUPING THE GENRE"
   ]
  },
  {
   "cell_type": "code",
   "execution_count": 18,
   "metadata": {
    "colab": {
     "base_uri": "https://localhost:8080/",
     "height": 632
    },
    "id": "yIxLJVhVhRcx",
    "outputId": "a7801afb-ad5f-4dd6-862b-2c1f96ad5e93"
   },
   "outputs": [
    {
     "data": {
      "text/html": [
       "<div>\n",
       "<style scoped>\n",
       "    .dataframe tbody tr th:only-of-type {\n",
       "        vertical-align: middle;\n",
       "    }\n",
       "\n",
       "    .dataframe tbody tr th {\n",
       "        vertical-align: top;\n",
       "    }\n",
       "\n",
       "    .dataframe thead th {\n",
       "        text-align: right;\n",
       "    }\n",
       "</style>\n",
       "<table border=\"1\" class=\"dataframe\">\n",
       "  <thead>\n",
       "    <tr style=\"text-align: right;\">\n",
       "      <th></th>\n",
       "      <th>title</th>\n",
       "      <th>artist</th>\n",
       "      <th>year</th>\n",
       "      <th>beats.per.minute</th>\n",
       "      <th>energy</th>\n",
       "      <th>danceability</th>\n",
       "      <th>loudness.dB</th>\n",
       "      <th>liveness</th>\n",
       "      <th>valance</th>\n",
       "      <th>length</th>\n",
       "      <th>acousticness</th>\n",
       "      <th>speechiness</th>\n",
       "      <th>popularity</th>\n",
       "      <th>genre_class</th>\n",
       "    </tr>\n",
       "  </thead>\n",
       "  <tbody>\n",
       "    <tr>\n",
       "      <th>1</th>\n",
       "      <td>Watermelon Sugar</td>\n",
       "      <td>Harry Styles</td>\n",
       "      <td>2019</td>\n",
       "      <td>95</td>\n",
       "      <td>82</td>\n",
       "      <td>55</td>\n",
       "      <td>-4</td>\n",
       "      <td>34</td>\n",
       "      <td>56</td>\n",
       "      <td>174</td>\n",
       "      <td>12</td>\n",
       "      <td>5</td>\n",
       "      <td>88</td>\n",
       "      <td>0</td>\n",
       "    </tr>\n",
       "    <tr>\n",
       "      <th>2</th>\n",
       "      <td>Mood (feat. iann dior)</td>\n",
       "      <td>24kGoldn</td>\n",
       "      <td>2021</td>\n",
       "      <td>91</td>\n",
       "      <td>72</td>\n",
       "      <td>70</td>\n",
       "      <td>-4</td>\n",
       "      <td>32</td>\n",
       "      <td>73</td>\n",
       "      <td>141</td>\n",
       "      <td>17</td>\n",
       "      <td>4</td>\n",
       "      <td>88</td>\n",
       "      <td>1</td>\n",
       "    </tr>\n",
       "    <tr>\n",
       "      <th>3</th>\n",
       "      <td>Someone You Loved</td>\n",
       "      <td>Lewis Capaldi</td>\n",
       "      <td>2019</td>\n",
       "      <td>110</td>\n",
       "      <td>41</td>\n",
       "      <td>50</td>\n",
       "      <td>-6</td>\n",
       "      <td>11</td>\n",
       "      <td>45</td>\n",
       "      <td>182</td>\n",
       "      <td>75</td>\n",
       "      <td>3</td>\n",
       "      <td>86</td>\n",
       "      <td>0</td>\n",
       "    </tr>\n",
       "    <tr>\n",
       "      <th>4</th>\n",
       "      <td>Perfect</td>\n",
       "      <td>Ed Sheeran</td>\n",
       "      <td>2017</td>\n",
       "      <td>95</td>\n",
       "      <td>45</td>\n",
       "      <td>60</td>\n",
       "      <td>-6</td>\n",
       "      <td>11</td>\n",
       "      <td>17</td>\n",
       "      <td>263</td>\n",
       "      <td>16</td>\n",
       "      <td>2</td>\n",
       "      <td>86</td>\n",
       "      <td>0</td>\n",
       "    </tr>\n",
       "    <tr>\n",
       "      <th>5</th>\n",
       "      <td>Believer</td>\n",
       "      <td>Imagine Dragons</td>\n",
       "      <td>2017</td>\n",
       "      <td>125</td>\n",
       "      <td>78</td>\n",
       "      <td>78</td>\n",
       "      <td>-4</td>\n",
       "      <td>8</td>\n",
       "      <td>67</td>\n",
       "      <td>204</td>\n",
       "      <td>6</td>\n",
       "      <td>13</td>\n",
       "      <td>86</td>\n",
       "      <td>2</td>\n",
       "    </tr>\n",
       "    <tr>\n",
       "      <th>...</th>\n",
       "      <td>...</td>\n",
       "      <td>...</td>\n",
       "      <td>...</td>\n",
       "      <td>...</td>\n",
       "      <td>...</td>\n",
       "      <td>...</td>\n",
       "      <td>...</td>\n",
       "      <td>...</td>\n",
       "      <td>...</td>\n",
       "      <td>...</td>\n",
       "      <td>...</td>\n",
       "      <td>...</td>\n",
       "      <td>...</td>\n",
       "      <td>...</td>\n",
       "    </tr>\n",
       "    <tr>\n",
       "      <th>95</th>\n",
       "      <td>One Dance</td>\n",
       "      <td>Drake</td>\n",
       "      <td>2016</td>\n",
       "      <td>104</td>\n",
       "      <td>61</td>\n",
       "      <td>79</td>\n",
       "      <td>-6</td>\n",
       "      <td>32</td>\n",
       "      <td>43</td>\n",
       "      <td>174</td>\n",
       "      <td>1</td>\n",
       "      <td>6</td>\n",
       "      <td>66</td>\n",
       "      <td>3</td>\n",
       "    </tr>\n",
       "    <tr>\n",
       "      <th>96</th>\n",
       "      <td>Sugar</td>\n",
       "      <td>Maroon 5</td>\n",
       "      <td>2015</td>\n",
       "      <td>120</td>\n",
       "      <td>79</td>\n",
       "      <td>75</td>\n",
       "      <td>-7</td>\n",
       "      <td>9</td>\n",
       "      <td>88</td>\n",
       "      <td>235</td>\n",
       "      <td>6</td>\n",
       "      <td>3</td>\n",
       "      <td>66</td>\n",
       "      <td>0</td>\n",
       "    </tr>\n",
       "    <tr>\n",
       "      <th>97</th>\n",
       "      <td>Emotions</td>\n",
       "      <td>Mark Mendy</td>\n",
       "      <td>2021</td>\n",
       "      <td>126</td>\n",
       "      <td>83</td>\n",
       "      <td>66</td>\n",
       "      <td>-5</td>\n",
       "      <td>40</td>\n",
       "      <td>74</td>\n",
       "      <td>172</td>\n",
       "      <td>5</td>\n",
       "      <td>29</td>\n",
       "      <td>66</td>\n",
       "      <td>0</td>\n",
       "    </tr>\n",
       "    <tr>\n",
       "      <th>98</th>\n",
       "      <td>Cold Water</td>\n",
       "      <td>Major Lazer</td>\n",
       "      <td>2018</td>\n",
       "      <td>93</td>\n",
       "      <td>80</td>\n",
       "      <td>61</td>\n",
       "      <td>-5</td>\n",
       "      <td>16</td>\n",
       "      <td>50</td>\n",
       "      <td>185</td>\n",
       "      <td>7</td>\n",
       "      <td>4</td>\n",
       "      <td>56</td>\n",
       "      <td>0</td>\n",
       "    </tr>\n",
       "    <tr>\n",
       "      <th>99</th>\n",
       "      <td>I Took A Pill In Ibiza - Seeb Remix</td>\n",
       "      <td>Mike Posner</td>\n",
       "      <td>2016</td>\n",
       "      <td>102</td>\n",
       "      <td>73</td>\n",
       "      <td>67</td>\n",
       "      <td>-7</td>\n",
       "      <td>9</td>\n",
       "      <td>66</td>\n",
       "      <td>198</td>\n",
       "      <td>3</td>\n",
       "      <td>10</td>\n",
       "      <td>53</td>\n",
       "      <td>0</td>\n",
       "    </tr>\n",
       "  </tbody>\n",
       "</table>\n",
       "<p>88 rows × 14 columns</p>\n",
       "</div>"
      ],
      "text/plain": [
       "                                  title           artist  year  \\\n",
       "1                      Watermelon Sugar     Harry Styles  2019   \n",
       "2                Mood (feat. iann dior)         24kGoldn  2021   \n",
       "3                     Someone You Loved    Lewis Capaldi  2019   \n",
       "4                               Perfect       Ed Sheeran  2017   \n",
       "5                              Believer  Imagine Dragons  2017   \n",
       "..                                  ...              ...   ...   \n",
       "95                            One Dance            Drake  2016   \n",
       "96                                Sugar         Maroon 5  2015   \n",
       "97                             Emotions       Mark Mendy  2021   \n",
       "98                           Cold Water      Major Lazer  2018   \n",
       "99  I Took A Pill In Ibiza - Seeb Remix      Mike Posner  2016   \n",
       "\n",
       "    beats.per.minute  energy  danceability  loudness.dB  liveness  valance  \\\n",
       "1                 95      82            55           -4        34       56   \n",
       "2                 91      72            70           -4        32       73   \n",
       "3                110      41            50           -6        11       45   \n",
       "4                 95      45            60           -6        11       17   \n",
       "5                125      78            78           -4         8       67   \n",
       "..               ...     ...           ...          ...       ...      ...   \n",
       "95               104      61            79           -6        32       43   \n",
       "96               120      79            75           -7         9       88   \n",
       "97               126      83            66           -5        40       74   \n",
       "98                93      80            61           -5        16       50   \n",
       "99               102      73            67           -7         9       66   \n",
       "\n",
       "    length  acousticness  speechiness  popularity  genre_class  \n",
       "1      174            12            5          88            0  \n",
       "2      141            17            4          88            1  \n",
       "3      182            75            3          86            0  \n",
       "4      263            16            2          86            0  \n",
       "5      204             6           13          86            2  \n",
       "..     ...           ...          ...         ...          ...  \n",
       "95     174             1            6          66            3  \n",
       "96     235             6            3          66            0  \n",
       "97     172             5           29          66            0  \n",
       "98     185             7            4          56            0  \n",
       "99     198             3           10          53            0  \n",
       "\n",
       "[88 rows x 14 columns]"
      ]
     },
     "execution_count": 18,
     "metadata": {},
     "output_type": "execute_result"
    }
   ],
   "source": [
    "values = ['canadian contemporary r&b','latin', 'electro house','australian dance','beatlesque','neo soul','brostep','irish singer-songwriter']\n",
    "df2 = df2[df2.top_genre.isin(values) == False]\n",
    "# Change genre into numeric value\n",
    "df2['genre_class'] = 0\n",
    "#Maingroup\n",
    "#Pop Class\n",
    "df2.loc[df2.top_genre == 'dance pop','genre_class'] = 0\n",
    "df2.loc[df2.top_genre == 'pop','genre_class'] = 0\n",
    "df2.loc[df2.top_genre == 'canadian pop', 'genre_class'] = 0\n",
    "df2.loc[df2.top_genre == 'electropop', 'genre_class'] = 0\n",
    "df2.loc[df2.top_genre == 'folk-pop', 'genre_class'] = 0\n",
    "df2.loc[df2.top_genre == 'danish pop', 'genre_class'] = 0\n",
    "df2.loc[df2.top_genre == 'acoustic pop', 'genre_class'] = 0\n",
    "df2.loc[df2.top_genre == 'australian pop', 'genre_class'] = 0\n",
    "df2.loc[df2.top_genre == 'pop dance','genre_class'] = 0\n",
    "df2.loc[df2.top_genre == 'boy band', 'genre_class'] = 0\n",
    "#Rap Class\n",
    "df2.loc[df2.top_genre == 'dfw rap', 'genre_class'] = 1\n",
    "df2.loc[df2.top_genre == 'melodic rap', 'genre_class'] = 1\n",
    "df2.loc[df2.top_genre == 'emo rap','genre_class'] = 1\n",
    "df2.loc[df2.top_genre == 'rap','genre_class'] = 1\n",
    "df2.loc[df2.top_genre == 'cali rap', 'genre_class'] = 1\n",
    "df2.loc[df2.top_genre == 'gangster rap','genre_class'] = 1\n",
    "df2.loc[df2.top_genre == 'chicago rap', 'genre_class'] = 1\n",
    "df2.loc[df2.top_genre == 'pop rap', 'genre_class'] = 1\n",
    "#Rock Class\n",
    "df2.loc[df2.top_genre == 'modern rock', 'genre_class'] = 2\n",
    "df2.loc[df2.top_genre == 'alternative rock', 'genre_class'] = 2\n",
    "#Hip Hop Class\n",
    "df2.loc[df2.top_genre == 'canadian hip hop', 'genre_class'] = 3 \n",
    "df2.loc[df2.top_genre == 'north carolina hip hop', 'genre_class'] = 3\n",
    "df2.loc[df2.top_genre == 'detroit hip hop', 'genre_class'] = 3\n",
    "df2.loc[df2.top_genre == 'lgbtq+ hip hop','genre_class'] = 3\n",
    "df2.loc[df2.top_genre == 'conscious hip hop', 'genre_class'] = 3\n",
    "\n",
    "\n",
    "\n",
    "#Group for all genre\n",
    "# df2.loc[df2.top_genre == 'dance pop','genre_class'] = 0\n",
    "# df2.loc[df2.top_genre == 'pop','genre_class'] = 1\n",
    "# df2.loc[df2.top_genre == 'dfw rap', 'genre_class'] = 2\n",
    "# df2.loc[df2.top_genre == 'modern rock', 'genre_class'] = 3\n",
    "# df2.loc[df2.top_genre == 'canadian pop', 'genre_class'] = 4\n",
    "# df2.loc[df2.top_genre == 'canadian contemporary r&b', 'genre_class'] = 5\n",
    "# df2.loc[df2.top_genre == 'electropop', 'genre_class'] = 6\n",
    "# df2.loc[df2.top_genre == 'melodic rap', 'genre_class'] = 7\n",
    "# df2.loc[df2.top_genre == 'latin', 'genre_class'] = 8\n",
    "# df2.loc[df2.top_genre == 'folk-pop', 'genre_class'] = 9\n",
    "# df2.loc[df2.top_genre == 'canadian hip hop', 'genre_class'] = 10\n",
    "# df2.loc[df2.top_genre == 'emo rap','genre_class'] = 11\n",
    "# df2.loc[df2.top_genre == 'rap','genre_class'] = 12\n",
    "# df2.loc[df2.top_genre == 'north carolina hip hop', 'genre_class'] = 13\n",
    "# df2.loc[df2.top_genre == 'boy band', 'genre_class'] = 14\n",
    "# df2.loc[df2.top_genre == 'detroit hip hop', 'genre_class'] = 15\n",
    "# df2.loc[df2.top_genre == 'electro house', 'genre_class'] = 16\n",
    "# df2.loc[df2.top_genre == 'australian dance', 'genre_class'] = 17\n",
    "# df2.loc[df2.top_genre == 'beatlesque', 'genre_class'] = 18\n",
    "# df2.loc[df2.top_genre == 'cali rap', 'genre_class'] = 19\n",
    "# df2.loc[df2.top_genre == 'danish pop', 'genre_class'] = 20\n",
    "# df2.loc[df2.top_genre == 'acoustic pop', 'genre_class'] = 21\n",
    "# df2.loc[df2.top_genre == 'lgbtq+ hip hop','genre_class'] = 22\n",
    "# df2.loc[df2.top_genre == 'gangster rap','genre_class'] = 23\n",
    "# df2.loc[df2.top_genre == 'chicago rap', 'genre_class'] = 24\n",
    "# df2.loc[df2.top_genre == 'australian pop', 'genre_class'] = 25\n",
    "# df2.loc[df2.top_genre == 'alternative rock', 'genre_class'] = 26\n",
    "# df2.loc[df2.top_genre == 'conscious hip hop', 'genre_class'] = 27\n",
    "# df2.loc[df2.top_genre == 'classic rock', 'genre_class'] = 28\n",
    "# df2.loc[df2.top_genre == 'neo soul', 'genre_class'] = 29\n",
    "# df2.loc[df2.top_genre == 'pop rap', 'genre_class'] = 30\n",
    "# df2.loc[df2.top_genre == 'brostep', 'genre_class'] = 31\n",
    "# df2.loc[df2.top_genre == 'irish singer-songwriter', 'genre_class'] = 32\n",
    "# df2.loc[df2.top_genre == 'pop dance','genre_class'] = 33\n",
    "\n",
    "\n",
    "df2.drop(labels=['top_genre'], axis=1)"
   ]
  },
  {
   "cell_type": "code",
   "execution_count": 19,
   "metadata": {
    "colab": {
     "base_uri": "https://localhost:8080/",
     "height": 423
    },
    "id": "V-CiIxW0UrOW",
    "outputId": "7a225ab5-b38d-4658-e478-d16a09bdca88"
   },
   "outputs": [
    {
     "data": {
      "text/html": [
       "<div>\n",
       "<style scoped>\n",
       "    .dataframe tbody tr th:only-of-type {\n",
       "        vertical-align: middle;\n",
       "    }\n",
       "\n",
       "    .dataframe tbody tr th {\n",
       "        vertical-align: top;\n",
       "    }\n",
       "\n",
       "    .dataframe thead th {\n",
       "        text-align: right;\n",
       "    }\n",
       "</style>\n",
       "<table border=\"1\" class=\"dataframe\">\n",
       "  <thead>\n",
       "    <tr style=\"text-align: right;\">\n",
       "      <th></th>\n",
       "      <th>title</th>\n",
       "      <th>artist</th>\n",
       "      <th>top_genre</th>\n",
       "      <th>year</th>\n",
       "      <th>beats.per.minute</th>\n",
       "      <th>energy</th>\n",
       "      <th>danceability</th>\n",
       "      <th>loudness.dB</th>\n",
       "      <th>liveness</th>\n",
       "      <th>valance</th>\n",
       "      <th>length</th>\n",
       "      <th>acousticness</th>\n",
       "      <th>speechiness</th>\n",
       "      <th>popularity</th>\n",
       "      <th>genre_class</th>\n",
       "    </tr>\n",
       "  </thead>\n",
       "  <tbody>\n",
       "    <tr>\n",
       "      <th>1</th>\n",
       "      <td>Watermelon Sugar</td>\n",
       "      <td>Harry Styles</td>\n",
       "      <td>pop</td>\n",
       "      <td>2019</td>\n",
       "      <td>95</td>\n",
       "      <td>82</td>\n",
       "      <td>55</td>\n",
       "      <td>-4</td>\n",
       "      <td>34</td>\n",
       "      <td>56</td>\n",
       "      <td>174</td>\n",
       "      <td>12</td>\n",
       "      <td>5</td>\n",
       "      <td>88</td>\n",
       "      <td>0</td>\n",
       "    </tr>\n",
       "    <tr>\n",
       "      <th>2</th>\n",
       "      <td>Mood (feat. iann dior)</td>\n",
       "      <td>24kGoldn</td>\n",
       "      <td>cali rap</td>\n",
       "      <td>2021</td>\n",
       "      <td>91</td>\n",
       "      <td>72</td>\n",
       "      <td>70</td>\n",
       "      <td>-4</td>\n",
       "      <td>32</td>\n",
       "      <td>73</td>\n",
       "      <td>141</td>\n",
       "      <td>17</td>\n",
       "      <td>4</td>\n",
       "      <td>88</td>\n",
       "      <td>1</td>\n",
       "    </tr>\n",
       "    <tr>\n",
       "      <th>3</th>\n",
       "      <td>Someone You Loved</td>\n",
       "      <td>Lewis Capaldi</td>\n",
       "      <td>pop</td>\n",
       "      <td>2019</td>\n",
       "      <td>110</td>\n",
       "      <td>41</td>\n",
       "      <td>50</td>\n",
       "      <td>-6</td>\n",
       "      <td>11</td>\n",
       "      <td>45</td>\n",
       "      <td>182</td>\n",
       "      <td>75</td>\n",
       "      <td>3</td>\n",
       "      <td>86</td>\n",
       "      <td>0</td>\n",
       "    </tr>\n",
       "    <tr>\n",
       "      <th>4</th>\n",
       "      <td>Perfect</td>\n",
       "      <td>Ed Sheeran</td>\n",
       "      <td>pop</td>\n",
       "      <td>2017</td>\n",
       "      <td>95</td>\n",
       "      <td>45</td>\n",
       "      <td>60</td>\n",
       "      <td>-6</td>\n",
       "      <td>11</td>\n",
       "      <td>17</td>\n",
       "      <td>263</td>\n",
       "      <td>16</td>\n",
       "      <td>2</td>\n",
       "      <td>86</td>\n",
       "      <td>0</td>\n",
       "    </tr>\n",
       "    <tr>\n",
       "      <th>5</th>\n",
       "      <td>Believer</td>\n",
       "      <td>Imagine Dragons</td>\n",
       "      <td>modern rock</td>\n",
       "      <td>2017</td>\n",
       "      <td>125</td>\n",
       "      <td>78</td>\n",
       "      <td>78</td>\n",
       "      <td>-4</td>\n",
       "      <td>8</td>\n",
       "      <td>67</td>\n",
       "      <td>204</td>\n",
       "      <td>6</td>\n",
       "      <td>13</td>\n",
       "      <td>86</td>\n",
       "      <td>2</td>\n",
       "    </tr>\n",
       "    <tr>\n",
       "      <th>...</th>\n",
       "      <td>...</td>\n",
       "      <td>...</td>\n",
       "      <td>...</td>\n",
       "      <td>...</td>\n",
       "      <td>...</td>\n",
       "      <td>...</td>\n",
       "      <td>...</td>\n",
       "      <td>...</td>\n",
       "      <td>...</td>\n",
       "      <td>...</td>\n",
       "      <td>...</td>\n",
       "      <td>...</td>\n",
       "      <td>...</td>\n",
       "      <td>...</td>\n",
       "      <td>...</td>\n",
       "    </tr>\n",
       "    <tr>\n",
       "      <th>95</th>\n",
       "      <td>One Dance</td>\n",
       "      <td>Drake</td>\n",
       "      <td>canadian hip hop</td>\n",
       "      <td>2016</td>\n",
       "      <td>104</td>\n",
       "      <td>61</td>\n",
       "      <td>79</td>\n",
       "      <td>-6</td>\n",
       "      <td>32</td>\n",
       "      <td>43</td>\n",
       "      <td>174</td>\n",
       "      <td>1</td>\n",
       "      <td>6</td>\n",
       "      <td>66</td>\n",
       "      <td>3</td>\n",
       "    </tr>\n",
       "    <tr>\n",
       "      <th>96</th>\n",
       "      <td>Sugar</td>\n",
       "      <td>Maroon 5</td>\n",
       "      <td>pop</td>\n",
       "      <td>2015</td>\n",
       "      <td>120</td>\n",
       "      <td>79</td>\n",
       "      <td>75</td>\n",
       "      <td>-7</td>\n",
       "      <td>9</td>\n",
       "      <td>88</td>\n",
       "      <td>235</td>\n",
       "      <td>6</td>\n",
       "      <td>3</td>\n",
       "      <td>66</td>\n",
       "      <td>0</td>\n",
       "    </tr>\n",
       "    <tr>\n",
       "      <th>97</th>\n",
       "      <td>Emotions</td>\n",
       "      <td>Mark Mendy</td>\n",
       "      <td>pop dance</td>\n",
       "      <td>2021</td>\n",
       "      <td>126</td>\n",
       "      <td>83</td>\n",
       "      <td>66</td>\n",
       "      <td>-5</td>\n",
       "      <td>40</td>\n",
       "      <td>74</td>\n",
       "      <td>172</td>\n",
       "      <td>5</td>\n",
       "      <td>29</td>\n",
       "      <td>66</td>\n",
       "      <td>0</td>\n",
       "    </tr>\n",
       "    <tr>\n",
       "      <th>98</th>\n",
       "      <td>Cold Water</td>\n",
       "      <td>Major Lazer</td>\n",
       "      <td>dance pop</td>\n",
       "      <td>2018</td>\n",
       "      <td>93</td>\n",
       "      <td>80</td>\n",
       "      <td>61</td>\n",
       "      <td>-5</td>\n",
       "      <td>16</td>\n",
       "      <td>50</td>\n",
       "      <td>185</td>\n",
       "      <td>7</td>\n",
       "      <td>4</td>\n",
       "      <td>56</td>\n",
       "      <td>0</td>\n",
       "    </tr>\n",
       "    <tr>\n",
       "      <th>99</th>\n",
       "      <td>I Took A Pill In Ibiza - Seeb Remix</td>\n",
       "      <td>Mike Posner</td>\n",
       "      <td>dance pop</td>\n",
       "      <td>2016</td>\n",
       "      <td>102</td>\n",
       "      <td>73</td>\n",
       "      <td>67</td>\n",
       "      <td>-7</td>\n",
       "      <td>9</td>\n",
       "      <td>66</td>\n",
       "      <td>198</td>\n",
       "      <td>3</td>\n",
       "      <td>10</td>\n",
       "      <td>53</td>\n",
       "      <td>0</td>\n",
       "    </tr>\n",
       "  </tbody>\n",
       "</table>\n",
       "<p>88 rows × 15 columns</p>\n",
       "</div>"
      ],
      "text/plain": [
       "                                  title           artist         top_genre  \\\n",
       "1                      Watermelon Sugar     Harry Styles               pop   \n",
       "2                Mood (feat. iann dior)         24kGoldn          cali rap   \n",
       "3                     Someone You Loved    Lewis Capaldi               pop   \n",
       "4                               Perfect       Ed Sheeran               pop   \n",
       "5                              Believer  Imagine Dragons       modern rock   \n",
       "..                                  ...              ...               ...   \n",
       "95                            One Dance            Drake  canadian hip hop   \n",
       "96                                Sugar         Maroon 5               pop   \n",
       "97                             Emotions       Mark Mendy         pop dance   \n",
       "98                           Cold Water      Major Lazer         dance pop   \n",
       "99  I Took A Pill In Ibiza - Seeb Remix      Mike Posner         dance pop   \n",
       "\n",
       "    year  beats.per.minute  energy  danceability  loudness.dB  liveness  \\\n",
       "1   2019                95      82            55           -4        34   \n",
       "2   2021                91      72            70           -4        32   \n",
       "3   2019               110      41            50           -6        11   \n",
       "4   2017                95      45            60           -6        11   \n",
       "5   2017               125      78            78           -4         8   \n",
       "..   ...               ...     ...           ...          ...       ...   \n",
       "95  2016               104      61            79           -6        32   \n",
       "96  2015               120      79            75           -7         9   \n",
       "97  2021               126      83            66           -5        40   \n",
       "98  2018                93      80            61           -5        16   \n",
       "99  2016               102      73            67           -7         9   \n",
       "\n",
       "    valance  length  acousticness  speechiness  popularity  genre_class  \n",
       "1        56     174            12            5          88            0  \n",
       "2        73     141            17            4          88            1  \n",
       "3        45     182            75            3          86            0  \n",
       "4        17     263            16            2          86            0  \n",
       "5        67     204             6           13          86            2  \n",
       "..      ...     ...           ...          ...         ...          ...  \n",
       "95       43     174             1            6          66            3  \n",
       "96       88     235             6            3          66            0  \n",
       "97       74     172             5           29          66            0  \n",
       "98       50     185             7            4          56            0  \n",
       "99       66     198             3           10          53            0  \n",
       "\n",
       "[88 rows x 15 columns]"
      ]
     },
     "execution_count": 19,
     "metadata": {},
     "output_type": "execute_result"
    }
   ],
   "source": [
    "df2"
   ]
  },
  {
   "cell_type": "code",
   "execution_count": 20,
   "metadata": {},
   "outputs": [
    {
     "name": "stderr",
     "output_type": "stream",
     "text": [
      "C:\\Users\\Harris\\AppData\\Local\\Temp\\ipykernel_24560\\1441594836.py:2: FutureWarning: The default value of numeric_only in DataFrame.corr is deprecated. In a future version, it will default to False. Select only valid columns or specify the value of numeric_only to silence this warning.\n",
      "  sns.heatmap(df.corr(),vmax=.3, center=0,\n"
     ]
    },
    {
     "data": {
      "image/png": "[encoded data removed]",
      "text/plain": [
       "<Figure size 1000x1000 with 2 Axes>"
      ]
     },
     "metadata": {},
     "output_type": "display_data"
    }
   ],
   "source": [
    "plt.figure(figsize=(10,10))\n",
    "sns.heatmap(df.corr(),vmax=.3, center=0,\n",
    "            square=True, linewidths=.5, cbar_kws={\"shrink\": .5},annot=True)\n",
    "plt.tight_layout()\n",
    "plt.show()"
   ]
  },
  {
   "cell_type": "code",
   "execution_count": 21,
   "metadata": {
    "colab": {
     "base_uri": "https://localhost:8080/"
    },
    "id": "nrg2kjsw8sUc",
    "outputId": "00f5aeb6-88ae-42fb-b09b-e8b43eb05bba"
   },
   "outputs": [
    {
     "name": "stdout",
     "output_type": "stream",
     "text": [
      "<class 'pandas.core.frame.DataFrame'>\n",
      "Int64Index: 88 entries, 1 to 99\n",
      "Data columns (total 15 columns):\n",
      " #   Column            Non-Null Count  Dtype \n",
      "---  ------            --------------  ----- \n",
      " 0   title             88 non-null     object\n",
      " 1   artist            88 non-null     object\n",
      " 2   top_genre         88 non-null     object\n",
      " 3   year              88 non-null     int64 \n",
      " 4   beats.per.minute  88 non-null     int64 \n",
      " 5   energy            88 non-null     int64 \n",
      " 6   danceability      88 non-null     int64 \n",
      " 7   loudness.dB       88 non-null     int64 \n",
      " 8   liveness          88 non-null     int64 \n",
      " 9   valance           88 non-null     int64 \n",
      " 10  length            88 non-null     int64 \n",
      " 11  acousticness      88 non-null     int64 \n",
      " 12  speechiness       88 non-null     int64 \n",
      " 13  popularity        88 non-null     int64 \n",
      " 14  genre_class       88 non-null     int64 \n",
      "dtypes: int64(12), object(3)\n",
      "memory usage: 11.0+ KB\n"
     ]
    }
   ],
   "source": [
    "df2.info()"
   ]
  },
  {
   "cell_type": "code",
   "execution_count": 22,
   "metadata": {
    "colab": {
     "base_uri": "https://localhost:8080/"
    },
    "id": "I1dkfYTnAA8f",
    "outputId": "f1a588da-2e2b-4fd3-a23d-02399bb82bb6"
   },
   "outputs": [
    {
     "data": {
      "text/plain": [
       "0    57\n",
       "1    18\n",
       "2     7\n",
       "3     6\n",
       "Name: genre_class, dtype: int64"
      ]
     },
     "execution_count": 22,
     "metadata": {},
     "output_type": "execute_result"
    }
   ],
   "source": [
    "df2.genre_class.value_counts()"
   ]
  },
  {
   "cell_type": "code",
   "execution_count": 23,
   "metadata": {
    "colab": {
     "base_uri": "https://localhost:8080/",
     "height": 300
    },
    "id": "f5d43tH7HEx6",
    "outputId": "3f7844d4-d1c0-4bcc-c23e-69d17658a610"
   },
   "outputs": [
    {
     "data": {
      "text/html": [
       "<div>\n",
       "<style scoped>\n",
       "    .dataframe tbody tr th:only-of-type {\n",
       "        vertical-align: middle;\n",
       "    }\n",
       "\n",
       "    .dataframe tbody tr th {\n",
       "        vertical-align: top;\n",
       "    }\n",
       "\n",
       "    .dataframe thead th {\n",
       "        text-align: right;\n",
       "    }\n",
       "</style>\n",
       "<table border=\"1\" class=\"dataframe\">\n",
       "  <thead>\n",
       "    <tr style=\"text-align: right;\">\n",
       "      <th></th>\n",
       "      <th>year</th>\n",
       "      <th>beats.per.minute</th>\n",
       "      <th>energy</th>\n",
       "      <th>danceability</th>\n",
       "      <th>loudness.dB</th>\n",
       "      <th>liveness</th>\n",
       "      <th>valance</th>\n",
       "      <th>length</th>\n",
       "      <th>acousticness</th>\n",
       "      <th>speechiness</th>\n",
       "      <th>popularity</th>\n",
       "      <th>genre_class</th>\n",
       "    </tr>\n",
       "  </thead>\n",
       "  <tbody>\n",
       "    <tr>\n",
       "      <th>count</th>\n",
       "      <td>88.000000</td>\n",
       "      <td>88.000000</td>\n",
       "      <td>88.000000</td>\n",
       "      <td>88.000000</td>\n",
       "      <td>88.000000</td>\n",
       "      <td>88.000000</td>\n",
       "      <td>88.000000</td>\n",
       "      <td>88.000000</td>\n",
       "      <td>88.000000</td>\n",
       "      <td>88.000000</td>\n",
       "      <td>88.000000</td>\n",
       "      <td>88.000000</td>\n",
       "    </tr>\n",
       "    <tr>\n",
       "      <th>mean</th>\n",
       "      <td>2016.147727</td>\n",
       "      <td>114.318182</td>\n",
       "      <td>61.897727</td>\n",
       "      <td>68.045455</td>\n",
       "      <td>-6.193182</td>\n",
       "      <td>17.534091</td>\n",
       "      <td>49.909091</td>\n",
       "      <td>212.477273</td>\n",
       "      <td>25.431818</td>\n",
       "      <td>10.068182</td>\n",
       "      <td>79.681818</td>\n",
       "      <td>0.568182</td>\n",
       "    </tr>\n",
       "    <tr>\n",
       "      <th>std</th>\n",
       "      <td>5.156270</td>\n",
       "      <td>24.846908</td>\n",
       "      <td>16.426107</td>\n",
       "      <td>13.660000</td>\n",
       "      <td>2.050276</td>\n",
       "      <td>13.634767</td>\n",
       "      <td>21.559134</td>\n",
       "      <td>37.138751</td>\n",
       "      <td>26.168682</td>\n",
       "      <td>9.659485</td>\n",
       "      <td>5.962614</td>\n",
       "      <td>0.907130</td>\n",
       "    </tr>\n",
       "    <tr>\n",
       "      <th>min</th>\n",
       "      <td>1975.000000</td>\n",
       "      <td>71.000000</td>\n",
       "      <td>11.000000</td>\n",
       "      <td>35.000000</td>\n",
       "      <td>-14.000000</td>\n",
       "      <td>3.000000</td>\n",
       "      <td>6.000000</td>\n",
       "      <td>119.000000</td>\n",
       "      <td>0.000000</td>\n",
       "      <td>2.000000</td>\n",
       "      <td>53.000000</td>\n",
       "      <td>0.000000</td>\n",
       "    </tr>\n",
       "    <tr>\n",
       "      <th>25%</th>\n",
       "      <td>2015.000000</td>\n",
       "      <td>95.000000</td>\n",
       "      <td>51.000000</td>\n",
       "      <td>60.750000</td>\n",
       "      <td>-7.000000</td>\n",
       "      <td>10.000000</td>\n",
       "      <td>34.000000</td>\n",
       "      <td>187.000000</td>\n",
       "      <td>4.000000</td>\n",
       "      <td>4.000000</td>\n",
       "      <td>79.000000</td>\n",
       "      <td>0.000000</td>\n",
       "    </tr>\n",
       "    <tr>\n",
       "      <th>50%</th>\n",
       "      <td>2017.000000</td>\n",
       "      <td>114.000000</td>\n",
       "      <td>62.000000</td>\n",
       "      <td>72.000000</td>\n",
       "      <td>-6.000000</td>\n",
       "      <td>12.000000</td>\n",
       "      <td>48.000000</td>\n",
       "      <td>207.000000</td>\n",
       "      <td>14.000000</td>\n",
       "      <td>6.000000</td>\n",
       "      <td>81.000000</td>\n",
       "      <td>0.000000</td>\n",
       "    </tr>\n",
       "    <tr>\n",
       "      <th>75%</th>\n",
       "      <td>2018.000000</td>\n",
       "      <td>134.000000</td>\n",
       "      <td>75.000000</td>\n",
       "      <td>78.000000</td>\n",
       "      <td>-5.000000</td>\n",
       "      <td>18.000000</td>\n",
       "      <td>65.250000</td>\n",
       "      <td>234.000000</td>\n",
       "      <td>44.000000</td>\n",
       "      <td>11.000000</td>\n",
       "      <td>83.000000</td>\n",
       "      <td>1.000000</td>\n",
       "    </tr>\n",
       "    <tr>\n",
       "      <th>max</th>\n",
       "      <td>2021.000000</td>\n",
       "      <td>171.000000</td>\n",
       "      <td>92.000000</td>\n",
       "      <td>91.000000</td>\n",
       "      <td>-3.000000</td>\n",
       "      <td>79.000000</td>\n",
       "      <td>93.000000</td>\n",
       "      <td>354.000000</td>\n",
       "      <td>98.000000</td>\n",
       "      <td>46.000000</td>\n",
       "      <td>88.000000</td>\n",
       "      <td>3.000000</td>\n",
       "    </tr>\n",
       "  </tbody>\n",
       "</table>\n",
       "</div>"
      ],
      "text/plain": [
       "              year  beats.per.minute     energy  danceability  loudness.dB  \\\n",
       "count    88.000000         88.000000  88.000000     88.000000    88.000000   \n",
       "mean   2016.147727        114.318182  61.897727     68.045455    -6.193182   \n",
       "std       5.156270         24.846908  16.426107     13.660000     2.050276   \n",
       "min    1975.000000         71.000000  11.000000     35.000000   -14.000000   \n",
       "25%    2015.000000         95.000000  51.000000     60.750000    -7.000000   \n",
       "50%    2017.000000        114.000000  62.000000     72.000000    -6.000000   \n",
       "75%    2018.000000        134.000000  75.000000     78.000000    -5.000000   \n",
       "max    2021.000000        171.000000  92.000000     91.000000    -3.000000   \n",
       "\n",
       "        liveness    valance      length  acousticness  speechiness  \\\n",
       "count  88.000000  88.000000   88.000000     88.000000    88.000000   \n",
       "mean   17.534091  49.909091  212.477273     25.431818    10.068182   \n",
       "std    13.634767  21.559134   37.138751     26.168682     9.659485   \n",
       "min     3.000000   6.000000  119.000000      0.000000     2.000000   \n",
       "25%    10.000000  34.000000  187.000000      4.000000     4.000000   \n",
       "50%    12.000000  48.000000  207.000000     14.000000     6.000000   \n",
       "75%    18.000000  65.250000  234.000000     44.000000    11.000000   \n",
       "max    79.000000  93.000000  354.000000     98.000000    46.000000   \n",
       "\n",
       "       popularity  genre_class  \n",
       "count   88.000000    88.000000  \n",
       "mean    79.681818     0.568182  \n",
       "std      5.962614     0.907130  \n",
       "min     53.000000     0.000000  \n",
       "25%     79.000000     0.000000  \n",
       "50%     81.000000     0.000000  \n",
       "75%     83.000000     1.000000  \n",
       "max     88.000000     3.000000  "
      ]
     },
     "execution_count": 23,
     "metadata": {},
     "output_type": "execute_result"
    }
   ],
   "source": [
    "df2.describe()"
   ]
  },
  {
   "cell_type": "markdown",
   "metadata": {
    "id": "z_J9taSWsC4q"
   },
   "source": [
    "# SPLIT THE DATASET INTO TRAIN AND TEST SET"
   ]
  },
  {
   "cell_type": "code",
   "execution_count": 24,
   "metadata": {
    "colab": {
     "base_uri": "https://localhost:8080/"
    },
    "id": "3T4ZV02K1WOe",
    "outputId": "1ea77b33-0f91-417a-9176-6c43968b7077"
   },
   "outputs": [
    {
     "name": "stdout",
     "output_type": "stream",
     "text": [
      "                    title           artist    top_genre  year  \\\n",
      "1        Watermelon Sugar     Harry Styles          pop  2019   \n",
      "2  Mood (feat. iann dior)         24kGoldn     cali rap  2021   \n",
      "3       Someone You Loved    Lewis Capaldi          pop  2019   \n",
      "4                 Perfect       Ed Sheeran          pop  2017   \n",
      "5                Believer  Imagine Dragons  modern rock  2017   \n",
      "\n",
      "   beats.per.minute  energy  danceability  loudness.dB  liveness  valance  \\\n",
      "1                95      82            55           -4        34       56   \n",
      "2                91      72            70           -4        32       73   \n",
      "3               110      41            50           -6        11       45   \n",
      "4                95      45            60           -6        11       17   \n",
      "5               125      78            78           -4         8       67   \n",
      "\n",
      "   length  acousticness  speechiness  popularity  genre_class  \n",
      "1     174            12            5          88            0  \n",
      "2     141            17            4          88            1  \n",
      "3     182            75            3          86            0  \n",
      "4     263            16            2          86            0  \n",
      "5     204             6           13          86            2  \n",
      "(88, 10) (88,)\n"
     ]
    }
   ],
   "source": [
    "#Splitting data\n",
    "import sklearn\n",
    "from sklearn.model_selection import train_test_split\n",
    "\n",
    "# head of the data\n",
    "print(df2.head())\n",
    "\n",
    "x = df2.loc[:,'beats.per.minute':'popularity']\n",
    "y = df2.loc[:,'genre_class']\n",
    "\n",
    "print(x.shape,y.shape)\n",
    "x_train, x_test, y_train, y_test = train_test_split(x, y, test_size = 0.3, random_state=0)\n",
    "\n"
   ]
  },
  {
   "cell_type": "markdown",
   "metadata": {
    "id": "wDv6T7wzsxMK"
   },
   "source": [
    "# MODEL & TECHNIQUE AND EVALUATION "
   ]
  },
  {
   "cell_type": "markdown",
   "metadata": {
    "id": "1H8E3ORogeNd"
   },
   "source": [
    "**The models with using accuracy and confusion matrix as the evaluation method**"
   ]
  },
  {
   "cell_type": "markdown",
   "metadata": {
    "id": "b0BzpuUNSnww"
   },
   "source": [
    "**1.Decision Tree**"
   ]
  },
  {
   "cell_type": "code",
   "execution_count": 25,
   "metadata": {
    "colab": {
     "base_uri": "https://localhost:8080/"
    },
    "id": "4K-Oj6ZjSqCV",
    "outputId": "bb6e22e3-d5cb-4394-c986-2d9473ccebae"
   },
   "outputs": [
    {
     "name": "stdout",
     "output_type": "stream",
     "text": [
      "0.5555555555555556\n"
     ]
    }
   ],
   "source": [
    "import sklearn.metrics as metrics\n",
    "from sklearn.tree import DecisionTreeClassifier # Import Decision Tree Classifier\n",
    "dt = DecisionTreeClassifier(criterion='entropy')\n",
    "dt.fit(x_train,y_train)\n",
    "y_predict = dt.predict(x_test)\n",
    "print(metrics.accuracy_score(y_test,y_predict))"
   ]
  },
  {
   "cell_type": "markdown",
   "metadata": {
    "id": "Rzhqsqrj2Q1D"
   },
   "source": [
    "**2.SVM**"
   ]
  },
  {
   "cell_type": "code",
   "execution_count": 26,
   "metadata": {
    "id": "NLfFmlAFDo74"
   },
   "outputs": [],
   "source": [
    "# ended up not using\n",
    "\n",
    "# from sklearn.svm import LinearSVC\n",
    "\n",
    "# clf = LinearSVC().fit(x_train, y_train)\n",
    "# print('spotify dataset')\n",
    "# print('Accuracy of Linear SVC classifier on training set: {:.2f}'\n",
    "#      .format(clf.score(x_train, y_train)))\n",
    "# print('Accuracy of Linear SVC classifier on test set: {:.2f}'\n",
    "#      .format(clf.score(x_test, y_test)))"
   ]
  },
  {
   "cell_type": "code",
   "execution_count": 27,
   "metadata": {
    "colab": {
     "base_uri": "https://localhost:8080/"
    },
    "id": "g60ZcBB-v5Y1",
    "outputId": "24c8f1f0-d300-432b-d024-5d4020541487"
   },
   "outputs": [
    {
     "data": {
      "text/plain": [
       "0.8148148148148148"
      ]
     },
     "execution_count": 27,
     "metadata": {},
     "output_type": "execute_result"
    }
   ],
   "source": [
    "svm_linear=SVC(kernel='linear', C=100,gamma=100,probability=True).fit(x_train, y_train)\n",
    "svm_linear.score(x_test,y_test)"
   ]
  },
  {
   "cell_type": "code",
   "execution_count": 28,
   "metadata": {
    "colab": {
     "base_uri": "https://localhost:8080/"
    },
    "id": "BpVsCFL2D-k_",
    "outputId": "faa9056c-28f3-4076-9a9d-b75f4e6f4d36"
   },
   "outputs": [
    {
     "data": {
      "text/plain": [
       "0.6296296296296297"
      ]
     },
     "execution_count": 28,
     "metadata": {},
     "output_type": "execute_result"
    }
   ],
   "source": [
    "svm_poly=SVC(kernel='poly', C=100,gamma=100,probability=True).fit(x_train, y_train)\n",
    "svm_poly.score(x_test,y_test)"
   ]
  },
  {
   "cell_type": "code",
   "execution_count": 29,
   "metadata": {
    "colab": {
     "base_uri": "https://localhost:8080/"
    },
    "id": "TklC0BjSEBLc",
    "outputId": "d96bca63-146a-40b9-e78e-f61f503fa1ea"
   },
   "outputs": [
    {
     "data": {
      "text/plain": [
       "0.7777777777777778"
      ]
     },
     "execution_count": 29,
     "metadata": {},
     "output_type": "execute_result"
    }
   ],
   "source": [
    "svm_sigmoid=SVC(kernel='sigmoid', C=2,gamma=3,probability=True).fit(x_train, y_train)\n",
    "svm_sigmoid.score(x_test,y_test)"
   ]
  },
  {
   "cell_type": "markdown",
   "metadata": {
    "id": "h1sYmEdIWGdf"
   },
   "source": [
    "**3.KNN**"
   ]
  },
  {
   "cell_type": "code",
   "execution_count": 30,
   "metadata": {
    "colab": {
     "base_uri": "https://localhost:8080/"
    },
    "id": "ZKo7Wn9lWFSj",
    "outputId": "fafd6e92-5e9c-41c2-c1cf-c5b0c4737096"
   },
   "outputs": [
    {
     "name": "stdout",
     "output_type": "stream",
     "text": [
      "Accuracy score of test is 0.778\n"
     ]
    }
   ],
   "source": [
    "from sklearn.neighbors import KNeighborsClassifier\n",
    "from sklearn.model_selection import cross_val_score\n",
    "from sklearn import datasets, neighbors\n",
    "from mlxtend.plotting import plot_decision_regions\n",
    "\n",
    "knn = KNeighborsClassifier(n_neighbors=54)\n",
    "knn.fit(x_train,y_train)\n",
    "knn.predict(x_test)\n",
    "accuracy_score = knn.score(x_test,y_test) \n",
    "print(\"Accuracy score of test is \"\"{:.3f}\".format(accuracy_score))\n",
    "\n",
    "\n",
    "\n",
    "\n",
    "\n"
   ]
  },
  {
   "cell_type": "code",
   "execution_count": 31,
   "metadata": {
    "colab": {
     "base_uri": "https://localhost:8080/"
    },
    "id": "31PyjxImEDg4",
    "outputId": "bec95e98-235d-486d-89ba-b772b852a6d0"
   },
   "outputs": [
    {
     "data": {
      "text/plain": [
       "array([0, 0, 0, 1, 0, 2, 0, 0, 0, 0, 0, 0, 0, 0, 0, 0, 1, 0, 0, 0, 2, 1,\n",
       "       3, 0, 0, 0, 0], dtype=int64)"
      ]
     },
     "execution_count": 31,
     "metadata": {},
     "output_type": "execute_result"
    }
   ],
   "source": [
    "np.array(y_test)"
   ]
  },
  {
   "cell_type": "code",
   "execution_count": 32,
   "metadata": {
    "colab": {
     "base_uri": "https://localhost:8080/"
    },
    "id": "050a5-SYEH0q",
    "outputId": "1b3b19e1-37d5-490d-e714-c77b8f5c23c5"
   },
   "outputs": [
    {
     "data": {
      "text/plain": [
       "array([0, 1, 0, 0, 1, 2, 3, 1, 0, 0, 1, 0, 0, 0, 0, 2, 0, 0, 0, 0, 1, 2,\n",
       "       3, 0, 0, 0, 0], dtype=int64)"
      ]
     },
     "execution_count": 32,
     "metadata": {},
     "output_type": "execute_result"
    }
   ],
   "source": [
    "#Predict the response for test dataset\n",
    "y_pred = svm_poly.predict(x_test)\n",
    "y_pred"
   ]
  },
  {
   "cell_type": "code",
   "execution_count": 33,
   "metadata": {
    "colab": {
     "base_uri": "https://localhost:8080/"
    },
    "id": "h8FNrooM6hJz",
    "outputId": "8ec02975-1457-4866-bb19-8fb62b6d430b"
   },
   "outputs": [
    {
     "data": {
      "text/plain": [
       "array([1, 0, 0, 0, 0, 2, 0, 0, 0, 0, 1, 0, 0, 0, 0, 0, 1, 0, 0, 0, 1, 1,\n",
       "       1, 0, 0, 0, 0], dtype=int64)"
      ]
     },
     "execution_count": 33,
     "metadata": {},
     "output_type": "execute_result"
    }
   ],
   "source": [
    "y_pred = svm_linear.predict(x_test)\n",
    "y_pred"
   ]
  },
  {
   "cell_type": "code",
   "execution_count": 34,
   "metadata": {
    "colab": {
     "base_uri": "https://localhost:8080/"
    },
    "id": "eMQ0RD2O6hUu",
    "outputId": "7831655c-7bb8-419d-e58d-00c256866e27"
   },
   "outputs": [
    {
     "data": {
      "text/plain": [
       "array([0, 0, 0, 0, 0, 0, 0, 0, 0, 0, 0, 0, 0, 0, 0, 0, 0, 0, 0, 0, 0, 0,\n",
       "       0, 0, 0, 0, 0], dtype=int64)"
      ]
     },
     "execution_count": 34,
     "metadata": {},
     "output_type": "execute_result"
    }
   ],
   "source": [
    "y_pred = svm_sigmoid.predict(x_test)\n",
    "y_pred"
   ]
  },
  {
   "cell_type": "code",
   "execution_count": 35,
   "metadata": {
    "colab": {
     "base_uri": "https://localhost:8080/"
    },
    "id": "XqA7JLDW6p1A",
    "outputId": "c0efec9a-c52a-4d6c-b0ff-6f24c5e92071"
   },
   "outputs": [
    {
     "data": {
      "text/plain": [
       "array([2, 0, 0, 0, 1, 1, 3, 0, 0, 0, 1, 0, 0, 0, 1, 1, 1, 0, 0, 0, 1, 1,\n",
       "       1, 1, 0, 0, 2], dtype=int64)"
      ]
     },
     "execution_count": 35,
     "metadata": {},
     "output_type": "execute_result"
    }
   ],
   "source": [
    "y_pred = dt.predict(x_test)\n",
    "y_pred"
   ]
  },
  {
   "cell_type": "code",
   "execution_count": 36,
   "metadata": {
    "colab": {
     "base_uri": "https://localhost:8080/"
    },
    "id": "2ONy1RB56p-m",
    "outputId": "09fad047-4d85-4c56-fff6-952ea893cf34"
   },
   "outputs": [
    {
     "data": {
      "text/plain": [
       "array([0, 0, 0, 0, 0, 0, 0, 0, 0, 0, 0, 0, 0, 0, 0, 0, 0, 0, 0, 0, 0, 0,\n",
       "       0, 0, 0, 0, 0], dtype=int64)"
      ]
     },
     "execution_count": 36,
     "metadata": {},
     "output_type": "execute_result"
    }
   ],
   "source": [
    "y_pred = knn.predict(x_test)\n",
    "y_pred"
   ]
  },
  {
   "cell_type": "code",
   "execution_count": 37,
   "metadata": {
    "colab": {
     "base_uri": "https://localhost:8080/"
    },
    "id": "pJARWQ3fEKMb",
    "outputId": "ce541542-4f8f-43b4-ee10-dc8147e92c84"
   },
   "outputs": [
    {
     "name": "stdout",
     "output_type": "stream",
     "text": [
      "Accuracy: 0.7777777777777778\n"
     ]
    }
   ],
   "source": [
    "from sklearn import metrics\n",
    "\n",
    "# Model Accuracy: how often is the classifier correct?\n",
    "print(\"Accuracy:\",metrics.accuracy_score(y_test, y_pred))"
   ]
  },
  {
   "cell_type": "code",
   "execution_count": 38,
   "metadata": {
    "colab": {
     "base_uri": "https://localhost:8080/",
     "height": 712
    },
    "id": "M-I7nsb9EMfX",
    "outputId": "bcceea5b-d7cf-4b7d-e2d2-378ae0855752"
   },
   "outputs": [
    {
     "name": "stdout",
     "output_type": "stream",
     "text": [
      "-0.22727272727272685\n",
      "0.2139655192241694\n"
     ]
    },
    {
     "ename": "TypeError",
     "evalue": "regplot() takes from 0 to 1 positional arguments but 2 positional arguments (and 2 keyword-only arguments) were given",
     "output_type": "error",
     "traceback": [
      "\u001b[1;31m---------------------------------------------------------------------------\u001b[0m",
      "\u001b[1;31mTypeError\u001b[0m                                 Traceback (most recent call last)",
      "Cell \u001b[1;32mIn [38], line 8\u001b[0m\n\u001b[0;32m      5\u001b[0m \u001b[38;5;28mprint\u001b[39m(metrics\u001b[38;5;241m.\u001b[39mmean_squared_log_error(y_test, y_pred))\n\u001b[0;32m      7\u001b[0m plt\u001b[38;5;241m.\u001b[39mfigure(figsize\u001b[38;5;241m=\u001b[39m(\u001b[38;5;241m10\u001b[39m,\u001b[38;5;241m10\u001b[39m))\n\u001b[1;32m----> 8\u001b[0m \u001b[43msns\u001b[49m\u001b[38;5;241;43m.\u001b[39;49m\u001b[43mregplot\u001b[49m\u001b[43m(\u001b[49m\u001b[43my_test\u001b[49m\u001b[43m,\u001b[49m\u001b[43m \u001b[49m\u001b[43my_pred\u001b[49m\u001b[43m,\u001b[49m\u001b[43m \u001b[49m\u001b[43mfit_reg\u001b[49m\u001b[38;5;241;43m=\u001b[39;49m\u001b[38;5;28;43;01mTrue\u001b[39;49;00m\u001b[43m,\u001b[49m\u001b[43m \u001b[49m\u001b[43mscatter_kws\u001b[49m\u001b[38;5;241;43m=\u001b[39;49m\u001b[43m{\u001b[49m\u001b[38;5;124;43m\"\u001b[39;49m\u001b[38;5;124;43ms\u001b[39;49m\u001b[38;5;124;43m\"\u001b[39;49m\u001b[43m:\u001b[49m\u001b[43m \u001b[49m\u001b[38;5;241;43m100\u001b[39;49m\u001b[43m}\u001b[49m\u001b[43m)\u001b[49m\n",
      "\u001b[1;31mTypeError\u001b[0m: regplot() takes from 0 to 1 positional arguments but 2 positional arguments (and 2 keyword-only arguments) were given"
     ]
    },
    {
     "data": {
      "text/plain": [
       "<Figure size 1000x1000 with 0 Axes>"
      ]
     },
     "metadata": {},
     "output_type": "display_data"
    }
   ],
   "source": [
    "import matplotlib.pyplot as plt\n",
    "import seaborn as sns\n",
    "\n",
    "print(metrics.r2_score(y_test, y_pred))\n",
    "print(metrics.mean_squared_log_error(y_test, y_pred))\n",
    "\n",
    "plt.figure(figsize=(10,10))\n",
    "sns.regplot(y_test, y_pred, fit_reg=True, scatter_kws={\"s\": 100})"
   ]
  },
  {
   "cell_type": "code",
   "execution_count": null,
   "metadata": {
    "colab": {
     "base_uri": "https://localhost:8080/",
     "height": 425
    },
    "id": "wJ42-wsFENMq",
    "outputId": "e3861447-fc51-4223-af76-d472ced088b5"
   },
   "outputs": [],
   "source": [
    "df2.corr()"
   ]
  },
  {
   "cell_type": "code",
   "execution_count": null,
   "metadata": {
    "colab": {
     "base_uri": "https://localhost:8080/"
    },
    "id": "DeYAou_wERr9",
    "outputId": "3d505cf7-3759-44d6-f7f4-b650c652b80d"
   },
   "outputs": [],
   "source": [
    "from sklearn.metrics import classification_report, confusion_matrix\n",
    "print(classification_report(y_test, y_pred))"
   ]
  },
  {
   "cell_type": "code",
   "execution_count": null,
   "metadata": {
    "colab": {
     "base_uri": "https://localhost:8080/",
     "height": 458
    },
    "id": "-Yn_z7T8ESOs",
    "outputId": "ac55b0fb-5bc1-43a2-c12e-af8b7c686c21"
   },
   "outputs": [],
   "source": [
    "cm = confusion_matrix(y_test, y_pred)\n",
    " \n",
    "# plotting confusion matrix\n",
    "%matplotlib inline\n",
    "plt.figure (figsize=(10,7))\n",
    "sns.heatmap(cm, annot=True)\n",
    "plt.xlabel('Predicted')\n",
    "plt.ylabel('Truth')"
   ]
  },
  {
   "cell_type": "markdown",
   "metadata": {
    "id": "XNFnrtq5PqLl"
   },
   "source": [
    "# Predict data"
   ]
  },
  {
   "cell_type": "markdown",
   "metadata": {
    "id": "OtcyNEXJPtpN"
   },
   "source": [
    "**Predict the genre from dataset**"
   ]
  },
  {
   "cell_type": "code",
   "execution_count": null,
   "metadata": {
    "colab": {
     "base_uri": "https://localhost:8080/",
     "height": 81
    },
    "id": "eALJ9gpLEWJN",
    "outputId": "659a4f4e-56dc-49e8-85fd-72194a6f8e22"
   },
   "outputs": [],
   "source": [
    "df2.loc[[3]]"
   ]
  },
  {
   "cell_type": "code",
   "execution_count": null,
   "metadata": {
    "colab": {
     "base_uri": "https://localhost:8080/",
     "height": 896
    },
    "id": "fsRlHqrtdKV0",
    "outputId": "b3becfe4-6379-4b77-93dc-59ff0c19f063"
   },
   "outputs": [],
   "source": [
    "x_test"
   ]
  },
  {
   "cell_type": "code",
   "execution_count": null,
   "metadata": {
    "colab": {
     "base_uri": "https://localhost:8080/"
    },
    "id": "_K99j3ZJdczL",
    "outputId": "e1ae8463-cd91-4ed2-cbe6-36ff7723f314"
   },
   "outputs": [],
   "source": [
    "y_test"
   ]
  },
  {
   "cell_type": "code",
   "execution_count": null,
   "metadata": {
    "colab": {
     "base_uri": "https://localhost:8080/"
    },
    "id": "p-9oIfZaxcmY",
    "outputId": "9751fae2-59fd-41f4-cd14-a309c7fdba44"
   },
   "outputs": [],
   "source": [
    "res = dt.predict(x_test.loc[[3]])\n",
    "res"
   ]
  },
  {
   "cell_type": "code",
   "execution_count": null,
   "metadata": {
    "colab": {
     "base_uri": "https://localhost:8080/"
    },
    "id": "52iwIiggxAGJ",
    "outputId": "4e5f2234-6519-44f6-d41f-4df3f87bf76c"
   },
   "outputs": [],
   "source": [
    "res = svm_linear.predict(x_test.loc[[3]])\n",
    "res"
   ]
  },
  {
   "cell_type": "code",
   "execution_count": null,
   "metadata": {
    "colab": {
     "base_uri": "https://localhost:8080/"
    },
    "id": "M_JqPxbQxAOc",
    "outputId": "211ff20c-19be-4858-ac6f-e3a02ed323c4"
   },
   "outputs": [],
   "source": [
    "res = svm_sigmoid.predict(x_test.loc[[3]])\n",
    "res"
   ]
  },
  {
   "cell_type": "code",
   "execution_count": null,
   "metadata": {
    "colab": {
     "base_uri": "https://localhost:8080/"
    },
    "id": "_yblAx29EWut",
    "outputId": "785c0e72-9416-4ed8-8346-cd3770778124"
   },
   "outputs": [],
   "source": [
    "res = svm_poly.predict(x_test.loc[[3]])\n",
    "res"
   ]
  },
  {
   "cell_type": "code",
   "execution_count": null,
   "metadata": {
    "colab": {
     "base_uri": "https://localhost:8080/"
    },
    "id": "fj-Q2ZazboqH",
    "outputId": "a7253106-c73a-436b-c49e-4329ffe09871"
   },
   "outputs": [],
   "source": [
    "res = knn.predict(x_test.loc[[3]])\n",
    "res"
   ]
  },
  {
   "cell_type": "markdown",
   "metadata": {
    "id": "w6cgRfFqP93-"
   },
   "source": [
    "**Predict genre from dummy data**"
   ]
  },
  {
   "cell_type": "code",
   "execution_count": null,
   "metadata": {
    "id": "BZUGr1kLEYpH"
   },
   "outputs": [],
   "source": [
    "column_names = x_test.columns.values.tolist()"
   ]
  },
  {
   "cell_type": "code",
   "execution_count": null,
   "metadata": {
    "colab": {
     "base_uri": "https://localhost:8080/"
    },
    "id": "LgEwnkO1EcV5",
    "outputId": "c42f4831-0130-4aa3-c7a7-2d68d3a84bbe"
   },
   "outputs": [],
   "source": [
    "column_names"
   ]
  },
  {
   "cell_type": "code",
   "execution_count": null,
   "metadata": {
    "id": "ujIfQnr2Ec3c"
   },
   "outputs": [],
   "source": [
    "data = {\n",
    " 'beats.per.minute' :[100],\n",
    " 'energy' :[85],\n",
    " 'danceability' :[75],\n",
    " 'loudness.dB' :[-4],\n",
    " 'liveness' :[9],\n",
    " 'valance' :[70],\n",
    " 'length' :[207],\n",
    " 'acousticness' :[7],\n",
    " 'speechiness' :[18],\n",
    " 'popularity' :[86],\n",
    "\n",
    "}"
   ]
  },
  {
   "cell_type": "code",
   "execution_count": null,
   "metadata": {
    "id": "j3raNquAHrOQ"
   },
   "outputs": [],
   "source": [
    "df_test = pd.DataFrame(data)"
   ]
  },
  {
   "cell_type": "code",
   "execution_count": null,
   "metadata": {
    "colab": {
     "base_uri": "https://localhost:8080/",
     "height": 81
    },
    "id": "0gqtffLDbzad",
    "outputId": "988555f8-4941-49d3-8ecc-0997adfa48e3"
   },
   "outputs": [],
   "source": [
    "df_test"
   ]
  },
  {
   "cell_type": "code",
   "execution_count": null,
   "metadata": {
    "colab": {
     "base_uri": "https://localhost:8080/"
    },
    "id": "j6lBIy1dxZtv",
    "outputId": "e7cc4144-e742-4288-9bca-dea61790b031"
   },
   "outputs": [],
   "source": [
    "res = dt.predict(df_test)\n",
    "res"
   ]
  },
  {
   "cell_type": "code",
   "execution_count": null,
   "metadata": {
    "colab": {
     "base_uri": "https://localhost:8080/"
    },
    "id": "pwIWBUShxTCJ",
    "outputId": "ed09c3ef-a1b1-415a-cb2b-806a4c1841ec"
   },
   "outputs": [],
   "source": [
    "res = svm_linear.predict(df_test)\n",
    "res"
   ]
  },
  {
   "cell_type": "code",
   "execution_count": null,
   "metadata": {
    "colab": {
     "base_uri": "https://localhost:8080/"
    },
    "id": "oF2WbA5ZxTJY",
    "outputId": "fa9182e4-1893-4068-def6-e91147b624ed"
   },
   "outputs": [],
   "source": [
    "res = svm_sigmoid.predict(df_test)\n",
    "res"
   ]
  },
  {
   "cell_type": "code",
   "execution_count": null,
   "metadata": {
    "colab": {
     "base_uri": "https://localhost:8080/"
    },
    "id": "2qgmZdrXHuUq",
    "outputId": "6eee86ce-201a-4201-c39a-c903a373b936"
   },
   "outputs": [],
   "source": [
    "res = svm_poly.predict(df_test)\n",
    "res"
   ]
  },
  {
   "cell_type": "code",
   "execution_count": null,
   "metadata": {
    "colab": {
     "base_uri": "https://localhost:8080/"
    },
    "id": "hLmMVKFUbvY9",
    "outputId": "12243b30-c02a-40bd-b27a-662a3879de4b"
   },
   "outputs": [],
   "source": [
    "res = knn.predict(df_test)\n",
    "res"
   ]
  },
  {
   "cell_type": "code",
   "execution_count": null,
   "metadata": {
    "colab": {
     "base_uri": "https://localhost:8080/",
     "height": 81
    },
    "id": "6nGuIe86Ei9Q",
    "outputId": "45c43eab-fe19-4a56-8058-193c2986180d"
   },
   "outputs": [],
   "source": [
    "data = {\n",
    " 'beats.per.minute' :[114],\n",
    " 'energy' :[62],\n",
    " 'danceability' :[68],\n",
    " 'loudness.dB' :[-6],\n",
    " 'liveness' :[17],\n",
    " 'valance' :[50],\n",
    " 'length' :[212],\n",
    " 'acousticness' :[25],\n",
    " 'speechiness' :[10],\n",
    " 'popularity' :[80]\n",
    "}\n",
    "df_test = pd.DataFrame(data)\n",
    "df_test"
   ]
  },
  {
   "cell_type": "code",
   "execution_count": null,
   "metadata": {
    "colab": {
     "base_uri": "https://localhost:8080/"
    },
    "id": "JKh63ZTDEzgb",
    "outputId": "3e13b883-6a35-44a0-fbea-4af35880333f"
   },
   "outputs": [],
   "source": [
    "res = dt.predict(df_test)\n",
    "res"
   ]
  },
  {
   "cell_type": "code",
   "execution_count": null,
   "metadata": {
    "colab": {
     "base_uri": "https://localhost:8080/"
    },
    "id": "FwLuQWQzFCnr",
    "outputId": "f40cbcda-6b05-4626-c7c0-02005715b291"
   },
   "outputs": [],
   "source": [
    "res0 = svm_linear.predict(df_test)\n",
    "res0"
   ]
  },
  {
   "cell_type": "code",
   "execution_count": null,
   "metadata": {
    "colab": {
     "base_uri": "https://localhost:8080/"
    },
    "id": "53Lok85qFCxu",
    "outputId": "780f370f-abf2-4afb-ab32-9ae4468f3918"
   },
   "outputs": [],
   "source": [
    "res1 = svm_sigmoid.predict(df_test)\n",
    "res1"
   ]
  },
  {
   "cell_type": "code",
   "execution_count": null,
   "metadata": {
    "colab": {
     "base_uri": "https://localhost:8080/"
    },
    "id": "VKiF8CMPFC6y",
    "outputId": "6f25bd12-7189-429e-e953-cf109d2939dc"
   },
   "outputs": [],
   "source": [
    "res2 = svm_poly.predict(df_test)\n",
    "res2"
   ]
  },
  {
   "cell_type": "code",
   "execution_count": null,
   "metadata": {
    "colab": {
     "base_uri": "https://localhost:8080/"
    },
    "id": "ZfZNvCzYFDB8",
    "outputId": "31d80703-e6c3-4389-dd20-7c9ea031cc14"
   },
   "outputs": [],
   "source": [
    "res3 = knn.predict(df_test)\n",
    "res3"
   ]
  }
 ],
 "metadata": {
  "colab": {
   "provenance": []
  },
  "kernelspec": {
   "display_name": "Python 3 (ipykernel)",
   "language": "python",
   "name": "python3"
  },
  "language_info": {
   "codemirror_mode": {
    "name": "ipython",
    "version": 3
   },
   "file_extension": ".py",
   "mimetype": "text/x-python",
   "name": "python",
   "nbconvert_exporter": "python",
   "pygments_lexer": "ipython3",
   "version": "3.9.4"
  }
 },
 "nbformat": 4,
 "nbformat_minor": 1
}
